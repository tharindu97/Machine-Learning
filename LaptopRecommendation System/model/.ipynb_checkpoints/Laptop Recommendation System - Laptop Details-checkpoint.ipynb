{
 "cells": [
  {
   "cell_type": "code",
   "execution_count": 1,
   "id": "dda3535c",
   "metadata": {},
   "outputs": [
    {
     "name": "stdout",
     "output_type": "stream",
     "text": [
      "Requirement already satisfied: numpy in c:\\users\\hp\\desktop\\my\\machine-learning\\laptoprecommendation system\\model\\env\\lib\\site-packages (1.22.3)\n",
      "Requirement already satisfied: pandas in c:\\users\\hp\\desktop\\my\\machine-learning\\laptoprecommendation system\\model\\env\\lib\\site-packages (1.4.1)\n",
      "Requirement already satisfied: pytz>=2020.1 in c:\\users\\hp\\desktop\\my\\machine-learning\\laptoprecommendation system\\model\\env\\lib\\site-packages (from pandas) (2021.3)\n",
      "Requirement already satisfied: python-dateutil>=2.8.1 in c:\\users\\hp\\desktop\\my\\machine-learning\\laptoprecommendation system\\model\\env\\lib\\site-packages (from pandas) (2.8.2)\n",
      "Requirement already satisfied: numpy>=1.21.0 in c:\\users\\hp\\desktop\\my\\machine-learning\\laptoprecommendation system\\model\\env\\lib\\site-packages (from pandas) (1.22.3)\n",
      "Requirement already satisfied: six>=1.5 in c:\\users\\hp\\desktop\\my\\machine-learning\\laptoprecommendation system\\model\\env\\lib\\site-packages (from python-dateutil>=2.8.1->pandas) (1.16.0)\n",
      "Requirement already satisfied: sklearn in c:\\users\\hp\\desktop\\my\\machine-learning\\laptoprecommendation system\\model\\env\\lib\\site-packages (0.0)\n",
      "Requirement already satisfied: scikit-learn in c:\\users\\hp\\desktop\\my\\machine-learning\\laptoprecommendation system\\model\\env\\lib\\site-packages (from sklearn) (1.0.2)\n",
      "Requirement already satisfied: numpy>=1.14.6 in c:\\users\\hp\\desktop\\my\\machine-learning\\laptoprecommendation system\\model\\env\\lib\\site-packages (from scikit-learn->sklearn) (1.22.3)\n",
      "Requirement already satisfied: joblib>=0.11 in c:\\users\\hp\\desktop\\my\\machine-learning\\laptoprecommendation system\\model\\env\\lib\\site-packages (from scikit-learn->sklearn) (1.1.0)\n",
      "Requirement already satisfied: scipy>=1.1.0 in c:\\users\\hp\\desktop\\my\\machine-learning\\laptoprecommendation system\\model\\env\\lib\\site-packages (from scikit-learn->sklearn) (1.8.0)\n",
      "Requirement already satisfied: threadpoolctl>=2.0.0 in c:\\users\\hp\\desktop\\my\\machine-learning\\laptoprecommendation system\\model\\env\\lib\\site-packages (from scikit-learn->sklearn) (3.1.0)\n"
     ]
    }
   ],
   "source": [
    "!pip install numpy\n",
    "!pip install pandas\n",
    "!pip install sklearn"
   ]
  },
  {
   "cell_type": "code",
   "execution_count": 2,
   "id": "e127d22f",
   "metadata": {},
   "outputs": [],
   "source": [
    "import numpy as np\n",
    "import pandas as pd"
   ]
  },
  {
   "cell_type": "code",
   "execution_count": 3,
   "id": "62df6a14",
   "metadata": {},
   "outputs": [],
   "source": [
    "url = \"https://raw.githubusercontent.com/tharindu97/Machine-Learning/main/laptops.csv\"\n",
    "# url = \"https://raw.githubusercontent.com/tharindu97/Machine-Learning/main/sample_laptops.csv\"\n",
    "data = pd.read_csv(url, encoding='latin-1')"
   ]
  },
  {
   "cell_type": "code",
   "execution_count": 4,
   "id": "7ea66959",
   "metadata": {},
   "outputs": [
    {
     "data": {
      "text/html": [
       "<div>\n",
       "<style scoped>\n",
       "    .dataframe tbody tr th:only-of-type {\n",
       "        vertical-align: middle;\n",
       "    }\n",
       "\n",
       "    .dataframe tbody tr th {\n",
       "        vertical-align: top;\n",
       "    }\n",
       "\n",
       "    .dataframe thead th {\n",
       "        text-align: right;\n",
       "    }\n",
       "</style>\n",
       "<table border=\"1\" class=\"dataframe\">\n",
       "  <thead>\n",
       "    <tr style=\"text-align: right;\">\n",
       "      <th></th>\n",
       "      <th>Brand</th>\n",
       "      <th>Model</th>\n",
       "      <th>Processor</th>\n",
       "      <th>RAM</th>\n",
       "      <th>Storage Capacity</th>\n",
       "      <th>Display Size</th>\n",
       "      <th>OS</th>\n",
       "      <th>GPU</th>\n",
       "      <th>Weight</th>\n",
       "      <th>Warranty</th>\n",
       "      <th>Price</th>\n",
       "      <th>Unnamed: 11</th>\n",
       "    </tr>\n",
       "  </thead>\n",
       "  <tbody>\n",
       "    <tr>\n",
       "      <th>0</th>\n",
       "      <td>Hp</td>\n",
       "      <td>HP 15s-GR0514AU</td>\n",
       "      <td>ATHLON 3050U</td>\n",
       "      <td>8GB</td>\n",
       "      <td>1TB</td>\n",
       "      <td>15.6\"</td>\n",
       "      <td>Windows 11</td>\n",
       "      <td>Intel</td>\n",
       "      <td>1.7</td>\n",
       "      <td>2</td>\n",
       "      <td>99000.0</td>\n",
       "      <td>NaN</td>\n",
       "    </tr>\n",
       "    <tr>\n",
       "      <th>1</th>\n",
       "      <td>Hp</td>\n",
       "      <td>HP 15s-DU3561TU</td>\n",
       "      <td>Intel Core i5</td>\n",
       "      <td>8GB</td>\n",
       "      <td>1TB</td>\n",
       "      <td>15.6\"</td>\n",
       "      <td>Windows 11</td>\n",
       "      <td>Intel</td>\n",
       "      <td>1.7</td>\n",
       "      <td>2</td>\n",
       "      <td>172000.0</td>\n",
       "      <td>NaN</td>\n",
       "    </tr>\n",
       "  </tbody>\n",
       "</table>\n",
       "</div>"
      ],
      "text/plain": [
       "  Brand            Model      Processor  RAM Storage Capacity Display Size  \\\n",
       "0    Hp  HP 15s-GR0514AU   ATHLON 3050U  8GB              1TB        15.6\"   \n",
       "1    Hp  HP 15s-DU3561TU  Intel Core i5  8GB              1TB        15.6\"   \n",
       "\n",
       "           OS     GPU  Weight  Warranty     Price  Unnamed: 11  \n",
       "0  Windows 11  Intel      1.7         2   99000.0          NaN  \n",
       "1  Windows 11  Intel      1.7         2  172000.0          NaN  "
      ]
     },
     "execution_count": 4,
     "metadata": {},
     "output_type": "execute_result"
    }
   ],
   "source": [
    "data.head(2)"
   ]
  },
  {
   "cell_type": "markdown",
   "id": "9d3e66bc",
   "metadata": {},
   "source": [
    "# Drop unnecessary columns"
   ]
  },
  {
   "cell_type": "code",
   "execution_count": 5,
   "id": "d23e879f",
   "metadata": {},
   "outputs": [],
   "source": [
    "data = data.drop(columns=['Unnamed: 11'])\n",
    "# data.drop(data.index[161:1461], inplace=True)"
   ]
  },
  {
   "cell_type": "code",
   "execution_count": 6,
   "id": "171cc51a",
   "metadata": {},
   "outputs": [
    {
     "data": {
      "text/html": [
       "<div>\n",
       "<style scoped>\n",
       "    .dataframe tbody tr th:only-of-type {\n",
       "        vertical-align: middle;\n",
       "    }\n",
       "\n",
       "    .dataframe tbody tr th {\n",
       "        vertical-align: top;\n",
       "    }\n",
       "\n",
       "    .dataframe thead th {\n",
       "        text-align: right;\n",
       "    }\n",
       "</style>\n",
       "<table border=\"1\" class=\"dataframe\">\n",
       "  <thead>\n",
       "    <tr style=\"text-align: right;\">\n",
       "      <th></th>\n",
       "      <th>Brand</th>\n",
       "      <th>Model</th>\n",
       "      <th>Processor</th>\n",
       "      <th>RAM</th>\n",
       "      <th>Storage Capacity</th>\n",
       "      <th>Display Size</th>\n",
       "      <th>OS</th>\n",
       "      <th>GPU</th>\n",
       "      <th>Weight</th>\n",
       "      <th>Warranty</th>\n",
       "      <th>Price</th>\n",
       "    </tr>\n",
       "  </thead>\n",
       "  <tbody>\n",
       "    <tr>\n",
       "      <th>0</th>\n",
       "      <td>Hp</td>\n",
       "      <td>HP 15s-GR0514AU</td>\n",
       "      <td>ATHLON 3050U</td>\n",
       "      <td>8GB</td>\n",
       "      <td>1TB</td>\n",
       "      <td>15.6\"</td>\n",
       "      <td>Windows 11</td>\n",
       "      <td>Intel</td>\n",
       "      <td>1.7</td>\n",
       "      <td>2</td>\n",
       "      <td>99000.0</td>\n",
       "    </tr>\n",
       "    <tr>\n",
       "      <th>1</th>\n",
       "      <td>Hp</td>\n",
       "      <td>HP 15s-DU3561TU</td>\n",
       "      <td>Intel Core i5</td>\n",
       "      <td>8GB</td>\n",
       "      <td>1TB</td>\n",
       "      <td>15.6\"</td>\n",
       "      <td>Windows 11</td>\n",
       "      <td>Intel</td>\n",
       "      <td>1.7</td>\n",
       "      <td>2</td>\n",
       "      <td>172000.0</td>\n",
       "    </tr>\n",
       "  </tbody>\n",
       "</table>\n",
       "</div>"
      ],
      "text/plain": [
       "  Brand            Model      Processor  RAM Storage Capacity Display Size  \\\n",
       "0    Hp  HP 15s-GR0514AU   ATHLON 3050U  8GB              1TB        15.6\"   \n",
       "1    Hp  HP 15s-DU3561TU  Intel Core i5  8GB              1TB        15.6\"   \n",
       "\n",
       "           OS     GPU  Weight  Warranty     Price  \n",
       "0  Windows 11  Intel      1.7         2   99000.0  \n",
       "1  Windows 11  Intel      1.7         2  172000.0  "
      ]
     },
     "execution_count": 6,
     "metadata": {},
     "output_type": "execute_result"
    }
   ],
   "source": [
    "data.head(2)"
   ]
  },
  {
   "cell_type": "markdown",
   "id": "b24a6bb8",
   "metadata": {},
   "source": [
    "# Data Analysis"
   ]
  },
  {
   "cell_type": "code",
   "execution_count": 7,
   "id": "ee11c7f1",
   "metadata": {},
   "outputs": [
    {
     "data": {
      "text/plain": [
       "Brand               0\n",
       "Model               0\n",
       "Processor           0\n",
       "RAM                 0\n",
       "Storage Capacity    0\n",
       "Display Size        0\n",
       "OS                  0\n",
       "GPU                 0\n",
       "Weight              0\n",
       "Warranty            0\n",
       "Price               0\n",
       "dtype: int64"
      ]
     },
     "execution_count": 7,
     "metadata": {},
     "output_type": "execute_result"
    }
   ],
   "source": [
    "data.isnull().sum()"
   ]
  },
  {
   "cell_type": "code",
   "execution_count": 8,
   "id": "588c32f6",
   "metadata": {},
   "outputs": [
    {
     "name": "stdout",
     "output_type": "stream",
     "text": [
      "<class 'pandas.core.frame.DataFrame'>\n",
      "RangeIndex: 1462 entries, 0 to 1461\n",
      "Data columns (total 11 columns):\n",
      " #   Column            Non-Null Count  Dtype  \n",
      "---  ------            --------------  -----  \n",
      " 0   Brand             1462 non-null   object \n",
      " 1   Model             1462 non-null   object \n",
      " 2   Processor         1462 non-null   object \n",
      " 3   RAM               1462 non-null   object \n",
      " 4   Storage Capacity  1462 non-null   object \n",
      " 5   Display Size      1462 non-null   object \n",
      " 6   OS                1462 non-null   object \n",
      " 7   GPU               1462 non-null   object \n",
      " 8   Weight            1462 non-null   float64\n",
      " 9   Warranty          1462 non-null   int64  \n",
      " 10  Price             1462 non-null   float64\n",
      "dtypes: float64(2), int64(1), object(8)\n",
      "memory usage: 125.8+ KB\n"
     ]
    }
   ],
   "source": [
    "data.info()"
   ]
  },
  {
   "cell_type": "code",
   "execution_count": 9,
   "id": "02c291f3",
   "metadata": {},
   "outputs": [],
   "source": [
    "data['Display Size'] = data['Display Size'].str.replace('\"','').astype('float64')\n",
    "data['RAM'] = data['RAM'].str.replace('GB','').astype('int32')"
   ]
  },
  {
   "cell_type": "code",
   "execution_count": 10,
   "id": "7649ec7f",
   "metadata": {},
   "outputs": [
    {
     "data": {
      "text/html": [
       "<div>\n",
       "<style scoped>\n",
       "    .dataframe tbody tr th:only-of-type {\n",
       "        vertical-align: middle;\n",
       "    }\n",
       "\n",
       "    .dataframe tbody tr th {\n",
       "        vertical-align: top;\n",
       "    }\n",
       "\n",
       "    .dataframe thead th {\n",
       "        text-align: right;\n",
       "    }\n",
       "</style>\n",
       "<table border=\"1\" class=\"dataframe\">\n",
       "  <thead>\n",
       "    <tr style=\"text-align: right;\">\n",
       "      <th></th>\n",
       "      <th>Brand</th>\n",
       "      <th>Model</th>\n",
       "      <th>Processor</th>\n",
       "      <th>RAM</th>\n",
       "      <th>Storage Capacity</th>\n",
       "      <th>Display Size</th>\n",
       "      <th>OS</th>\n",
       "      <th>GPU</th>\n",
       "      <th>Weight</th>\n",
       "      <th>Warranty</th>\n",
       "      <th>Price</th>\n",
       "    </tr>\n",
       "  </thead>\n",
       "  <tbody>\n",
       "    <tr>\n",
       "      <th>0</th>\n",
       "      <td>Hp</td>\n",
       "      <td>HP 15s-GR0514AU</td>\n",
       "      <td>ATHLON 3050U</td>\n",
       "      <td>8</td>\n",
       "      <td>1TB</td>\n",
       "      <td>15.6</td>\n",
       "      <td>Windows 11</td>\n",
       "      <td>Intel</td>\n",
       "      <td>1.7</td>\n",
       "      <td>2</td>\n",
       "      <td>99000.0</td>\n",
       "    </tr>\n",
       "    <tr>\n",
       "      <th>1</th>\n",
       "      <td>Hp</td>\n",
       "      <td>HP 15s-DU3561TU</td>\n",
       "      <td>Intel Core i5</td>\n",
       "      <td>8</td>\n",
       "      <td>1TB</td>\n",
       "      <td>15.6</td>\n",
       "      <td>Windows 11</td>\n",
       "      <td>Intel</td>\n",
       "      <td>1.7</td>\n",
       "      <td>2</td>\n",
       "      <td>172000.0</td>\n",
       "    </tr>\n",
       "  </tbody>\n",
       "</table>\n",
       "</div>"
      ],
      "text/plain": [
       "  Brand            Model      Processor  RAM Storage Capacity  Display Size  \\\n",
       "0    Hp  HP 15s-GR0514AU   ATHLON 3050U    8              1TB          15.6   \n",
       "1    Hp  HP 15s-DU3561TU  Intel Core i5    8              1TB          15.6   \n",
       "\n",
       "           OS     GPU  Weight  Warranty     Price  \n",
       "0  Windows 11  Intel      1.7         2   99000.0  \n",
       "1  Windows 11  Intel      1.7         2  172000.0  "
      ]
     },
     "execution_count": 10,
     "metadata": {},
     "output_type": "execute_result"
    }
   ],
   "source": [
    "data.head(2)"
   ]
  },
  {
   "cell_type": "code",
   "execution_count": 11,
   "id": "63645431",
   "metadata": {},
   "outputs": [
    {
     "data": {
      "text/plain": [
       "Dell         337\n",
       "Lenovo       308\n",
       "HP           274\n",
       "Asus         198\n",
       "Acer         108\n",
       "MSI           73\n",
       "Toshiba       48\n",
       "Hp            40\n",
       "Apple         25\n",
       "Samsung        9\n",
       "Razer          7\n",
       "Mediacom       7\n",
       "Microsoft      6\n",
       "Xiaomi         4\n",
       "Vero           4\n",
       "Chuwi          3\n",
       "Google         3\n",
       "Fujitsu        3\n",
       "LG             3\n",
       "Huawei         2\n",
       "Name: Brand, dtype: int64"
      ]
     },
     "execution_count": 11,
     "metadata": {},
     "output_type": "execute_result"
    }
   ],
   "source": [
    "# Brand\n",
    "data['Brand'].value_counts()"
   ]
  },
  {
   "cell_type": "code",
   "execution_count": 12,
   "id": "473b7801",
   "metadata": {},
   "outputs": [],
   "source": [
    "def set_brand(inpt):\n",
    "    if inpt == 'Dell':\n",
    "        return inpt\n",
    "    elif inpt == 'Asus':\n",
    "        return inpt\n",
    "    elif inpt == 'Hp' or inpt == \"HP\":\n",
    "        return 'Hp'\n",
    "    elif inpt == 'Lenovo':\n",
    "        return inpt\n",
    "    elif inpt == 'Acer':\n",
    "        return inpt\n",
    "    else:\n",
    "        return 'Other'"
   ]
  },
  {
   "cell_type": "code",
   "execution_count": 13,
   "id": "33122fed",
   "metadata": {},
   "outputs": [],
   "source": [
    "data['Brand'] = data['Brand'].apply(set_brand)"
   ]
  },
  {
   "cell_type": "code",
   "execution_count": 14,
   "id": "53d03c83",
   "metadata": {},
   "outputs": [
    {
     "data": {
      "text/plain": [
       "Dell      337\n",
       "Hp        314\n",
       "Lenovo    308\n",
       "Asus      198\n",
       "Other     197\n",
       "Acer      108\n",
       "Name: Brand, dtype: int64"
      ]
     },
     "execution_count": 14,
     "metadata": {},
     "output_type": "execute_result"
    }
   ],
   "source": [
    "data['Brand'].value_counts()"
   ]
  },
  {
   "cell_type": "code",
   "execution_count": 15,
   "id": "61400439",
   "metadata": {},
   "outputs": [
    {
     "data": {
      "text/plain": [
       "Intel Core i5 7200U 2.5GHz       190\n",
       "Intel Core i7 7700HQ 2.8GHz      146\n",
       "Intel Core i7 7500U 2.7GHz       134\n",
       "Intel Core i7 8550U 1.8GHz        73\n",
       "Intel Core i5 8250U 1.6GHz        72\n",
       "                                ... \n",
       "intel Core i5                      1\n",
       "Intel Core M 7Y30 1.0GHz           1\n",
       "Intel Xeon E3-1535M v6 3.1GHz      1\n",
       "Intel Celeron                      1\n",
       "ATHLON 3050U                       1\n",
       "Name: Processor, Length: 138, dtype: int64"
      ]
     },
     "execution_count": 15,
     "metadata": {},
     "output_type": "execute_result"
    }
   ],
   "source": [
    "# Processor\n",
    "data['Processor'].value_counts()"
   ]
  },
  {
   "cell_type": "code",
   "execution_count": 16,
   "id": "ad09462c",
   "metadata": {},
   "outputs": [],
   "source": [
    "# def set_processor(name):\n",
    "#     if name == 'Intel Core i7' or name == 'Intel Core i5' or name == 'Intel Core i3' or name == 'AMD Ryzen 7' or name == 'AMD Ryzen 5' or name == 'AMD Ryzen 3':\n",
    "#         return name\n",
    "#     else:\n",
    "#         return 'Other'\n",
    "def set_processor(name):\n",
    "    if name == 'Intel Core i7' or name == 'Intel Core i5' or name == 'Intel Core i3':\n",
    "        return name\n",
    "    else:\n",
    "        if name.split()[0] == 'AMD':\n",
    "            return 'AMD'\n",
    "        elif name.split()[2] == 'i7':\n",
    "            return 'Intel Core i7'\n",
    "        elif name.split()[2] == 'i5':\n",
    "            return 'Intel Core i5'\n",
    "        elif name.split()[2] == 'i3':\n",
    "            return 'Intel Core i3'\n",
    "        else:\n",
    "            return 'Other'"
   ]
  },
  {
   "cell_type": "code",
   "execution_count": 17,
   "id": "e4e02717",
   "metadata": {},
   "outputs": [],
   "source": [
    "data['Processor'] = data['Processor'].apply(set_processor)"
   ]
  },
  {
   "cell_type": "code",
   "execution_count": 48,
   "id": "05c3d7b1",
   "metadata": {},
   "outputs": [
    {
     "data": {
      "text/plain": [
       "Other            1262\n",
       "AMD               116\n",
       "Intel Core i7      36\n",
       "Intel Core i5      34\n",
       "Intel Core i3      14\n",
       "Name: Processor, dtype: int64"
      ]
     },
     "execution_count": 48,
     "metadata": {},
     "output_type": "execute_result"
    }
   ],
   "source": [
    "data['Processor'].value_counts()"
   ]
  },
  {
   "cell_type": "code",
   "execution_count": 19,
   "id": "2fe16fe4",
   "metadata": {},
   "outputs": [
    {
     "data": {
      "text/plain": [
       "8     714\n",
       "4     400\n",
       "16    235\n",
       "6      41\n",
       "12     25\n",
       "2      22\n",
       "32     21\n",
       "24      3\n",
       "64      1\n",
       "Name: RAM, dtype: int64"
      ]
     },
     "execution_count": 19,
     "metadata": {},
     "output_type": "execute_result"
    }
   ],
   "source": [
    "# Ram\n",
    "data['RAM'].value_counts()"
   ]
  },
  {
   "cell_type": "code",
   "execution_count": 20,
   "id": "599e5319",
   "metadata": {},
   "outputs": [
    {
     "data": {
      "text/plain": [
       "256GB SSD                        434\n",
       "1TB HDD                          224\n",
       "512GB SSD                        195\n",
       "500GB HDD                        132\n",
       "128GB SSD +  1TB HDD              94\n",
       "128GB SSD                         82\n",
       "256GB SSD +  1TB HDD              73\n",
       "32GB Flash Storage                38\n",
       "1TB SSD                           33\n",
       "1TB                               20\n",
       "2TB HDD                           16\n",
       "64GB Flash Storage                15\n",
       "512GB SSD +  1TB HDD              14\n",
       "256GB SSD +  2TB HDD              10\n",
       "1TB Hybrid                         9\n",
       "256GB Flash Storage                8\n",
       "16GB Flash Storage                 7\n",
       "32GB SSD                           6\n",
       "1GB SSD                            5\n",
       "128GB Flash Storage                4\n",
       "512GB SSD +  2TB HDD               3\n",
       "16GB SSD                           3\n",
       "1TB                                3\n",
       "256GB SSD +  500GB HDD             2\n",
       "512GB                              2\n",
       "512GB Flash Storage                2\n",
       "128GB SSD +  2TB HDD               2\n",
       "1TB SSD +  1TB HDD                 2\n",
       "1TB + 256GB SSD                    2\n",
       "256GB SSD +  256GB SSD             2\n",
       "512GB SSD                          2\n",
       "32GB HDD                           1\n",
       "128GB HDD                          1\n",
       "240GB SSD                          1\n",
       "8GB SSD                            1\n",
       "508GB Hybrid                       1\n",
       "512GB SSD +  1TB Hybrid            1\n",
       "1TB HDD +  1TB HDD                 1\n",
       "2TB SSD                            1\n",
       "64GB Flash Storage +  1TB HDD      1\n",
       "512GB SSD +  256GB SSD             1\n",
       "512GB SSD +  512GB SSD             1\n",
       "64GB SSD                           1\n",
       " 512GB SSD                         1\n",
       "128Gb SSD                          1\n",
       "1TB SSD + 256GB SSD                1\n",
       "512Gb SSD                          1\n",
       "256GB SSD + 1TB                    1\n",
       "256GB SSD +  1TB Hybrid            1\n",
       "Name: Storage Capacity, dtype: int64"
      ]
     },
     "execution_count": 20,
     "metadata": {},
     "output_type": "execute_result"
    }
   ],
   "source": [
    "#  Storage Capacity\n",
    "data['Storage Capacity'].value_counts()"
   ]
  },
  {
   "cell_type": "code",
   "execution_count": 21,
   "id": "0591e893",
   "metadata": {},
   "outputs": [],
   "source": [
    "def set_storage(name):\n",
    "    if name == '512GB SSD' or name == '256GB SSD' or name == '1TB' or name == '1TB SSD':\n",
    "        return name\n",
    "    else:\n",
    "        return 'Other'"
   ]
  },
  {
   "cell_type": "code",
   "execution_count": 22,
   "id": "85af79c3",
   "metadata": {},
   "outputs": [],
   "source": [
    "data['Storage Capacity'] = data['Storage Capacity'].apply(set_storage)"
   ]
  },
  {
   "cell_type": "code",
   "execution_count": 23,
   "id": "aee25e18",
   "metadata": {},
   "outputs": [
    {
     "data": {
      "text/plain": [
       "Other        780\n",
       "256GB SSD    434\n",
       "512GB SSD    195\n",
       "1TB SSD       33\n",
       "1TB           20\n",
       "Name: Storage Capacity, dtype: int64"
      ]
     },
     "execution_count": 23,
     "metadata": {},
     "output_type": "execute_result"
    }
   ],
   "source": [
    "data['Storage Capacity'].value_counts()"
   ]
  },
  {
   "cell_type": "code",
   "execution_count": 24,
   "id": "edbb2e87",
   "metadata": {},
   "outputs": [
    {
     "data": {
      "text/html": [
       "<div>\n",
       "<style scoped>\n",
       "    .dataframe tbody tr th:only-of-type {\n",
       "        vertical-align: middle;\n",
       "    }\n",
       "\n",
       "    .dataframe tbody tr th {\n",
       "        vertical-align: top;\n",
       "    }\n",
       "\n",
       "    .dataframe thead th {\n",
       "        text-align: right;\n",
       "    }\n",
       "</style>\n",
       "<table border=\"1\" class=\"dataframe\">\n",
       "  <thead>\n",
       "    <tr style=\"text-align: right;\">\n",
       "      <th></th>\n",
       "      <th>Brand</th>\n",
       "      <th>Model</th>\n",
       "      <th>Processor</th>\n",
       "      <th>RAM</th>\n",
       "      <th>Storage Capacity</th>\n",
       "      <th>Display Size</th>\n",
       "      <th>OS</th>\n",
       "      <th>GPU</th>\n",
       "      <th>Weight</th>\n",
       "      <th>Warranty</th>\n",
       "      <th>Price</th>\n",
       "    </tr>\n",
       "  </thead>\n",
       "  <tbody>\n",
       "    <tr>\n",
       "      <th>0</th>\n",
       "      <td>Hp</td>\n",
       "      <td>HP 15s-GR0514AU</td>\n",
       "      <td>Other</td>\n",
       "      <td>8</td>\n",
       "      <td>1TB</td>\n",
       "      <td>15.6</td>\n",
       "      <td>Windows 11</td>\n",
       "      <td>Intel</td>\n",
       "      <td>1.7</td>\n",
       "      <td>2</td>\n",
       "      <td>99000.0</td>\n",
       "    </tr>\n",
       "    <tr>\n",
       "      <th>1</th>\n",
       "      <td>Hp</td>\n",
       "      <td>HP 15s-DU3561TU</td>\n",
       "      <td>Intel Core i5</td>\n",
       "      <td>8</td>\n",
       "      <td>1TB</td>\n",
       "      <td>15.6</td>\n",
       "      <td>Windows 11</td>\n",
       "      <td>Intel</td>\n",
       "      <td>1.7</td>\n",
       "      <td>2</td>\n",
       "      <td>172000.0</td>\n",
       "    </tr>\n",
       "  </tbody>\n",
       "</table>\n",
       "</div>"
      ],
      "text/plain": [
       "  Brand            Model      Processor  RAM Storage Capacity  Display Size  \\\n",
       "0    Hp  HP 15s-GR0514AU          Other    8              1TB          15.6   \n",
       "1    Hp  HP 15s-DU3561TU  Intel Core i5    8              1TB          15.6   \n",
       "\n",
       "           OS     GPU  Weight  Warranty     Price  \n",
       "0  Windows 11  Intel      1.7         2   99000.0  \n",
       "1  Windows 11  Intel      1.7         2  172000.0  "
      ]
     },
     "execution_count": 24,
     "metadata": {},
     "output_type": "execute_result"
    }
   ],
   "source": [
    "data.head(2)"
   ]
  },
  {
   "cell_type": "code",
   "execution_count": 25,
   "id": "d601d407",
   "metadata": {},
   "outputs": [
    {
     "data": {
      "text/plain": [
       "15.6     773\n",
       "14.0     226\n",
       "13.3     171\n",
       "17.3     166\n",
       "12.5      39\n",
       "11.6      34\n",
       "13.9       6\n",
       "13.5       6\n",
       "12.0       6\n",
       "13.0       6\n",
       "12.3       5\n",
       "15.4       4\n",
       "10.1       4\n",
       "16.0       4\n",
       "15.0       4\n",
       "16.1       3\n",
       "156.0      1\n",
       "18.4       1\n",
       "17.0       1\n",
       "14.1       1\n",
       "11.3       1\n",
       "Name: Display Size, dtype: int64"
      ]
     },
     "execution_count": 25,
     "metadata": {},
     "output_type": "execute_result"
    }
   ],
   "source": [
    "# Display Size\n",
    "data['Display Size'].value_counts()"
   ]
  },
  {
   "cell_type": "code",
   "execution_count": 26,
   "id": "31165062",
   "metadata": {},
   "outputs": [],
   "source": [
    "def set_display(inpt):\n",
    "    if inpt == 15.6:\n",
    "        return inpt\n",
    "    elif inpt == 14.0:\n",
    "        return inpt\n",
    "    elif inpt == 156.0:\n",
    "        return 15.6\n",
    "    elif inpt == 13.0:\n",
    "        return inpt\n",
    "    elif inpt == 13.3:\n",
    "        return 13.0\n",
    "    else:\n",
    "        return 'Other'"
   ]
  },
  {
   "cell_type": "code",
   "execution_count": 27,
   "id": "ef4eea1d",
   "metadata": {},
   "outputs": [],
   "source": [
    "data['Display Size'] = data['Display Size'].apply(set_display)"
   ]
  },
  {
   "cell_type": "code",
   "execution_count": 28,
   "id": "e581de90",
   "metadata": {},
   "outputs": [
    {
     "data": {
      "text/plain": [
       "15.6     774\n",
       "Other    285\n",
       "14.0     226\n",
       "13.0     177\n",
       "Name: Display Size, dtype: int64"
      ]
     },
     "execution_count": 28,
     "metadata": {},
     "output_type": "execute_result"
    }
   ],
   "source": [
    "data['Display Size'].value_counts()"
   ]
  },
  {
   "cell_type": "code",
   "execution_count": null,
   "id": "4fd5cf4a",
   "metadata": {},
   "outputs": [],
   "source": []
  },
  {
   "cell_type": "code",
   "execution_count": 29,
   "id": "ece7daff",
   "metadata": {},
   "outputs": [
    {
     "data": {
      "text/plain": [
       "Intel HD Graphics 620      278\n",
       "Intel HD Graphics 520      177\n",
       "Intel UHD Graphics 620      68\n",
       "Nvidia GeForce GTX 1050     66\n",
       "Intel                       58\n",
       "                          ... \n",
       "AMD                          1\n",
       "Nvidia Quadro M620M          1\n",
       "Intel Graphics 620           1\n",
       "AMD Radeon R5 520            1\n",
       "NVIDIAGeForce GTX 960M       1\n",
       "Name: GPU, Length: 137, dtype: int64"
      ]
     },
     "execution_count": 29,
     "metadata": {},
     "output_type": "execute_result"
    }
   ],
   "source": [
    "#  GPU\n",
    "data['GPU'].value_counts()"
   ]
  },
  {
   "cell_type": "code",
   "execution_count": 30,
   "id": "7bd48210",
   "metadata": {},
   "outputs": [
    {
     "data": {
      "text/plain": [
       "Windows        1125\n",
       "Windows 10      108\n",
       "No OS            66\n",
       "Linux            64\n",
       "Windows 11       36\n",
       "Chrome OS        27\n",
       "macOS            13\n",
       "Mac OS           12\n",
       "Windows 10        7\n",
       "Windows 11        2\n",
       "Android           2\n",
       "Name: OS, dtype: int64"
      ]
     },
     "execution_count": 30,
     "metadata": {},
     "output_type": "execute_result"
    }
   ],
   "source": [
    "#  OS\n",
    "data['OS'].value_counts()"
   ]
  },
  {
   "cell_type": "code",
   "execution_count": 31,
   "id": "857f91dc",
   "metadata": {},
   "outputs": [],
   "source": [
    "def set_os(inpt):\n",
    "    if inpt == 'Windows 10' or inpt == \"Windows 11\" or inpt == 'Windows 10 ' or inpt == \"Windows 11 \":\n",
    "        return \"Windows\"\n",
    "    elif inpt == 'Mac OS' or inpt == \"macOS\":\n",
    "        return \"Mac\"\n",
    "    elif inpt == \"Linux\":\n",
    "        return inpt\n",
    "    else:\n",
    "        return \"Other\""
   ]
  },
  {
   "cell_type": "code",
   "execution_count": 32,
   "id": "40050f99",
   "metadata": {},
   "outputs": [
    {
     "data": {
      "text/plain": [
       "Other      1220\n",
       "Windows     153\n",
       "Linux        64\n",
       "Mac          25\n",
       "Name: OS, dtype: int64"
      ]
     },
     "execution_count": 32,
     "metadata": {},
     "output_type": "execute_result"
    }
   ],
   "source": [
    "data['OS'] = data['OS'].apply(set_os)\n",
    "data['OS'].value_counts()"
   ]
  },
  {
   "cell_type": "code",
   "execution_count": 33,
   "id": "46394efd",
   "metadata": {},
   "outputs": [],
   "source": [
    "# data['Weight'].value_counts()\n",
    "# data['Warranty'].value_counts()\n",
    "# data['Price'].value_counts()"
   ]
  },
  {
   "cell_type": "code",
   "execution_count": 34,
   "id": "dc33a7fe",
   "metadata": {},
   "outputs": [
    {
     "data": {
      "text/html": [
       "<div>\n",
       "<style scoped>\n",
       "    .dataframe tbody tr th:only-of-type {\n",
       "        vertical-align: middle;\n",
       "    }\n",
       "\n",
       "    .dataframe tbody tr th {\n",
       "        vertical-align: top;\n",
       "    }\n",
       "\n",
       "    .dataframe thead th {\n",
       "        text-align: right;\n",
       "    }\n",
       "</style>\n",
       "<table border=\"1\" class=\"dataframe\">\n",
       "  <thead>\n",
       "    <tr style=\"text-align: right;\">\n",
       "      <th></th>\n",
       "      <th>Brand</th>\n",
       "      <th>Model</th>\n",
       "      <th>Processor</th>\n",
       "      <th>RAM</th>\n",
       "      <th>Storage Capacity</th>\n",
       "      <th>Display Size</th>\n",
       "      <th>OS</th>\n",
       "      <th>GPU</th>\n",
       "      <th>Weight</th>\n",
       "      <th>Warranty</th>\n",
       "      <th>Price</th>\n",
       "    </tr>\n",
       "  </thead>\n",
       "  <tbody>\n",
       "    <tr>\n",
       "      <th>0</th>\n",
       "      <td>Hp</td>\n",
       "      <td>HP 15s-GR0514AU</td>\n",
       "      <td>Other</td>\n",
       "      <td>8</td>\n",
       "      <td>1TB</td>\n",
       "      <td>15.6</td>\n",
       "      <td>Windows</td>\n",
       "      <td>Intel</td>\n",
       "      <td>1.7</td>\n",
       "      <td>2</td>\n",
       "      <td>99000.0</td>\n",
       "    </tr>\n",
       "    <tr>\n",
       "      <th>1</th>\n",
       "      <td>Hp</td>\n",
       "      <td>HP 15s-DU3561TU</td>\n",
       "      <td>Intel Core i5</td>\n",
       "      <td>8</td>\n",
       "      <td>1TB</td>\n",
       "      <td>15.6</td>\n",
       "      <td>Windows</td>\n",
       "      <td>Intel</td>\n",
       "      <td>1.7</td>\n",
       "      <td>2</td>\n",
       "      <td>172000.0</td>\n",
       "    </tr>\n",
       "  </tbody>\n",
       "</table>\n",
       "</div>"
      ],
      "text/plain": [
       "  Brand            Model      Processor  RAM Storage Capacity Display Size  \\\n",
       "0    Hp  HP 15s-GR0514AU          Other    8              1TB         15.6   \n",
       "1    Hp  HP 15s-DU3561TU  Intel Core i5    8              1TB         15.6   \n",
       "\n",
       "        OS     GPU  Weight  Warranty     Price  \n",
       "0  Windows  Intel      1.7         2   99000.0  \n",
       "1  Windows  Intel      1.7         2  172000.0  "
      ]
     },
     "execution_count": 34,
     "metadata": {},
     "output_type": "execute_result"
    }
   ],
   "source": [
    "data.head(2)"
   ]
  },
  {
   "cell_type": "code",
   "execution_count": 35,
   "id": "6673cbb2",
   "metadata": {},
   "outputs": [
    {
     "data": {
      "text/html": [
       "<div>\n",
       "<style scoped>\n",
       "    .dataframe tbody tr th:only-of-type {\n",
       "        vertical-align: middle;\n",
       "    }\n",
       "\n",
       "    .dataframe tbody tr th {\n",
       "        vertical-align: top;\n",
       "    }\n",
       "\n",
       "    .dataframe thead th {\n",
       "        text-align: right;\n",
       "    }\n",
       "</style>\n",
       "<table border=\"1\" class=\"dataframe\">\n",
       "  <thead>\n",
       "    <tr style=\"text-align: right;\">\n",
       "      <th></th>\n",
       "      <th>Brand</th>\n",
       "      <th>Model</th>\n",
       "      <th>CPU</th>\n",
       "      <th>RAM</th>\n",
       "      <th>Storage</th>\n",
       "      <th>Inches</th>\n",
       "      <th>OS</th>\n",
       "      <th>GPU</th>\n",
       "      <th>Weight</th>\n",
       "      <th>Warranty</th>\n",
       "      <th>Price</th>\n",
       "    </tr>\n",
       "  </thead>\n",
       "  <tbody>\n",
       "    <tr>\n",
       "      <th>0</th>\n",
       "      <td>Hp</td>\n",
       "      <td>HP 15s-GR0514AU</td>\n",
       "      <td>Other</td>\n",
       "      <td>8</td>\n",
       "      <td>1TB</td>\n",
       "      <td>15.6</td>\n",
       "      <td>Windows</td>\n",
       "      <td>Intel</td>\n",
       "      <td>1.70</td>\n",
       "      <td>2</td>\n",
       "      <td>99000.0</td>\n",
       "    </tr>\n",
       "    <tr>\n",
       "      <th>1</th>\n",
       "      <td>Hp</td>\n",
       "      <td>HP 15s-DU3561TU</td>\n",
       "      <td>Intel Core i5</td>\n",
       "      <td>8</td>\n",
       "      <td>1TB</td>\n",
       "      <td>15.6</td>\n",
       "      <td>Windows</td>\n",
       "      <td>Intel</td>\n",
       "      <td>1.70</td>\n",
       "      <td>2</td>\n",
       "      <td>172000.0</td>\n",
       "    </tr>\n",
       "    <tr>\n",
       "      <th>2</th>\n",
       "      <td>Hp</td>\n",
       "      <td>HP 15s-DU1114Tu</td>\n",
       "      <td>Other</td>\n",
       "      <td>4</td>\n",
       "      <td>Other</td>\n",
       "      <td>15.6</td>\n",
       "      <td>Windows</td>\n",
       "      <td>Intel</td>\n",
       "      <td>1.78</td>\n",
       "      <td>1</td>\n",
       "      <td>87000.0</td>\n",
       "    </tr>\n",
       "    <tr>\n",
       "      <th>3</th>\n",
       "      <td>Hp</td>\n",
       "      <td>HP 15s-EQ2890AU</td>\n",
       "      <td>AMD</td>\n",
       "      <td>8</td>\n",
       "      <td>Other</td>\n",
       "      <td>15.6</td>\n",
       "      <td>Windows</td>\n",
       "      <td>AMD</td>\n",
       "      <td>1.69</td>\n",
       "      <td>2</td>\n",
       "      <td>134000.0</td>\n",
       "    </tr>\n",
       "    <tr>\n",
       "      <th>4</th>\n",
       "      <td>Hp</td>\n",
       "      <td>HP Envy x360 13-AY0101AU</td>\n",
       "      <td>AMD</td>\n",
       "      <td>8</td>\n",
       "      <td>512GB SSD</td>\n",
       "      <td>13.0</td>\n",
       "      <td>Windows</td>\n",
       "      <td>AMD</td>\n",
       "      <td>1.32</td>\n",
       "      <td>1</td>\n",
       "      <td>245000.0</td>\n",
       "    </tr>\n",
       "    <tr>\n",
       "      <th>...</th>\n",
       "      <td>...</td>\n",
       "      <td>...</td>\n",
       "      <td>...</td>\n",
       "      <td>...</td>\n",
       "      <td>...</td>\n",
       "      <td>...</td>\n",
       "      <td>...</td>\n",
       "      <td>...</td>\n",
       "      <td>...</td>\n",
       "      <td>...</td>\n",
       "      <td>...</td>\n",
       "    </tr>\n",
       "    <tr>\n",
       "      <th>1457</th>\n",
       "      <td>Lenovo</td>\n",
       "      <td>Yoga 500-14ISK</td>\n",
       "      <td>Other</td>\n",
       "      <td>4</td>\n",
       "      <td>Other</td>\n",
       "      <td>14.0</td>\n",
       "      <td>Other</td>\n",
       "      <td>Intel</td>\n",
       "      <td>1.80</td>\n",
       "      <td>1</td>\n",
       "      <td>186296.0</td>\n",
       "    </tr>\n",
       "    <tr>\n",
       "      <th>1458</th>\n",
       "      <td>Lenovo</td>\n",
       "      <td>Yoga 900-13ISK</td>\n",
       "      <td>Other</td>\n",
       "      <td>16</td>\n",
       "      <td>512GB SSD</td>\n",
       "      <td>13.0</td>\n",
       "      <td>Other</td>\n",
       "      <td>Intel</td>\n",
       "      <td>1.30</td>\n",
       "      <td>1</td>\n",
       "      <td>437708.0</td>\n",
       "    </tr>\n",
       "    <tr>\n",
       "      <th>1459</th>\n",
       "      <td>Lenovo</td>\n",
       "      <td>IdeaPad 100S-14IBR</td>\n",
       "      <td>Other</td>\n",
       "      <td>2</td>\n",
       "      <td>Other</td>\n",
       "      <td>14.0</td>\n",
       "      <td>Other</td>\n",
       "      <td>Intel</td>\n",
       "      <td>1.50</td>\n",
       "      <td>1</td>\n",
       "      <td>66868.0</td>\n",
       "    </tr>\n",
       "    <tr>\n",
       "      <th>1460</th>\n",
       "      <td>Hp</td>\n",
       "      <td>15-AC110nv (i7-6500U/6GB/1TB/Radeon</td>\n",
       "      <td>Other</td>\n",
       "      <td>6</td>\n",
       "      <td>Other</td>\n",
       "      <td>15.6</td>\n",
       "      <td>Other</td>\n",
       "      <td>AMD</td>\n",
       "      <td>2.19</td>\n",
       "      <td>1</td>\n",
       "      <td>223088.0</td>\n",
       "    </tr>\n",
       "    <tr>\n",
       "      <th>1461</th>\n",
       "      <td>Asus</td>\n",
       "      <td>X553SA-XX031T (N3050/4GB/500GB/W10)</td>\n",
       "      <td>Other</td>\n",
       "      <td>4</td>\n",
       "      <td>Other</td>\n",
       "      <td>15.6</td>\n",
       "      <td>Other</td>\n",
       "      <td>Intel</td>\n",
       "      <td>2.20</td>\n",
       "      <td>3</td>\n",
       "      <td>107748.0</td>\n",
       "    </tr>\n",
       "  </tbody>\n",
       "</table>\n",
       "<p>1462 rows × 11 columns</p>\n",
       "</div>"
      ],
      "text/plain": [
       "       Brand                                Model            CPU  RAM  \\\n",
       "0         Hp                      HP 15s-GR0514AU          Other    8   \n",
       "1         Hp                      HP 15s-DU3561TU  Intel Core i5    8   \n",
       "2         Hp                      HP 15s-DU1114Tu          Other    4   \n",
       "3         Hp                      HP 15s-EQ2890AU            AMD    8   \n",
       "4         Hp             HP Envy x360 13-AY0101AU            AMD    8   \n",
       "...      ...                                  ...            ...  ...   \n",
       "1457  Lenovo                       Yoga 500-14ISK          Other    4   \n",
       "1458  Lenovo                       Yoga 900-13ISK          Other   16   \n",
       "1459  Lenovo                   IdeaPad 100S-14IBR          Other    2   \n",
       "1460      Hp  15-AC110nv (i7-6500U/6GB/1TB/Radeon          Other    6   \n",
       "1461    Asus  X553SA-XX031T (N3050/4GB/500GB/W10)          Other    4   \n",
       "\n",
       "        Storage Inches       OS     GPU  Weight  Warranty     Price  \n",
       "0           1TB   15.6  Windows  Intel     1.70         2   99000.0  \n",
       "1           1TB   15.6  Windows  Intel     1.70         2  172000.0  \n",
       "2         Other   15.6  Windows  Intel     1.78         1   87000.0  \n",
       "3         Other   15.6  Windows     AMD    1.69         2  134000.0  \n",
       "4     512GB SSD   13.0  Windows     AMD    1.32         1  245000.0  \n",
       "...         ...    ...      ...     ...     ...       ...       ...  \n",
       "1457      Other   14.0    Other  Intel     1.80         1  186296.0  \n",
       "1458  512GB SSD   13.0    Other   Intel    1.30         1  437708.0  \n",
       "1459      Other   14.0    Other  Intel     1.50         1   66868.0  \n",
       "1460      Other   15.6    Other     AMD    2.19         1  223088.0  \n",
       "1461      Other   15.6    Other   Intel    2.20         3  107748.0  \n",
       "\n",
       "[1462 rows x 11 columns]"
      ]
     },
     "execution_count": 35,
     "metadata": {},
     "output_type": "execute_result"
    }
   ],
   "source": [
    "data.rename(columns={\"Processor\":\"CPU\", \"Storage Capacity\":\"Storage\", \"Display Size\":\"Inches\"})"
   ]
  },
  {
   "cell_type": "code",
   "execution_count": 36,
   "id": "ee6f9e73",
   "metadata": {},
   "outputs": [
    {
     "data": {
      "text/plain": [
       "Intel HD Graphics 620      278\n",
       "Intel HD Graphics 520      177\n",
       "Intel UHD Graphics 620      68\n",
       "Nvidia GeForce GTX 1050     66\n",
       "Intel                       58\n",
       "                          ... \n",
       "AMD                          1\n",
       "Nvidia Quadro M620M          1\n",
       "Intel Graphics 620           1\n",
       "AMD Radeon R5 520            1\n",
       "NVIDIAGeForce GTX 960M       1\n",
       "Name: GPU, Length: 137, dtype: int64"
      ]
     },
     "execution_count": 36,
     "metadata": {},
     "output_type": "execute_result"
    }
   ],
   "source": [
    "#  GPU\n",
    "data['GPU'].value_counts()"
   ]
  },
  {
   "cell_type": "code",
   "execution_count": 37,
   "id": "cf3c813b",
   "metadata": {},
   "outputs": [],
   "source": [
    "def set_gpu(inpt):\n",
    "    if inpt == \"Intel \" or inpt == \"Intel Iris Plus Graphics 640\" or inpt == \"Intel HD Graphics 6000\":\n",
    "        return \"Intel\"\n",
    "    elif inpt == 'AMD' or inpt == \"AMD \":\n",
    "        return \"AMD\"\n",
    "    elif inpt == \"8C GPU\" or inpt == \"Apple M1\":\n",
    "        return \"Other\"\n",
    "    else:\n",
    "        return \"NVIDIA\""
   ]
  },
  {
   "cell_type": "code",
   "execution_count": 38,
   "id": "8e013103",
   "metadata": {},
   "outputs": [
    {
     "data": {
      "text/plain": [
       "NVIDIA    1342\n",
       "Intel       71\n",
       "AMD         45\n",
       "Other        4\n",
       "Name: GPU, dtype: int64"
      ]
     },
     "execution_count": 38,
     "metadata": {},
     "output_type": "execute_result"
    }
   ],
   "source": [
    "data['GPU'] = data['GPU'].apply(set_gpu)\n",
    "data['GPU'].value_counts()"
   ]
  },
  {
   "cell_type": "code",
   "execution_count": 39,
   "id": "31befae6",
   "metadata": {},
   "outputs": [
    {
     "data": {
      "text/html": [
       "<div>\n",
       "<style scoped>\n",
       "    .dataframe tbody tr th:only-of-type {\n",
       "        vertical-align: middle;\n",
       "    }\n",
       "\n",
       "    .dataframe tbody tr th {\n",
       "        vertical-align: top;\n",
       "    }\n",
       "\n",
       "    .dataframe thead th {\n",
       "        text-align: right;\n",
       "    }\n",
       "</style>\n",
       "<table border=\"1\" class=\"dataframe\">\n",
       "  <thead>\n",
       "    <tr style=\"text-align: right;\">\n",
       "      <th></th>\n",
       "      <th>Brand</th>\n",
       "      <th>Model</th>\n",
       "      <th>Processor</th>\n",
       "      <th>RAM</th>\n",
       "      <th>Storage Capacity</th>\n",
       "      <th>Display Size</th>\n",
       "      <th>OS</th>\n",
       "      <th>GPU</th>\n",
       "      <th>Weight</th>\n",
       "      <th>Warranty</th>\n",
       "      <th>Price</th>\n",
       "    </tr>\n",
       "  </thead>\n",
       "  <tbody>\n",
       "    <tr>\n",
       "      <th>0</th>\n",
       "      <td>Hp</td>\n",
       "      <td>HP 15s-GR0514AU</td>\n",
       "      <td>Other</td>\n",
       "      <td>8</td>\n",
       "      <td>1TB</td>\n",
       "      <td>15.6</td>\n",
       "      <td>Windows</td>\n",
       "      <td>Intel</td>\n",
       "      <td>1.7</td>\n",
       "      <td>2</td>\n",
       "      <td>99000.0</td>\n",
       "    </tr>\n",
       "    <tr>\n",
       "      <th>1</th>\n",
       "      <td>Hp</td>\n",
       "      <td>HP 15s-DU3561TU</td>\n",
       "      <td>Intel Core i5</td>\n",
       "      <td>8</td>\n",
       "      <td>1TB</td>\n",
       "      <td>15.6</td>\n",
       "      <td>Windows</td>\n",
       "      <td>Intel</td>\n",
       "      <td>1.7</td>\n",
       "      <td>2</td>\n",
       "      <td>172000.0</td>\n",
       "    </tr>\n",
       "  </tbody>\n",
       "</table>\n",
       "</div>"
      ],
      "text/plain": [
       "  Brand            Model      Processor  RAM Storage Capacity Display Size  \\\n",
       "0    Hp  HP 15s-GR0514AU          Other    8              1TB         15.6   \n",
       "1    Hp  HP 15s-DU3561TU  Intel Core i5    8              1TB         15.6   \n",
       "\n",
       "        OS    GPU  Weight  Warranty     Price  \n",
       "0  Windows  Intel     1.7         2   99000.0  \n",
       "1  Windows  Intel     1.7         2  172000.0  "
      ]
     },
     "execution_count": 39,
     "metadata": {},
     "output_type": "execute_result"
    }
   ],
   "source": [
    "data.head(2)"
   ]
  },
  {
   "cell_type": "markdown",
   "id": "dfdc9b03",
   "metadata": {},
   "source": [
    "# Model Building and Selection"
   ]
  },
  {
   "cell_type": "code",
   "execution_count": 40,
   "id": "742fa6f2",
   "metadata": {},
   "outputs": [],
   "source": [
    "data = data.drop(columns=['Model'])\n",
    "x = data.drop('Processor', axis=1)\n",
    "y = data['Processor']"
   ]
  },
  {
   "cell_type": "code",
   "execution_count": 41,
   "id": "b7b2a966",
   "metadata": {},
   "outputs": [
    {
     "data": {
      "text/html": [
       "<div>\n",
       "<style scoped>\n",
       "    .dataframe tbody tr th:only-of-type {\n",
       "        vertical-align: middle;\n",
       "    }\n",
       "\n",
       "    .dataframe tbody tr th {\n",
       "        vertical-align: top;\n",
       "    }\n",
       "\n",
       "    .dataframe thead th {\n",
       "        text-align: right;\n",
       "    }\n",
       "</style>\n",
       "<table border=\"1\" class=\"dataframe\">\n",
       "  <thead>\n",
       "    <tr style=\"text-align: right;\">\n",
       "      <th></th>\n",
       "      <th>Brand</th>\n",
       "      <th>RAM</th>\n",
       "      <th>Storage Capacity</th>\n",
       "      <th>Display Size</th>\n",
       "      <th>OS</th>\n",
       "      <th>GPU</th>\n",
       "      <th>Weight</th>\n",
       "      <th>Warranty</th>\n",
       "      <th>Price</th>\n",
       "    </tr>\n",
       "  </thead>\n",
       "  <tbody>\n",
       "    <tr>\n",
       "      <th>0</th>\n",
       "      <td>Hp</td>\n",
       "      <td>8</td>\n",
       "      <td>1TB</td>\n",
       "      <td>15.6</td>\n",
       "      <td>Windows</td>\n",
       "      <td>Intel</td>\n",
       "      <td>1.7</td>\n",
       "      <td>2</td>\n",
       "      <td>99000.0</td>\n",
       "    </tr>\n",
       "  </tbody>\n",
       "</table>\n",
       "</div>"
      ],
      "text/plain": [
       "  Brand  RAM Storage Capacity Display Size       OS    GPU  Weight  Warranty  \\\n",
       "0    Hp    8              1TB         15.6  Windows  Intel     1.7         2   \n",
       "\n",
       "     Price  \n",
       "0  99000.0  "
      ]
     },
     "execution_count": 41,
     "metadata": {},
     "output_type": "execute_result"
    }
   ],
   "source": [
    "x.head(1)"
   ]
  },
  {
   "cell_type": "code",
   "execution_count": 42,
   "id": "a5527802",
   "metadata": {},
   "outputs": [
    {
     "data": {
      "text/plain": [
       "0    Other\n",
       "Name: Processor, dtype: object"
      ]
     },
     "execution_count": 42,
     "metadata": {},
     "output_type": "execute_result"
    }
   ],
   "source": [
    "y.head(1)"
   ]
  },
  {
   "cell_type": "code",
   "execution_count": 43,
   "id": "7c4fe87d",
   "metadata": {},
   "outputs": [],
   "source": [
    "x = pd.get_dummies(x)"
   ]
  },
  {
   "cell_type": "code",
   "execution_count": 44,
   "id": "182eef8b",
   "metadata": {},
   "outputs": [],
   "source": [
    "from sklearn.model_selection import train_test_split\n",
    "x_train, x_test, y_train, y_test = train_test_split(x, y, test_size = 0.25)"
   ]
  },
  {
   "cell_type": "code",
   "execution_count": 45,
   "id": "522af562",
   "metadata": {},
   "outputs": [],
   "source": [
    "# Model training\n",
    "def model_acc(model):\n",
    "    model.fit(x_train, y_train)\n",
    "    acc = model.score(x_test, y_test)\n",
    "    print(str(model)+ ' --> ' +str(acc))"
   ]
  },
  {
   "cell_type": "code",
   "execution_count": 46,
   "id": "50f40046",
   "metadata": {},
   "outputs": [
    {
     "name": "stdout",
     "output_type": "stream",
     "text": [
      "DecisionTreeClassifier() --> 0.8907103825136612\n",
      "RandomForestClassifier() --> 0.9180327868852459\n",
      "MultinomialNB() --> 0.8825136612021858\n",
      "MLPClassifier() --> 0.855191256830601\n"
     ]
    }
   ],
   "source": [
    "from sklearn.tree import DecisionTreeClassifier\n",
    "dt = DecisionTreeClassifier()\n",
    "model_acc(dt)\n",
    "\n",
    "from sklearn.ensemble import RandomForestClassifier\n",
    "rf = RandomForestClassifier()\n",
    "model_acc(rf)\n",
    "\n",
    "from sklearn.naive_bayes import MultinomialNB\n",
    "nb = MultinomialNB()\n",
    "model_acc(nb)\n",
    "\n",
    "from sklearn.neural_network import MLPClassifier\n",
    "clf = MLPClassifier()\n",
    "model_acc(clf)"
   ]
  },
  {
   "cell_type": "code",
   "execution_count": null,
   "id": "a007fea1",
   "metadata": {},
   "outputs": [],
   "source": []
  },
  {
   "cell_type": "code",
   "execution_count": null,
   "id": "e6684fc6",
   "metadata": {},
   "outputs": [],
   "source": []
  },
  {
   "cell_type": "code",
   "execution_count": 47,
   "id": "02d9bf53",
   "metadata": {},
   "outputs": [
    {
     "name": "stderr",
     "output_type": "stream",
     "text": [
      "C:\\Users\\HP\\Desktop\\MY\\Machine-Learning\\LaptopRecommendation System\\model\\env\\lib\\site-packages\\sklearn\\base.py:450: UserWarning: X does not have valid feature names, but MultinomialNB was fitted with feature names\n",
      "  warnings.warn(\n"
     ]
    },
    {
     "ename": "ValueError",
     "evalue": "X has 24 features, but MultinomialNB is expecting 27 features as input.",
     "output_type": "error",
     "traceback": [
      "\u001b[1;31m---------------------------------------------------------------------------\u001b[0m",
      "\u001b[1;31mValueError\u001b[0m                                Traceback (most recent call last)",
      "Input \u001b[1;32mIn [47]\u001b[0m, in \u001b[0;36m<cell line: 1>\u001b[1;34m()\u001b[0m\n\u001b[1;32m----> 1\u001b[0m pred_value \u001b[38;5;241m=\u001b[39m \u001b[43mnb\u001b[49m\u001b[38;5;241;43m.\u001b[39;49m\u001b[43mpredict\u001b[49m\u001b[43m(\u001b[49m\u001b[43m[\u001b[49m\u001b[43m[\u001b[49m\u001b[38;5;241;43m8\u001b[39;49m\u001b[43m,\u001b[49m\u001b[43m \u001b[49m\u001b[38;5;241;43m1.7\u001b[39;49m\u001b[43m,\u001b[49m\u001b[43m \u001b[49m\u001b[38;5;241;43m2\u001b[39;49m\u001b[43m,\u001b[49m\u001b[43m \u001b[49m\u001b[38;5;241;43m175000\u001b[39;49m\u001b[43m,\u001b[49m\u001b[43m \u001b[49m\u001b[38;5;241;43m0\u001b[39;49m\u001b[43m,\u001b[49m\u001b[43m \u001b[49m\u001b[38;5;241;43m1\u001b[39;49m\u001b[43m,\u001b[49m\u001b[43m \u001b[49m\u001b[38;5;241;43m0\u001b[39;49m\u001b[43m,\u001b[49m\u001b[43m \u001b[49m\u001b[38;5;241;43m0\u001b[39;49m\u001b[43m,\u001b[49m\u001b[43m \u001b[49m\u001b[38;5;241;43m1\u001b[39;49m\u001b[43m,\u001b[49m\u001b[43m \u001b[49m\u001b[38;5;241;43m0\u001b[39;49m\u001b[43m,\u001b[49m\u001b[43m \u001b[49m\u001b[38;5;241;43m0\u001b[39;49m\u001b[43m,\u001b[49m\u001b[43m \u001b[49m\u001b[38;5;241;43m0\u001b[39;49m\u001b[43m,\u001b[49m\u001b[43m \u001b[49m\u001b[38;5;241;43m0\u001b[39;49m\u001b[43m,\u001b[49m\u001b[43m \u001b[49m\u001b[38;5;241;43m0\u001b[39;49m\u001b[43m,\u001b[49m\u001b[43m \u001b[49m\u001b[38;5;241;43m1\u001b[39;49m\u001b[43m,\u001b[49m\u001b[43m \u001b[49m\u001b[38;5;241;43m0\u001b[39;49m\u001b[43m,\u001b[49m\u001b[43m \u001b[49m\u001b[38;5;241;43m0\u001b[39;49m\u001b[43m,\u001b[49m\u001b[43m \u001b[49m\u001b[38;5;241;43m0\u001b[39;49m\u001b[43m,\u001b[49m\u001b[43m \u001b[49m\u001b[38;5;241;43m0\u001b[39;49m\u001b[43m,\u001b[49m\u001b[43m \u001b[49m\u001b[38;5;241;43m1\u001b[39;49m\u001b[43m,\u001b[49m\u001b[43m \u001b[49m\u001b[38;5;241;43m0\u001b[39;49m\u001b[43m,\u001b[49m\u001b[43m \u001b[49m\u001b[38;5;241;43m1\u001b[39;49m\u001b[43m,\u001b[49m\u001b[43m \u001b[49m\u001b[38;5;241;43m0\u001b[39;49m\u001b[43m,\u001b[49m\u001b[43m \u001b[49m\u001b[38;5;241;43m0\u001b[39;49m\u001b[43m]\u001b[49m\u001b[43m]\u001b[49m\u001b[43m)\u001b[49m\n\u001b[0;32m      2\u001b[0m pred_value\n",
      "File \u001b[1;32m~\\Desktop\\MY\\Machine-Learning\\LaptopRecommendation System\\model\\env\\lib\\site-packages\\sklearn\\naive_bayes.py:82\u001b[0m, in \u001b[0;36m_BaseNB.predict\u001b[1;34m(self, X)\u001b[0m\n\u001b[0;32m     68\u001b[0m \u001b[38;5;124;03m\"\"\"\u001b[39;00m\n\u001b[0;32m     69\u001b[0m \u001b[38;5;124;03mPerform classification on an array of test vectors X.\u001b[39;00m\n\u001b[0;32m     70\u001b[0m \n\u001b[1;32m   (...)\u001b[0m\n\u001b[0;32m     79\u001b[0m \u001b[38;5;124;03m    Predicted target values for X.\u001b[39;00m\n\u001b[0;32m     80\u001b[0m \u001b[38;5;124;03m\"\"\"\u001b[39;00m\n\u001b[0;32m     81\u001b[0m check_is_fitted(\u001b[38;5;28mself\u001b[39m)\n\u001b[1;32m---> 82\u001b[0m X \u001b[38;5;241m=\u001b[39m \u001b[38;5;28;43mself\u001b[39;49m\u001b[38;5;241;43m.\u001b[39;49m\u001b[43m_check_X\u001b[49m\u001b[43m(\u001b[49m\u001b[43mX\u001b[49m\u001b[43m)\u001b[49m\n\u001b[0;32m     83\u001b[0m jll \u001b[38;5;241m=\u001b[39m \u001b[38;5;28mself\u001b[39m\u001b[38;5;241m.\u001b[39m_joint_log_likelihood(X)\n\u001b[0;32m     84\u001b[0m \u001b[38;5;28;01mreturn\u001b[39;00m \u001b[38;5;28mself\u001b[39m\u001b[38;5;241m.\u001b[39mclasses_[np\u001b[38;5;241m.\u001b[39margmax(jll, axis\u001b[38;5;241m=\u001b[39m\u001b[38;5;241m1\u001b[39m)]\n",
      "File \u001b[1;32m~\\Desktop\\MY\\Machine-Learning\\LaptopRecommendation System\\model\\env\\lib\\site-packages\\sklearn\\naive_bayes.py:519\u001b[0m, in \u001b[0;36m_BaseDiscreteNB._check_X\u001b[1;34m(self, X)\u001b[0m\n\u001b[0;32m    517\u001b[0m \u001b[38;5;28;01mdef\u001b[39;00m \u001b[38;5;21m_check_X\u001b[39m(\u001b[38;5;28mself\u001b[39m, X):\n\u001b[0;32m    518\u001b[0m     \u001b[38;5;124;03m\"\"\"Validate X, used only in predict* methods.\"\"\"\u001b[39;00m\n\u001b[1;32m--> 519\u001b[0m     \u001b[38;5;28;01mreturn\u001b[39;00m \u001b[38;5;28;43mself\u001b[39;49m\u001b[38;5;241;43m.\u001b[39;49m\u001b[43m_validate_data\u001b[49m\u001b[43m(\u001b[49m\u001b[43mX\u001b[49m\u001b[43m,\u001b[49m\u001b[43m \u001b[49m\u001b[43maccept_sparse\u001b[49m\u001b[38;5;241;43m=\u001b[39;49m\u001b[38;5;124;43m\"\u001b[39;49m\u001b[38;5;124;43mcsr\u001b[39;49m\u001b[38;5;124;43m\"\u001b[39;49m\u001b[43m,\u001b[49m\u001b[43m \u001b[49m\u001b[43mreset\u001b[49m\u001b[38;5;241;43m=\u001b[39;49m\u001b[38;5;28;43;01mFalse\u001b[39;49;00m\u001b[43m)\u001b[49m\n",
      "File \u001b[1;32m~\\Desktop\\MY\\Machine-Learning\\LaptopRecommendation System\\model\\env\\lib\\site-packages\\sklearn\\base.py:585\u001b[0m, in \u001b[0;36mBaseEstimator._validate_data\u001b[1;34m(self, X, y, reset, validate_separately, **check_params)\u001b[0m\n\u001b[0;32m    582\u001b[0m     out \u001b[38;5;241m=\u001b[39m X, y\n\u001b[0;32m    584\u001b[0m \u001b[38;5;28;01mif\u001b[39;00m \u001b[38;5;129;01mnot\u001b[39;00m no_val_X \u001b[38;5;129;01mand\u001b[39;00m check_params\u001b[38;5;241m.\u001b[39mget(\u001b[38;5;124m\"\u001b[39m\u001b[38;5;124mensure_2d\u001b[39m\u001b[38;5;124m\"\u001b[39m, \u001b[38;5;28;01mTrue\u001b[39;00m):\n\u001b[1;32m--> 585\u001b[0m     \u001b[38;5;28;43mself\u001b[39;49m\u001b[38;5;241;43m.\u001b[39;49m\u001b[43m_check_n_features\u001b[49m\u001b[43m(\u001b[49m\u001b[43mX\u001b[49m\u001b[43m,\u001b[49m\u001b[43m \u001b[49m\u001b[43mreset\u001b[49m\u001b[38;5;241;43m=\u001b[39;49m\u001b[43mreset\u001b[49m\u001b[43m)\u001b[49m\n\u001b[0;32m    587\u001b[0m \u001b[38;5;28;01mreturn\u001b[39;00m out\n",
      "File \u001b[1;32m~\\Desktop\\MY\\Machine-Learning\\LaptopRecommendation System\\model\\env\\lib\\site-packages\\sklearn\\base.py:400\u001b[0m, in \u001b[0;36mBaseEstimator._check_n_features\u001b[1;34m(self, X, reset)\u001b[0m\n\u001b[0;32m    397\u001b[0m     \u001b[38;5;28;01mreturn\u001b[39;00m\n\u001b[0;32m    399\u001b[0m \u001b[38;5;28;01mif\u001b[39;00m n_features \u001b[38;5;241m!=\u001b[39m \u001b[38;5;28mself\u001b[39m\u001b[38;5;241m.\u001b[39mn_features_in_:\n\u001b[1;32m--> 400\u001b[0m     \u001b[38;5;28;01mraise\u001b[39;00m \u001b[38;5;167;01mValueError\u001b[39;00m(\n\u001b[0;32m    401\u001b[0m         \u001b[38;5;124mf\u001b[39m\u001b[38;5;124m\"\u001b[39m\u001b[38;5;124mX has \u001b[39m\u001b[38;5;132;01m{\u001b[39;00mn_features\u001b[38;5;132;01m}\u001b[39;00m\u001b[38;5;124m features, but \u001b[39m\u001b[38;5;132;01m{\u001b[39;00m\u001b[38;5;28mself\u001b[39m\u001b[38;5;241m.\u001b[39m\u001b[38;5;18m__class__\u001b[39m\u001b[38;5;241m.\u001b[39m\u001b[38;5;18m__name__\u001b[39m\u001b[38;5;132;01m}\u001b[39;00m\u001b[38;5;124m \u001b[39m\u001b[38;5;124m\"\u001b[39m\n\u001b[0;32m    402\u001b[0m         \u001b[38;5;124mf\u001b[39m\u001b[38;5;124m\"\u001b[39m\u001b[38;5;124mis expecting \u001b[39m\u001b[38;5;132;01m{\u001b[39;00m\u001b[38;5;28mself\u001b[39m\u001b[38;5;241m.\u001b[39mn_features_in_\u001b[38;5;132;01m}\u001b[39;00m\u001b[38;5;124m features as input.\u001b[39m\u001b[38;5;124m\"\u001b[39m\n\u001b[0;32m    403\u001b[0m     )\n",
      "\u001b[1;31mValueError\u001b[0m: X has 24 features, but MultinomialNB is expecting 27 features as input."
     ]
    }
   ],
   "source": [
    "pred_value = nb.predict([[8, 1.7, 2, 175000, 0, 1, 0, 0, 1, 0, 0, 0, 0, 0, 1, 0, 0, 0, 0, 1, 0, 1, 0, 0]])\n",
    "pred_value"
   ]
  },
  {
   "cell_type": "code",
   "execution_count": null,
   "id": "a260c65b",
   "metadata": {},
   "outputs": [],
   "source": []
  },
  {
   "cell_type": "code",
   "execution_count": null,
   "id": "ba3b5d79",
   "metadata": {},
   "outputs": [],
   "source": []
  },
  {
   "cell_type": "code",
   "execution_count": null,
   "id": "0f019224",
   "metadata": {},
   "outputs": [],
   "source": []
  }
 ],
 "metadata": {
  "kernelspec": {
   "display_name": "Python 3 (ipykernel)",
   "language": "python",
   "name": "python3"
  },
  "language_info": {
   "codemirror_mode": {
    "name": "ipython",
    "version": 3
   },
   "file_extension": ".py",
   "mimetype": "text/x-python",
   "name": "python",
   "nbconvert_exporter": "python",
   "pygments_lexer": "ipython3",
   "version": "3.10.3"
  }
 },
 "nbformat": 4,
 "nbformat_minor": 5
}
