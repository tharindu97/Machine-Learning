{
 "cells": [
  {
   "cell_type": "code",
   "execution_count": 1,
   "id": "8a27c7de",
   "metadata": {},
   "outputs": [
    {
     "name": "stdout",
     "output_type": "stream",
     "text": [
      "Requirement already satisfied: numpy in c:\\users\\hp\\desktop\\my\\machine-learning\\laptoprecommendation system\\model\\env\\lib\\site-packages (1.22.3)\n",
      "Requirement already satisfied: pandas in c:\\users\\hp\\desktop\\my\\machine-learning\\laptoprecommendation system\\model\\env\\lib\\site-packages (1.4.1)\n",
      "Requirement already satisfied: numpy>=1.21.0 in c:\\users\\hp\\desktop\\my\\machine-learning\\laptoprecommendation system\\model\\env\\lib\\site-packages (from pandas) (1.22.3)\n",
      "Requirement already satisfied: python-dateutil>=2.8.1 in c:\\users\\hp\\desktop\\my\\machine-learning\\laptoprecommendation system\\model\\env\\lib\\site-packages (from pandas) (2.8.2)\n",
      "Requirement already satisfied: pytz>=2020.1 in c:\\users\\hp\\desktop\\my\\machine-learning\\laptoprecommendation system\\model\\env\\lib\\site-packages (from pandas) (2021.3)\n",
      "Requirement already satisfied: six>=1.5 in c:\\users\\hp\\desktop\\my\\machine-learning\\laptoprecommendation system\\model\\env\\lib\\site-packages (from python-dateutil>=2.8.1->pandas) (1.16.0)\n"
     ]
    }
   ],
   "source": [
    "!pip install numpy\n",
    "!pip install pandas"
   ]
  },
  {
   "cell_type": "code",
   "execution_count": 2,
   "id": "0408f765",
   "metadata": {},
   "outputs": [],
   "source": [
    "import numpy as np\n",
    "import pandas as pd"
   ]
  },
  {
   "cell_type": "code",
   "execution_count": 3,
   "id": "39fd2cf1",
   "metadata": {},
   "outputs": [],
   "source": [
    "url1 = \"https://raw.githubusercontent.com/tharindu97/Machine-Learning/main/users.csv\"\n",
    "url2 = \"https://raw.githubusercontent.com/tharindu97/Machine-Learning/main/laptops.csv\"\n",
    "users = pd.read_csv(url1, encoding='latin-1')\n",
    "laptops = pd.read_csv(url2, encoding='latin-1')"
   ]
  },
  {
   "cell_type": "code",
   "execution_count": 13,
   "id": "87abdfd9",
   "metadata": {},
   "outputs": [],
   "source": [
    "users.rename({'Laptop Brand': 'Brand'},axis=1, inplace=True)"
   ]
  },
  {
   "cell_type": "code",
   "execution_count": 9,
   "id": "1e984ce7",
   "metadata": {},
   "outputs": [],
   "source": [
    "users = users.drop(columns=['RAM','Processor'])"
   ]
  },
  {
   "cell_type": "code",
   "execution_count": 7,
   "id": "f76b0f0b",
   "metadata": {},
   "outputs": [],
   "source": [
    "laptops = laptops.drop(columns=['Unnamed: 11'])"
   ]
  },
  {
   "cell_type": "code",
   "execution_count": 14,
   "id": "4c55aec5",
   "metadata": {},
   "outputs": [
    {
     "data": {
      "text/html": [
       "<div>\n",
       "<style scoped>\n",
       "    .dataframe tbody tr th:only-of-type {\n",
       "        vertical-align: middle;\n",
       "    }\n",
       "\n",
       "    .dataframe tbody tr th {\n",
       "        vertical-align: top;\n",
       "    }\n",
       "\n",
       "    .dataframe thead th {\n",
       "        text-align: right;\n",
       "    }\n",
       "</style>\n",
       "<table border=\"1\" class=\"dataframe\">\n",
       "  <thead>\n",
       "    <tr style=\"text-align: right;\">\n",
       "      <th></th>\n",
       "      <th>Brand</th>\n",
       "      <th>Model</th>\n",
       "      <th>Processor</th>\n",
       "      <th>RAM</th>\n",
       "      <th>Storage Capacity</th>\n",
       "      <th>Display Size</th>\n",
       "      <th>OS</th>\n",
       "      <th>GPU</th>\n",
       "      <th>Weight</th>\n",
       "      <th>Warranty</th>\n",
       "      <th>Price</th>\n",
       "    </tr>\n",
       "  </thead>\n",
       "  <tbody>\n",
       "    <tr>\n",
       "      <th>0</th>\n",
       "      <td>Hp</td>\n",
       "      <td>HP 15s-GR0514AU</td>\n",
       "      <td>ATHLON 3050U</td>\n",
       "      <td>8GB</td>\n",
       "      <td>1TB</td>\n",
       "      <td>15.6\"</td>\n",
       "      <td>Windows 11</td>\n",
       "      <td>Intel</td>\n",
       "      <td>1.7</td>\n",
       "      <td>2</td>\n",
       "      <td>99000.0</td>\n",
       "    </tr>\n",
       "    <tr>\n",
       "      <th>1</th>\n",
       "      <td>Hp</td>\n",
       "      <td>HP 15s-DU3561TU</td>\n",
       "      <td>Intel Core i5</td>\n",
       "      <td>8GB</td>\n",
       "      <td>1TB</td>\n",
       "      <td>15.6\"</td>\n",
       "      <td>Windows 11</td>\n",
       "      <td>Intel</td>\n",
       "      <td>1.7</td>\n",
       "      <td>2</td>\n",
       "      <td>172000.0</td>\n",
       "    </tr>\n",
       "  </tbody>\n",
       "</table>\n",
       "</div>"
      ],
      "text/plain": [
       "  Brand            Model      Processor  RAM Storage Capacity Display Size  \\\n",
       "0    Hp  HP 15s-GR0514AU   ATHLON 3050U  8GB              1TB        15.6\"   \n",
       "1    Hp  HP 15s-DU3561TU  Intel Core i5  8GB              1TB        15.6\"   \n",
       "\n",
       "           OS     GPU  Weight  Warranty     Price  \n",
       "0  Windows 11  Intel      1.7         2   99000.0  \n",
       "1  Windows 11  Intel      1.7         2  172000.0  "
      ]
     },
     "execution_count": 14,
     "metadata": {},
     "output_type": "execute_result"
    }
   ],
   "source": [
    "laptops.head(2)"
   ]
  },
  {
   "cell_type": "code",
   "execution_count": 31,
   "id": "db0dd0ea",
   "metadata": {},
   "outputs": [
    {
     "data": {
      "text/plain": [
       "Dell                  70\n",
       "HP                    64\n",
       "Asus                  35\n",
       "Accer                 31\n",
       "Lenovo                12\n",
       "Apple                  7\n",
       "Toshiba                3\n",
       "MSI                    2\n",
       "Samsung                1\n",
       "Singer                 1\n",
       "Fujitsu Lifebook A     1\n",
       "Acer                   1\n",
       "Name: Brand, dtype: int64"
      ]
     },
     "execution_count": 31,
     "metadata": {},
     "output_type": "execute_result"
    }
   ],
   "source": [
    "users.head(2)\n",
    "users['Brand'].value_counts()"
   ]
  },
  {
   "cell_type": "code",
   "execution_count": 32,
   "id": "57416fde",
   "metadata": {},
   "outputs": [],
   "source": [
    "def add_brand(inpt):\n",
    "    if inpt == 'Accer':\n",
    "        return 'Acer'\n",
    "    else:\n",
    "        return inpt"
   ]
  },
  {
   "cell_type": "code",
   "execution_count": 34,
   "id": "b1973fc6",
   "metadata": {},
   "outputs": [],
   "source": [
    "users['Brand'] = users['Brand'].apply(add_brand)"
   ]
  },
  {
   "cell_type": "code",
   "execution_count": 35,
   "id": "f2abd17a",
   "metadata": {},
   "outputs": [
    {
     "data": {
      "text/plain": [
       "Dell                  70\n",
       "HP                    64\n",
       "Asus                  35\n",
       "Acer                  32\n",
       "Lenovo                12\n",
       "Apple                  7\n",
       "Toshiba                3\n",
       "MSI                    2\n",
       "Samsung                1\n",
       "Singer                 1\n",
       "Fujitsu Lifebook A     1\n",
       "Name: Brand, dtype: int64"
      ]
     },
     "execution_count": 35,
     "metadata": {},
     "output_type": "execute_result"
    }
   ],
   "source": [
    "users['Brand'].value_counts()"
   ]
  },
  {
   "cell_type": "code",
   "execution_count": 36,
   "id": "d0bb8076",
   "metadata": {},
   "outputs": [],
   "source": [
    "df = pd.merge(users,laptops,on='Brand')"
   ]
  },
  {
   "cell_type": "code",
   "execution_count": 37,
   "id": "99b70fe7",
   "metadata": {},
   "outputs": [
    {
     "data": {
      "text/html": [
       "<div>\n",
       "<style scoped>\n",
       "    .dataframe tbody tr th:only-of-type {\n",
       "        vertical-align: middle;\n",
       "    }\n",
       "\n",
       "    .dataframe tbody tr th {\n",
       "        vertical-align: top;\n",
       "    }\n",
       "\n",
       "    .dataframe thead th {\n",
       "        text-align: right;\n",
       "    }\n",
       "</style>\n",
       "<table border=\"1\" class=\"dataframe\">\n",
       "  <thead>\n",
       "    <tr style=\"text-align: right;\">\n",
       "      <th></th>\n",
       "      <th>Timestamp</th>\n",
       "      <th>Gender</th>\n",
       "      <th>Age Range</th>\n",
       "      <th>Occupation</th>\n",
       "      <th>Monthly Income Range</th>\n",
       "      <th>Brand</th>\n",
       "      <th>Model</th>\n",
       "      <th>Processor</th>\n",
       "      <th>RAM</th>\n",
       "      <th>Storage Capacity</th>\n",
       "      <th>Display Size</th>\n",
       "      <th>OS</th>\n",
       "      <th>GPU</th>\n",
       "      <th>Weight</th>\n",
       "      <th>Warranty</th>\n",
       "      <th>Price</th>\n",
       "    </tr>\n",
       "  </thead>\n",
       "  <tbody>\n",
       "    <tr>\n",
       "      <th>0</th>\n",
       "      <td>3/9/2022 12:59:00</td>\n",
       "      <td>Male</td>\n",
       "      <td>21 - 30</td>\n",
       "      <td>Associate software engineer</td>\n",
       "      <td>50k - 100k</td>\n",
       "      <td>Asus</td>\n",
       "      <td>Asus M515</td>\n",
       "      <td>AMD Ryzen 3</td>\n",
       "      <td>4GB</td>\n",
       "      <td>1TB</td>\n",
       "      <td>15.6\"</td>\n",
       "      <td>Windows 10</td>\n",
       "      <td>AMD</td>\n",
       "      <td>1.8</td>\n",
       "      <td>1</td>\n",
       "      <td>139000.0</td>\n",
       "    </tr>\n",
       "    <tr>\n",
       "      <th>1</th>\n",
       "      <td>3/9/2022 12:59:00</td>\n",
       "      <td>Male</td>\n",
       "      <td>21 - 30</td>\n",
       "      <td>Associate software engineer</td>\n",
       "      <td>50k - 100k</td>\n",
       "      <td>Asus</td>\n",
       "      <td>Asus VivoBook K513EA-L11647T</td>\n",
       "      <td>Intel Core i3</td>\n",
       "      <td>4GB</td>\n",
       "      <td>512GB SSD</td>\n",
       "      <td>15.6\"</td>\n",
       "      <td>Windows 10</td>\n",
       "      <td>Intel</td>\n",
       "      <td>1.8</td>\n",
       "      <td>2</td>\n",
       "      <td>168000.0</td>\n",
       "    </tr>\n",
       "  </tbody>\n",
       "</table>\n",
       "</div>"
      ],
      "text/plain": [
       "           Timestamp Gender Age Range                   Occupation  \\\n",
       "0  3/9/2022 12:59:00   Male   21 - 30  Associate software engineer   \n",
       "1  3/9/2022 12:59:00   Male   21 - 30  Associate software engineer   \n",
       "\n",
       "  Monthly Income Range Brand                         Model      Processor  \\\n",
       "0           50k - 100k  Asus                     Asus M515    AMD Ryzen 3   \n",
       "1           50k - 100k  Asus  Asus VivoBook K513EA-L11647T  Intel Core i3   \n",
       "\n",
       "   RAM Storage Capacity Display Size          OS     GPU  Weight  Warranty  \\\n",
       "0  4GB              1TB        15.6\"  Windows 10     AMD     1.8         1   \n",
       "1  4GB        512GB SSD        15.6\"  Windows 10  Intel      1.8         2   \n",
       "\n",
       "      Price  \n",
       "0  139000.0  \n",
       "1  168000.0  "
      ]
     },
     "execution_count": 37,
     "metadata": {},
     "output_type": "execute_result"
    }
   ],
   "source": [
    "df.head(2)"
   ]
  },
  {
   "cell_type": "code",
   "execution_count": 38,
   "id": "b547635d",
   "metadata": {},
   "outputs": [
    {
     "name": "stdout",
     "output_type": "stream",
     "text": [
      "<class 'pandas.core.frame.DataFrame'>\n",
      "Int64Index: 55682 entries, 0 to 55681\n",
      "Data columns (total 16 columns):\n",
      " #   Column                Non-Null Count  Dtype  \n",
      "---  ------                --------------  -----  \n",
      " 0   Timestamp             55682 non-null  object \n",
      " 1   Gender                55682 non-null  object \n",
      " 2   Age Range             55682 non-null  object \n",
      " 3   Occupation            55682 non-null  object \n",
      " 4   Monthly Income Range  55682 non-null  object \n",
      " 5   Brand                 55682 non-null  object \n",
      " 6   Model                 55682 non-null  object \n",
      " 7   Processor             55682 non-null  object \n",
      " 8   RAM                   55682 non-null  object \n",
      " 9   Storage Capacity      55682 non-null  object \n",
      " 10  Display Size          55682 non-null  object \n",
      " 11  OS                    55682 non-null  object \n",
      " 12  GPU                   55682 non-null  object \n",
      " 13  Weight                55682 non-null  float64\n",
      " 14  Warranty              55682 non-null  int64  \n",
      " 15  Price                 55682 non-null  float64\n",
      "dtypes: float64(2), int64(1), object(13)\n",
      "memory usage: 7.2+ MB\n"
     ]
    }
   ],
   "source": [
    "df.info()"
   ]
  },
  {
   "cell_type": "code",
   "execution_count": 39,
   "id": "38e13c66",
   "metadata": {},
   "outputs": [
    {
     "data": {
      "text/plain": [
       "(55682, 16)"
      ]
     },
     "execution_count": 39,
     "metadata": {},
     "output_type": "execute_result"
    }
   ],
   "source": [
    "df.shape"
   ]
  },
  {
   "cell_type": "code",
   "execution_count": 40,
   "id": "98a579bb",
   "metadata": {},
   "outputs": [],
   "source": [
    "df['RAM'] = df['RAM'].str.replace('GB','').astype('int32')"
   ]
  },
  {
   "cell_type": "code",
   "execution_count": 41,
   "id": "578589e9",
   "metadata": {},
   "outputs": [
    {
     "data": {
      "text/plain": [
       "Timestamp               0\n",
       "Gender                  0\n",
       "Age Range               0\n",
       "Occupation              0\n",
       "Monthly Income Range    0\n",
       "Brand                   0\n",
       "Model                   0\n",
       "Processor               0\n",
       "RAM                     0\n",
       "Storage Capacity        0\n",
       "Display Size            0\n",
       "OS                      0\n",
       "GPU                     0\n",
       "Weight                  0\n",
       "Warranty                0\n",
       "Price                   0\n",
       "dtype: int64"
      ]
     },
     "execution_count": 41,
     "metadata": {},
     "output_type": "execute_result"
    }
   ],
   "source": [
    "df.isnull().sum()"
   ]
  },
  {
   "cell_type": "code",
   "execution_count": 42,
   "id": "766c899d",
   "metadata": {},
   "outputs": [
    {
     "data": {
      "text/plain": [
       "RAM         0.690814\n",
       "Weight      0.246688\n",
       "Warranty    0.012729\n",
       "Price       1.000000\n",
       "Name: Price, dtype: float64"
      ]
     },
     "execution_count": 42,
     "metadata": {},
     "output_type": "execute_result"
    }
   ],
   "source": [
    "df.corr()['Price']"
   ]
  },
  {
   "cell_type": "code",
   "execution_count": 43,
   "id": "8ca6fcb0",
   "metadata": {},
   "outputs": [
    {
     "data": {
      "text/plain": [
       "Dell       23590\n",
       "HP         17536\n",
       "Asus        6930\n",
       "Lenovo      3696\n",
       "Acer        3456\n",
       "Apple        175\n",
       "MSI          146\n",
       "Toshiba      144\n",
       "Samsung        9\n",
       "Name: Brand, dtype: int64"
      ]
     },
     "execution_count": 43,
     "metadata": {},
     "output_type": "execute_result"
    }
   ],
   "source": [
    "df['Brand'].value_counts()"
   ]
  },
  {
   "cell_type": "code",
   "execution_count": 44,
   "id": "eea63db4",
   "metadata": {},
   "outputs": [
    {
     "data": {
      "text/html": [
       "<div>\n",
       "<style scoped>\n",
       "    .dataframe tbody tr th:only-of-type {\n",
       "        vertical-align: middle;\n",
       "    }\n",
       "\n",
       "    .dataframe tbody tr th {\n",
       "        vertical-align: top;\n",
       "    }\n",
       "\n",
       "    .dataframe thead th {\n",
       "        text-align: right;\n",
       "    }\n",
       "</style>\n",
       "<table border=\"1\" class=\"dataframe\">\n",
       "  <thead>\n",
       "    <tr style=\"text-align: right;\">\n",
       "      <th></th>\n",
       "      <th>Timestamp</th>\n",
       "      <th>Gender</th>\n",
       "      <th>Age Range</th>\n",
       "      <th>Occupation</th>\n",
       "      <th>Monthly Income Range</th>\n",
       "      <th>Brand</th>\n",
       "      <th>Model</th>\n",
       "      <th>Processor</th>\n",
       "      <th>RAM</th>\n",
       "      <th>Storage Capacity</th>\n",
       "      <th>Display Size</th>\n",
       "      <th>OS</th>\n",
       "      <th>GPU</th>\n",
       "      <th>Weight</th>\n",
       "      <th>Warranty</th>\n",
       "      <th>Price</th>\n",
       "    </tr>\n",
       "  </thead>\n",
       "  <tbody>\n",
       "    <tr>\n",
       "      <th>0</th>\n",
       "      <td>3/9/2022 12:59:00</td>\n",
       "      <td>Male</td>\n",
       "      <td>21 - 30</td>\n",
       "      <td>Associate software engineer</td>\n",
       "      <td>50k - 100k</td>\n",
       "      <td>Asus</td>\n",
       "      <td>Asus M515</td>\n",
       "      <td>AMD Ryzen 3</td>\n",
       "      <td>4</td>\n",
       "      <td>1TB</td>\n",
       "      <td>15.6\"</td>\n",
       "      <td>Windows 10</td>\n",
       "      <td>AMD</td>\n",
       "      <td>1.8</td>\n",
       "      <td>1</td>\n",
       "      <td>139000.0</td>\n",
       "    </tr>\n",
       "    <tr>\n",
       "      <th>1</th>\n",
       "      <td>3/9/2022 12:59:00</td>\n",
       "      <td>Male</td>\n",
       "      <td>21 - 30</td>\n",
       "      <td>Associate software engineer</td>\n",
       "      <td>50k - 100k</td>\n",
       "      <td>Asus</td>\n",
       "      <td>Asus VivoBook K513EA-L11647T</td>\n",
       "      <td>Intel Core i3</td>\n",
       "      <td>4</td>\n",
       "      <td>512GB SSD</td>\n",
       "      <td>15.6\"</td>\n",
       "      <td>Windows 10</td>\n",
       "      <td>Intel</td>\n",
       "      <td>1.8</td>\n",
       "      <td>2</td>\n",
       "      <td>168000.0</td>\n",
       "    </tr>\n",
       "    <tr>\n",
       "      <th>2</th>\n",
       "      <td>3/9/2022 12:59:00</td>\n",
       "      <td>Male</td>\n",
       "      <td>21 - 30</td>\n",
       "      <td>Associate software engineer</td>\n",
       "      <td>50k - 100k</td>\n",
       "      <td>Asus</td>\n",
       "      <td>Asus VivoBook M513UA-L1289T</td>\n",
       "      <td>AMD Ryzen 7</td>\n",
       "      <td>8</td>\n",
       "      <td>512GB SSD</td>\n",
       "      <td>15.6\"</td>\n",
       "      <td>Windows 10</td>\n",
       "      <td>AMD</td>\n",
       "      <td>1.8</td>\n",
       "      <td>2</td>\n",
       "      <td>255000.0</td>\n",
       "    </tr>\n",
       "    <tr>\n",
       "      <th>3</th>\n",
       "      <td>3/9/2022 12:59:00</td>\n",
       "      <td>Male</td>\n",
       "      <td>21 - 30</td>\n",
       "      <td>Associate software engineer</td>\n",
       "      <td>50k - 100k</td>\n",
       "      <td>Asus</td>\n",
       "      <td>Asus ExpertBook L1500CDA-BQ0655</td>\n",
       "      <td>AMD Ryzen 3</td>\n",
       "      <td>4</td>\n",
       "      <td>256GB SSD</td>\n",
       "      <td>15.6\"</td>\n",
       "      <td>Windows 10</td>\n",
       "      <td>AMD</td>\n",
       "      <td>1.8</td>\n",
       "      <td>2</td>\n",
       "      <td>131500.0</td>\n",
       "    </tr>\n",
       "    <tr>\n",
       "      <th>4</th>\n",
       "      <td>3/9/2022 12:59:00</td>\n",
       "      <td>Male</td>\n",
       "      <td>21 - 30</td>\n",
       "      <td>Associate software engineer</td>\n",
       "      <td>50k - 100k</td>\n",
       "      <td>Asus</td>\n",
       "      <td>Asus VivoBook M513UA-L1288T</td>\n",
       "      <td>AMD Ryzen 5</td>\n",
       "      <td>8</td>\n",
       "      <td>512GB SSD</td>\n",
       "      <td>15.6\"</td>\n",
       "      <td>Windows 11</td>\n",
       "      <td>AMD</td>\n",
       "      <td>1.8</td>\n",
       "      <td>2</td>\n",
       "      <td>219000.0</td>\n",
       "    </tr>\n",
       "  </tbody>\n",
       "</table>\n",
       "</div>"
      ],
      "text/plain": [
       "           Timestamp Gender Age Range                   Occupation  \\\n",
       "0  3/9/2022 12:59:00   Male   21 - 30  Associate software engineer   \n",
       "1  3/9/2022 12:59:00   Male   21 - 30  Associate software engineer   \n",
       "2  3/9/2022 12:59:00   Male   21 - 30  Associate software engineer   \n",
       "3  3/9/2022 12:59:00   Male   21 - 30  Associate software engineer   \n",
       "4  3/9/2022 12:59:00   Male   21 - 30  Associate software engineer   \n",
       "\n",
       "  Monthly Income Range Brand                            Model      Processor  \\\n",
       "0           50k - 100k  Asus                        Asus M515    AMD Ryzen 3   \n",
       "1           50k - 100k  Asus     Asus VivoBook K513EA-L11647T  Intel Core i3   \n",
       "2           50k - 100k  Asus      Asus VivoBook M513UA-L1289T    AMD Ryzen 7   \n",
       "3           50k - 100k  Asus  Asus ExpertBook L1500CDA-BQ0655    AMD Ryzen 3   \n",
       "4           50k - 100k  Asus      Asus VivoBook M513UA-L1288T    AMD Ryzen 5   \n",
       "\n",
       "   RAM Storage Capacity Display Size           OS     GPU  Weight  Warranty  \\\n",
       "0    4              1TB        15.6\"   Windows 10     AMD     1.8         1   \n",
       "1    4        512GB SSD        15.6\"   Windows 10  Intel      1.8         2   \n",
       "2    8        512GB SSD        15.6\"  Windows 10      AMD     1.8         2   \n",
       "3    4        256GB SSD        15.6\"   Windows 10    AMD      1.8         2   \n",
       "4    8        512GB SSD        15.6\"   Windows 11     AMD     1.8         2   \n",
       "\n",
       "      Price  \n",
       "0  139000.0  \n",
       "1  168000.0  \n",
       "2  255000.0  \n",
       "3  131500.0  \n",
       "4  219000.0  "
      ]
     },
     "execution_count": 44,
     "metadata": {},
     "output_type": "execute_result"
    }
   ],
   "source": [
    "df.head()"
   ]
  },
  {
   "cell_type": "code",
   "execution_count": null,
   "id": "5aededd2",
   "metadata": {},
   "outputs": [],
   "source": []
  }
 ],
 "metadata": {
  "kernelspec": {
   "display_name": "Python 3 (ipykernel)",
   "language": "python",
   "name": "python3"
  },
  "language_info": {
   "codemirror_mode": {
    "name": "ipython",
    "version": 3
   },
   "file_extension": ".py",
   "mimetype": "text/x-python",
   "name": "python",
   "nbconvert_exporter": "python",
   "pygments_lexer": "ipython3",
   "version": "3.10.3"
  }
 },
 "nbformat": 4,
 "nbformat_minor": 5
}
