{
 "cells": [
  {
   "cell_type": "code",
   "execution_count": 1,
   "id": "2a43bd08",
   "metadata": {},
   "outputs": [
    {
     "name": "stdout",
     "output_type": "stream",
     "text": [
      "Requirement already satisfied: numpy in c:\\users\\hp\\desktop\\my\\machine-learning\\laptoprecommendation system\\model\\env\\lib\\site-packages (1.22.3)\n",
      "Requirement already satisfied: pandas in c:\\users\\hp\\desktop\\my\\machine-learning\\laptoprecommendation system\\model\\env\\lib\\site-packages (1.4.1)\n",
      "Requirement already satisfied: python-dateutil>=2.8.1 in c:\\users\\hp\\desktop\\my\\machine-learning\\laptoprecommendation system\\model\\env\\lib\\site-packages (from pandas) (2.8.2)\n",
      "Requirement already satisfied: numpy>=1.21.0 in c:\\users\\hp\\desktop\\my\\machine-learning\\laptoprecommendation system\\model\\env\\lib\\site-packages (from pandas) (1.22.3)\n",
      "Requirement already satisfied: pytz>=2020.1 in c:\\users\\hp\\desktop\\my\\machine-learning\\laptoprecommendation system\\model\\env\\lib\\site-packages (from pandas) (2021.3)\n",
      "Requirement already satisfied: six>=1.5 in c:\\users\\hp\\desktop\\my\\machine-learning\\laptoprecommendation system\\model\\env\\lib\\site-packages (from python-dateutil>=2.8.1->pandas) (1.16.0)\n"
     ]
    }
   ],
   "source": [
    "!pip install numpy\n",
    "!pip install pandas"
   ]
  },
  {
   "cell_type": "code",
   "execution_count": 1,
   "id": "6f636ad6",
   "metadata": {},
   "outputs": [],
   "source": [
    "import numpy as np\n",
    "import pandas as pd"
   ]
  },
  {
   "cell_type": "code",
   "execution_count": 2,
   "id": "9d2591a7",
   "metadata": {},
   "outputs": [],
   "source": [
    "url = \"https://raw.githubusercontent.com/tharindu97/Machine-Learning/main/sample-userDetails.csv\"\n",
    "data = pd.read_csv(url, encoding='latin-1')"
   ]
  },
  {
   "cell_type": "code",
   "execution_count": 3,
   "id": "150ba1b2",
   "metadata": {},
   "outputs": [
    {
     "data": {
      "text/html": [
       "<div>\n",
       "<style scoped>\n",
       "    .dataframe tbody tr th:only-of-type {\n",
       "        vertical-align: middle;\n",
       "    }\n",
       "\n",
       "    .dataframe tbody tr th {\n",
       "        vertical-align: top;\n",
       "    }\n",
       "\n",
       "    .dataframe thead th {\n",
       "        text-align: right;\n",
       "    }\n",
       "</style>\n",
       "<table border=\"1\" class=\"dataframe\">\n",
       "  <thead>\n",
       "    <tr style=\"text-align: right;\">\n",
       "      <th></th>\n",
       "      <th>Timestamp</th>\n",
       "      <th>Gender</th>\n",
       "      <th>Age Range</th>\n",
       "      <th>Occupation</th>\n",
       "      <th>Monthly Income Range</th>\n",
       "      <th>Laptop Brand</th>\n",
       "      <th>Model</th>\n",
       "      <th>RAM</th>\n",
       "      <th>Processor</th>\n",
       "    </tr>\n",
       "  </thead>\n",
       "  <tbody>\n",
       "    <tr>\n",
       "      <th>0</th>\n",
       "      <td>3/9/2022 12:59:00</td>\n",
       "      <td>Male</td>\n",
       "      <td>21 - 30</td>\n",
       "      <td>Associate software engineer</td>\n",
       "      <td>50k - 100k</td>\n",
       "      <td>Asus</td>\n",
       "      <td>Asus Zenbook 14 UX425</td>\n",
       "      <td>16GB</td>\n",
       "      <td>Intel Core i5</td>\n",
       "    </tr>\n",
       "    <tr>\n",
       "      <th>1</th>\n",
       "      <td>3/9/2022 12:59:31</td>\n",
       "      <td>Male</td>\n",
       "      <td>21 - 30</td>\n",
       "      <td>Associate software engineer</td>\n",
       "      <td>50k - 100k</td>\n",
       "      <td>Asus</td>\n",
       "      <td>Asus Vivobook Pro 15 OLED</td>\n",
       "      <td>8GB</td>\n",
       "      <td>Intel Core i5</td>\n",
       "    </tr>\n",
       "  </tbody>\n",
       "</table>\n",
       "</div>"
      ],
      "text/plain": [
       "           Timestamp Gender Age Range                   Occupation  \\\n",
       "0  3/9/2022 12:59:00   Male   21 - 30  Associate software engineer   \n",
       "1  3/9/2022 12:59:31   Male   21 - 30  Associate software engineer   \n",
       "\n",
       "  Monthly Income Range Laptop Brand                       Model   RAM  \\\n",
       "0           50k - 100k         Asus       Asus Zenbook 14 UX425  16GB   \n",
       "1           50k - 100k         Asus  Asus Vivobook Pro 15 OLED    8GB   \n",
       "\n",
       "       Processor  \n",
       "0  Intel Core i5  \n",
       "1  Intel Core i5  "
      ]
     },
     "execution_count": 3,
     "metadata": {},
     "output_type": "execute_result"
    }
   ],
   "source": [
    "data.head(2)"
   ]
  },
  {
   "cell_type": "markdown",
   "id": "1f54f3ff",
   "metadata": {},
   "source": [
    "# Drop unnecessary columns"
   ]
  },
  {
   "cell_type": "code",
   "execution_count": 5,
   "id": "78e017f4",
   "metadata": {},
   "outputs": [],
   "source": [
    "data = data.drop(columns=['Timestamp'])"
   ]
  },
  {
   "cell_type": "code",
   "execution_count": 6,
   "id": "6983974b",
   "metadata": {},
   "outputs": [
    {
     "data": {
      "text/html": [
       "<div>\n",
       "<style scoped>\n",
       "    .dataframe tbody tr th:only-of-type {\n",
       "        vertical-align: middle;\n",
       "    }\n",
       "\n",
       "    .dataframe tbody tr th {\n",
       "        vertical-align: top;\n",
       "    }\n",
       "\n",
       "    .dataframe thead th {\n",
       "        text-align: right;\n",
       "    }\n",
       "</style>\n",
       "<table border=\"1\" class=\"dataframe\">\n",
       "  <thead>\n",
       "    <tr style=\"text-align: right;\">\n",
       "      <th></th>\n",
       "      <th>Gender</th>\n",
       "      <th>Age Range</th>\n",
       "      <th>Occupation</th>\n",
       "      <th>Monthly Income Range</th>\n",
       "      <th>Laptop Brand</th>\n",
       "      <th>Model</th>\n",
       "      <th>RAM</th>\n",
       "      <th>Processor</th>\n",
       "    </tr>\n",
       "  </thead>\n",
       "  <tbody>\n",
       "    <tr>\n",
       "      <th>0</th>\n",
       "      <td>Male</td>\n",
       "      <td>21 - 30</td>\n",
       "      <td>Associate software engineer</td>\n",
       "      <td>50k - 100k</td>\n",
       "      <td>Asus</td>\n",
       "      <td>Asus Zenbook 14 UX425</td>\n",
       "      <td>16GB</td>\n",
       "      <td>Intel Core i5</td>\n",
       "    </tr>\n",
       "    <tr>\n",
       "      <th>1</th>\n",
       "      <td>Male</td>\n",
       "      <td>21 - 30</td>\n",
       "      <td>Associate software engineer</td>\n",
       "      <td>50k - 100k</td>\n",
       "      <td>Asus</td>\n",
       "      <td>Asus Vivobook Pro 15 OLED</td>\n",
       "      <td>8GB</td>\n",
       "      <td>Intel Core i5</td>\n",
       "    </tr>\n",
       "  </tbody>\n",
       "</table>\n",
       "</div>"
      ],
      "text/plain": [
       "  Gender Age Range                   Occupation Monthly Income Range  \\\n",
       "0   Male   21 - 30  Associate software engineer           50k - 100k   \n",
       "1   Male   21 - 30  Associate software engineer           50k - 100k   \n",
       "\n",
       "  Laptop Brand                       Model   RAM      Processor  \n",
       "0         Asus       Asus Zenbook 14 UX425  16GB  Intel Core i5  \n",
       "1         Asus  Asus Vivobook Pro 15 OLED    8GB  Intel Core i5  "
      ]
     },
     "execution_count": 6,
     "metadata": {},
     "output_type": "execute_result"
    }
   ],
   "source": [
    "data.head(2)"
   ]
  },
  {
   "cell_type": "markdown",
   "id": "5274e0d3",
   "metadata": {},
   "source": [
    "# Data Analysis"
   ]
  },
  {
   "cell_type": "code",
   "execution_count": 7,
   "id": "6642a238",
   "metadata": {},
   "outputs": [
    {
     "data": {
      "text/plain": [
       "Gender                  0\n",
       "Age Range               0\n",
       "Occupation              0\n",
       "Monthly Income Range    0\n",
       "Laptop Brand            0\n",
       "Model                   0\n",
       "RAM                     0\n",
       "Processor               0\n",
       "dtype: int64"
      ]
     },
     "execution_count": 7,
     "metadata": {},
     "output_type": "execute_result"
    }
   ],
   "source": [
    "data.isnull().sum()"
   ]
  },
  {
   "cell_type": "code",
   "execution_count": 8,
   "id": "d444c93c",
   "metadata": {},
   "outputs": [],
   "source": [
    "data['RAM'] = data['RAM'].str.replace('GB','').astype('int32')"
   ]
  },
  {
   "cell_type": "markdown",
   "id": "246aab73",
   "metadata": {},
   "source": [
    "# Laptop Brand"
   ]
  },
  {
   "cell_type": "code",
   "execution_count": 9,
   "id": "3263cdac",
   "metadata": {},
   "outputs": [
    {
     "data": {
      "text/plain": [
       "Dell                  70\n",
       "HP                    64\n",
       "Asus                  35\n",
       "Accer                 31\n",
       "Lenovo                12\n",
       "Apple                  7\n",
       "Toshiba                3\n",
       "MSI                    2\n",
       "Samsung                1\n",
       "Singer                 1\n",
       "Fujitsu Lifebook A     1\n",
       "Acer                   1\n",
       "Name: Laptop Brand, dtype: int64"
      ]
     },
     "execution_count": 9,
     "metadata": {},
     "output_type": "execute_result"
    }
   ],
   "source": [
    "data['Laptop Brand'].value_counts()"
   ]
  },
  {
   "cell_type": "code",
   "execution_count": 10,
   "id": "c3b28134",
   "metadata": {},
   "outputs": [],
   "source": [
    "def add_company(inpt):\n",
    "    if inpt == 'Lenovo' or inpt == 'Apple' or inpt == 'Toshiba' or inpt == 'MSI'or inpt == 'Samsung'or inpt == 'Singer'or inpt == 'Fujitsu Lifebook A'or inpt == 'Acer':\n",
    "        return 'Other'\n",
    "    else:\n",
    "        return inpt"
   ]
  },
  {
   "cell_type": "code",
   "execution_count": 11,
   "id": "c86b0622",
   "metadata": {},
   "outputs": [],
   "source": [
    "data['Laptop Brand'] = data['Laptop Brand'].apply(add_company)"
   ]
  },
  {
   "cell_type": "code",
   "execution_count": 12,
   "id": "8259448b",
   "metadata": {},
   "outputs": [
    {
     "data": {
      "text/plain": [
       "Dell     70\n",
       "HP       64\n",
       "Asus     35\n",
       "Accer    31\n",
       "Other    28\n",
       "Name: Laptop Brand, dtype: int64"
      ]
     },
     "execution_count": 12,
     "metadata": {},
     "output_type": "execute_result"
    }
   ],
   "source": [
    "data['Laptop Brand'].value_counts()"
   ]
  },
  {
   "cell_type": "markdown",
   "id": "422fc044",
   "metadata": {},
   "source": [
    "# Occupation"
   ]
  },
  {
   "cell_type": "code",
   "execution_count": 13,
   "id": "33852faa",
   "metadata": {},
   "outputs": [
    {
     "data": {
      "text/plain": [
       "Undergraduate                  79\n",
       "Student                        66\n",
       "Software engineer              18\n",
       "Senior software engineer       15\n",
       "Associate software engineer    11\n",
       "Teacher                        11\n",
       "Associate technical lead        7\n",
       "Technical lead                  7\n",
       "QA engineer                     4\n",
       "Doctor                          4\n",
       "UI/UX engineer                  3\n",
       "DevOps Engineer                 1\n",
       "Public Service Officer          1\n",
       "Business Operations Manager     1\n",
       "Name: Occupation, dtype: int64"
      ]
     },
     "execution_count": 13,
     "metadata": {},
     "output_type": "execute_result"
    }
   ],
   "source": [
    "data['Occupation'].value_counts()"
   ]
  },
  {
   "cell_type": "code",
   "execution_count": 14,
   "id": "c174ae49",
   "metadata": {},
   "outputs": [],
   "source": [
    "def add_occupation(inpt):\n",
    "    if inpt == 'Undergraduate':\n",
    "        return inpt\n",
    "    elif inpt == 'Student':\n",
    "        return inpt\n",
    "    elif inpt == 'Software engineer':\n",
    "        return inpt\n",
    "    elif inpt == 'Senior software engineer':\n",
    "        return inpt\n",
    "    elif inpt == 'Associate software engineer':\n",
    "        return inpt\n",
    "    else:\n",
    "        return 'Other'"
   ]
  },
  {
   "cell_type": "code",
   "execution_count": 15,
   "id": "d190ddb5",
   "metadata": {},
   "outputs": [],
   "source": [
    "data['Occupation'] = data['Occupation'].apply(add_occupation)"
   ]
  },
  {
   "cell_type": "code",
   "execution_count": 16,
   "id": "cdcefc09",
   "metadata": {},
   "outputs": [
    {
     "data": {
      "text/plain": [
       "Undergraduate                  79\n",
       "Student                        66\n",
       "Other                          39\n",
       "Software engineer              18\n",
       "Senior software engineer       15\n",
       "Associate software engineer    11\n",
       "Name: Occupation, dtype: int64"
      ]
     },
     "execution_count": 16,
     "metadata": {},
     "output_type": "execute_result"
    }
   ],
   "source": [
    "data['Occupation'].value_counts()"
   ]
  },
  {
   "cell_type": "code",
   "execution_count": 17,
   "id": "5e044f86",
   "metadata": {},
   "outputs": [
    {
     "data": {
      "text/plain": [
       "Male      137\n",
       "Female     91\n",
       "Name: Gender, dtype: int64"
      ]
     },
     "execution_count": 17,
     "metadata": {},
     "output_type": "execute_result"
    }
   ],
   "source": [
    "data['Gender'].value_counts()"
   ]
  },
  {
   "cell_type": "code",
   "execution_count": 18,
   "id": "375af517",
   "metadata": {},
   "outputs": [
    {
     "data": {
      "text/plain": [
       "21 - 30    141\n",
       "10 - 20     59\n",
       "31 - 40     24\n",
       "41 - 50      4\n",
       "Name: Age Range, dtype: int64"
      ]
     },
     "execution_count": 18,
     "metadata": {},
     "output_type": "execute_result"
    }
   ],
   "source": [
    "data['Age Range'].value_counts()"
   ]
  },
  {
   "cell_type": "code",
   "execution_count": 19,
   "id": "2aa8b6d1",
   "metadata": {},
   "outputs": [
    {
     "data": {
      "text/plain": [
       "Unpaid            121\n",
       "50k - 100k         26\n",
       "10k - 50k          26\n",
       "More than 250k     20\n",
       "100k - 150k        15\n",
       "150k - 200k        12\n",
       "200k - 250k         8\n",
       "Name: Monthly Income Range, dtype: int64"
      ]
     },
     "execution_count": 19,
     "metadata": {},
     "output_type": "execute_result"
    }
   ],
   "source": [
    "data['Monthly Income Range'].value_counts()"
   ]
  },
  {
   "cell_type": "code",
   "execution_count": 20,
   "id": "a345097a",
   "metadata": {},
   "outputs": [
    {
     "name": "stdout",
     "output_type": "stream",
     "text": [
      "<class 'pandas.core.frame.DataFrame'>\n",
      "RangeIndex: 228 entries, 0 to 227\n",
      "Data columns (total 8 columns):\n",
      " #   Column                Non-Null Count  Dtype \n",
      "---  ------                --------------  ----- \n",
      " 0   Gender                228 non-null    object\n",
      " 1   Age Range             228 non-null    object\n",
      " 2   Occupation            228 non-null    object\n",
      " 3   Monthly Income Range  228 non-null    object\n",
      " 4   Laptop Brand          228 non-null    object\n",
      " 5   Model                 228 non-null    object\n",
      " 6   RAM                   228 non-null    int32 \n",
      " 7   Processor             228 non-null    object\n",
      "dtypes: int32(1), object(7)\n",
      "memory usage: 13.5+ KB\n"
     ]
    }
   ],
   "source": [
    "data.info()"
   ]
  },
  {
   "cell_type": "code",
   "execution_count": 21,
   "id": "9437a4c6",
   "metadata": {},
   "outputs": [],
   "source": [
    "def set_processor(name):\n",
    "    if name == 'Intel Core i7':\n",
    "        return name\n",
    "    elif name == 'Intel Core i5':\n",
    "        return name\n",
    "    elif name == 'Intel Core i3':\n",
    "        return name\n",
    "    else:\n",
    "        if name.split()[0] == 'AMD':\n",
    "            return 'AMD'\n",
    "        else:\n",
    "            return 'Other'"
   ]
  },
  {
   "cell_type": "code",
   "execution_count": 22,
   "id": "510a17a3",
   "metadata": {},
   "outputs": [],
   "source": [
    "data['Processor'] = data['Processor'].apply(set_processor)"
   ]
  },
  {
   "cell_type": "code",
   "execution_count": 23,
   "id": "6919ce88",
   "metadata": {},
   "outputs": [
    {
     "data": {
      "text/plain": [
       "Intel Core i5    91\n",
       "Intel Core i3    53\n",
       "Intel Core i7    36\n",
       "AMD              29\n",
       "Other            19\n",
       "Name: Processor, dtype: int64"
      ]
     },
     "execution_count": 23,
     "metadata": {},
     "output_type": "execute_result"
    }
   ],
   "source": [
    "data['Processor'].value_counts()"
   ]
  },
  {
   "cell_type": "code",
   "execution_count": 24,
   "id": "6d8b5c4b",
   "metadata": {},
   "outputs": [
    {
     "data": {
      "text/html": [
       "<div>\n",
       "<style scoped>\n",
       "    .dataframe tbody tr th:only-of-type {\n",
       "        vertical-align: middle;\n",
       "    }\n",
       "\n",
       "    .dataframe tbody tr th {\n",
       "        vertical-align: top;\n",
       "    }\n",
       "\n",
       "    .dataframe thead th {\n",
       "        text-align: right;\n",
       "    }\n",
       "</style>\n",
       "<table border=\"1\" class=\"dataframe\">\n",
       "  <thead>\n",
       "    <tr style=\"text-align: right;\">\n",
       "      <th></th>\n",
       "      <th>Gender</th>\n",
       "      <th>Age Range</th>\n",
       "      <th>Occupation</th>\n",
       "      <th>Monthly Income Range</th>\n",
       "      <th>Laptop Brand</th>\n",
       "      <th>Model</th>\n",
       "      <th>RAM</th>\n",
       "      <th>Processor</th>\n",
       "    </tr>\n",
       "  </thead>\n",
       "  <tbody>\n",
       "    <tr>\n",
       "      <th>0</th>\n",
       "      <td>Male</td>\n",
       "      <td>21 - 30</td>\n",
       "      <td>Associate software engineer</td>\n",
       "      <td>50k - 100k</td>\n",
       "      <td>Asus</td>\n",
       "      <td>Asus Zenbook 14 UX425</td>\n",
       "      <td>16</td>\n",
       "      <td>Intel Core i5</td>\n",
       "    </tr>\n",
       "    <tr>\n",
       "      <th>1</th>\n",
       "      <td>Male</td>\n",
       "      <td>21 - 30</td>\n",
       "      <td>Associate software engineer</td>\n",
       "      <td>50k - 100k</td>\n",
       "      <td>Asus</td>\n",
       "      <td>Asus Vivobook Pro 15 OLED</td>\n",
       "      <td>8</td>\n",
       "      <td>Intel Core i5</td>\n",
       "    </tr>\n",
       "  </tbody>\n",
       "</table>\n",
       "</div>"
      ],
      "text/plain": [
       "  Gender Age Range                   Occupation Monthly Income Range  \\\n",
       "0   Male   21 - 30  Associate software engineer           50k - 100k   \n",
       "1   Male   21 - 30  Associate software engineer           50k - 100k   \n",
       "\n",
       "  Laptop Brand                       Model  RAM      Processor  \n",
       "0         Asus       Asus Zenbook 14 UX425   16  Intel Core i5  \n",
       "1         Asus  Asus Vivobook Pro 15 OLED     8  Intel Core i5  "
      ]
     },
     "execution_count": 24,
     "metadata": {},
     "output_type": "execute_result"
    }
   ],
   "source": [
    "data.head(2)"
   ]
  },
  {
   "cell_type": "markdown",
   "id": "b79a9f61",
   "metadata": {},
   "source": [
    "# Label-Hot Encoding"
   ]
  },
  {
   "cell_type": "code",
   "execution_count": 25,
   "id": "d186be5e",
   "metadata": {},
   "outputs": [
    {
     "name": "stdout",
     "output_type": "stream",
     "text": [
      "Requirement already satisfied: sklearn in c:\\users\\hp\\desktop\\my\\machine-learning\\laptoprecommendation system\\model\\env\\lib\\site-packages (0.0)\n",
      "Requirement already satisfied: scikit-learn in c:\\users\\hp\\desktop\\my\\machine-learning\\laptoprecommendation system\\model\\env\\lib\\site-packages (from sklearn) (1.0.2)\n",
      "Requirement already satisfied: scipy>=1.1.0 in c:\\users\\hp\\desktop\\my\\machine-learning\\laptoprecommendation system\\model\\env\\lib\\site-packages (from scikit-learn->sklearn) (1.8.0)\n",
      "Requirement already satisfied: joblib>=0.11 in c:\\users\\hp\\desktop\\my\\machine-learning\\laptoprecommendation system\\model\\env\\lib\\site-packages (from scikit-learn->sklearn) (1.1.0)\n",
      "Requirement already satisfied: numpy>=1.14.6 in c:\\users\\hp\\desktop\\my\\machine-learning\\laptoprecommendation system\\model\\env\\lib\\site-packages (from scikit-learn->sklearn) (1.22.3)\n",
      "Requirement already satisfied: threadpoolctl>=2.0.0 in c:\\users\\hp\\desktop\\my\\machine-learning\\laptoprecommendation system\\model\\env\\lib\\site-packages (from scikit-learn->sklearn) (3.1.0)\n"
     ]
    }
   ],
   "source": [
    "!pip install sklearn"
   ]
  },
  {
   "cell_type": "code",
   "execution_count": 25,
   "id": "2ca2fa2e",
   "metadata": {},
   "outputs": [
    {
     "data": {
      "text/plain": [
       "(228, 8)"
      ]
     },
     "execution_count": 25,
     "metadata": {},
     "output_type": "execute_result"
    }
   ],
   "source": [
    "data.shape"
   ]
  },
  {
   "cell_type": "code",
   "execution_count": 26,
   "id": "e53d348d",
   "metadata": {},
   "outputs": [
    {
     "name": "stdout",
     "output_type": "stream",
     "text": [
      "<class 'pandas.core.frame.DataFrame'>\n",
      "RangeIndex: 228 entries, 0 to 227\n",
      "Data columns (total 8 columns):\n",
      " #   Column                Non-Null Count  Dtype \n",
      "---  ------                --------------  ----- \n",
      " 0   Gender                228 non-null    object\n",
      " 1   Age Range             228 non-null    object\n",
      " 2   Occupation            228 non-null    object\n",
      " 3   Monthly Income Range  228 non-null    object\n",
      " 4   Laptop Brand          228 non-null    object\n",
      " 5   Model                 228 non-null    object\n",
      " 6   RAM                   228 non-null    int32 \n",
      " 7   Processor             228 non-null    object\n",
      "dtypes: int32(1), object(7)\n",
      "memory usage: 13.5+ KB\n"
     ]
    }
   ],
   "source": [
    "data.info()"
   ]
  },
  {
   "cell_type": "code",
   "execution_count": 23,
   "id": "f61f5541",
   "metadata": {},
   "outputs": [],
   "source": []
  },
  {
   "cell_type": "code",
   "execution_count": null,
   "id": "5ebb838f",
   "metadata": {},
   "outputs": [],
   "source": []
  },
  {
   "cell_type": "code",
   "execution_count": 26,
   "id": "9a6fac57",
   "metadata": {},
   "outputs": [],
   "source": []
  },
  {
   "cell_type": "code",
   "execution_count": 27,
   "id": "bb05fa7e",
   "metadata": {},
   "outputs": [],
   "source": []
  },
  {
   "cell_type": "code",
   "execution_count": 27,
   "id": "e52d77f5",
   "metadata": {},
   "outputs": [
    {
     "data": {
      "text/plain": [
       "Dell Vostro 3400              32\n",
       "HP 15s-DU1114Tu               24\n",
       "Dell Inspiron 5510            21\n",
       "HP Victus 16- D0445TX         18\n",
       "ACER A515-1135G7              18\n",
       "HP 15s-DU3561TU               13\n",
       "Aspire 3                      12\n",
       "Asus Vivobook Pro 15 OLED     11\n",
       "Asus Zenbook 14 UX425         11\n",
       "HP Victus 16- D0445TX          9\n",
       "Asus X515JA                    8\n",
       "Dell Inspiron 5511             8\n",
       "Lenovo Legion 5                7\n",
       "MacBook Pro                    6\n",
       "Dell Vostro 3401               6\n",
       "Asus Vivobook Pro 15 OLED      5\n",
       "Lenovo Legion 3                5\n",
       "Satellite Pro                  3\n",
       "MSI GF63 Thin 11UC             2\n",
       "Dell Vostro 3399               1\n",
       "Dell Inspiron 5509             1\n",
       "Dell Inspiron 5512             1\n",
       "ACER A515-1135G9               1\n",
       "FL 3400-11369                  1\n",
       "Singer S457-1139G6             1\n",
       "Chromebook 3                   1\n",
       "ACER A515-1135G8               1\n",
       "MacBook Air                    1\n",
       "Name: Model, dtype: int64"
      ]
     },
     "execution_count": 27,
     "metadata": {},
     "output_type": "execute_result"
    }
   ],
   "source": [
    "data['Model'].value_counts()"
   ]
  },
  {
   "cell_type": "markdown",
   "id": "784edace",
   "metadata": {},
   "source": [
    "# Model Building and Selection"
   ]
  },
  {
   "cell_type": "code",
   "execution_count": 28,
   "id": "92fafd63",
   "metadata": {},
   "outputs": [],
   "source": [
    "y = data['Model']"
   ]
  },
  {
   "cell_type": "code",
   "execution_count": 29,
   "id": "4d6af3e8",
   "metadata": {},
   "outputs": [],
   "source": [
    "x = data.drop('Model', axis=1)"
   ]
  },
  {
   "cell_type": "code",
   "execution_count": 30,
   "id": "9b78deff",
   "metadata": {},
   "outputs": [
    {
     "data": {
      "text/plain": [
       "0         Asus Zenbook 14 UX425\n",
       "1    Asus Vivobook Pro 15 OLED \n",
       "Name: Model, dtype: object"
      ]
     },
     "execution_count": 30,
     "metadata": {},
     "output_type": "execute_result"
    }
   ],
   "source": [
    "y.head(2)"
   ]
  },
  {
   "cell_type": "markdown",
   "id": "140f8707",
   "metadata": {},
   "source": [
    "# One Hot Encoding"
   ]
  },
  {
   "cell_type": "code",
   "execution_count": 31,
   "id": "1b3fd15c",
   "metadata": {},
   "outputs": [],
   "source": [
    "x = pd.get_dummies(x)"
   ]
  },
  {
   "cell_type": "code",
   "execution_count": 32,
   "id": "6f1c75ab",
   "metadata": {},
   "outputs": [
    {
     "data": {
      "text/html": [
       "<div>\n",
       "<style scoped>\n",
       "    .dataframe tbody tr th:only-of-type {\n",
       "        vertical-align: middle;\n",
       "    }\n",
       "\n",
       "    .dataframe tbody tr th {\n",
       "        vertical-align: top;\n",
       "    }\n",
       "\n",
       "    .dataframe thead th {\n",
       "        text-align: right;\n",
       "    }\n",
       "</style>\n",
       "<table border=\"1\" class=\"dataframe\">\n",
       "  <thead>\n",
       "    <tr style=\"text-align: right;\">\n",
       "      <th></th>\n",
       "      <th>RAM</th>\n",
       "      <th>Gender_Female</th>\n",
       "      <th>Gender_Male</th>\n",
       "      <th>Age Range_10 - 20</th>\n",
       "      <th>Age Range_21 - 30</th>\n",
       "      <th>Age Range_31 - 40</th>\n",
       "      <th>Age Range_41 - 50</th>\n",
       "      <th>Occupation_Associate software engineer</th>\n",
       "      <th>Occupation_Other</th>\n",
       "      <th>Occupation_Senior software engineer</th>\n",
       "      <th>...</th>\n",
       "      <th>Laptop Brand_Accer</th>\n",
       "      <th>Laptop Brand_Asus</th>\n",
       "      <th>Laptop Brand_Dell</th>\n",
       "      <th>Laptop Brand_HP</th>\n",
       "      <th>Laptop Brand_Other</th>\n",
       "      <th>Processor_AMD</th>\n",
       "      <th>Processor_Intel Core i3</th>\n",
       "      <th>Processor_Intel Core i5</th>\n",
       "      <th>Processor_Intel Core i7</th>\n",
       "      <th>Processor_Other</th>\n",
       "    </tr>\n",
       "  </thead>\n",
       "  <tbody>\n",
       "    <tr>\n",
       "      <th>0</th>\n",
       "      <td>16</td>\n",
       "      <td>0</td>\n",
       "      <td>1</td>\n",
       "      <td>0</td>\n",
       "      <td>1</td>\n",
       "      <td>0</td>\n",
       "      <td>0</td>\n",
       "      <td>1</td>\n",
       "      <td>0</td>\n",
       "      <td>0</td>\n",
       "      <td>...</td>\n",
       "      <td>0</td>\n",
       "      <td>1</td>\n",
       "      <td>0</td>\n",
       "      <td>0</td>\n",
       "      <td>0</td>\n",
       "      <td>0</td>\n",
       "      <td>0</td>\n",
       "      <td>1</td>\n",
       "      <td>0</td>\n",
       "      <td>0</td>\n",
       "    </tr>\n",
       "    <tr>\n",
       "      <th>1</th>\n",
       "      <td>8</td>\n",
       "      <td>0</td>\n",
       "      <td>1</td>\n",
       "      <td>0</td>\n",
       "      <td>1</td>\n",
       "      <td>0</td>\n",
       "      <td>0</td>\n",
       "      <td>1</td>\n",
       "      <td>0</td>\n",
       "      <td>0</td>\n",
       "      <td>...</td>\n",
       "      <td>0</td>\n",
       "      <td>1</td>\n",
       "      <td>0</td>\n",
       "      <td>0</td>\n",
       "      <td>0</td>\n",
       "      <td>0</td>\n",
       "      <td>0</td>\n",
       "      <td>1</td>\n",
       "      <td>0</td>\n",
       "      <td>0</td>\n",
       "    </tr>\n",
       "    <tr>\n",
       "      <th>2</th>\n",
       "      <td>4</td>\n",
       "      <td>0</td>\n",
       "      <td>1</td>\n",
       "      <td>0</td>\n",
       "      <td>1</td>\n",
       "      <td>0</td>\n",
       "      <td>0</td>\n",
       "      <td>0</td>\n",
       "      <td>0</td>\n",
       "      <td>0</td>\n",
       "      <td>...</td>\n",
       "      <td>0</td>\n",
       "      <td>0</td>\n",
       "      <td>1</td>\n",
       "      <td>0</td>\n",
       "      <td>0</td>\n",
       "      <td>0</td>\n",
       "      <td>0</td>\n",
       "      <td>0</td>\n",
       "      <td>1</td>\n",
       "      <td>0</td>\n",
       "    </tr>\n",
       "    <tr>\n",
       "      <th>3</th>\n",
       "      <td>16</td>\n",
       "      <td>0</td>\n",
       "      <td>1</td>\n",
       "      <td>0</td>\n",
       "      <td>1</td>\n",
       "      <td>0</td>\n",
       "      <td>0</td>\n",
       "      <td>1</td>\n",
       "      <td>0</td>\n",
       "      <td>0</td>\n",
       "      <td>...</td>\n",
       "      <td>0</td>\n",
       "      <td>0</td>\n",
       "      <td>0</td>\n",
       "      <td>0</td>\n",
       "      <td>1</td>\n",
       "      <td>0</td>\n",
       "      <td>0</td>\n",
       "      <td>1</td>\n",
       "      <td>0</td>\n",
       "      <td>0</td>\n",
       "    </tr>\n",
       "    <tr>\n",
       "      <th>4</th>\n",
       "      <td>8</td>\n",
       "      <td>0</td>\n",
       "      <td>1</td>\n",
       "      <td>1</td>\n",
       "      <td>0</td>\n",
       "      <td>0</td>\n",
       "      <td>0</td>\n",
       "      <td>0</td>\n",
       "      <td>0</td>\n",
       "      <td>0</td>\n",
       "      <td>...</td>\n",
       "      <td>1</td>\n",
       "      <td>0</td>\n",
       "      <td>0</td>\n",
       "      <td>0</td>\n",
       "      <td>0</td>\n",
       "      <td>0</td>\n",
       "      <td>0</td>\n",
       "      <td>1</td>\n",
       "      <td>0</td>\n",
       "      <td>0</td>\n",
       "    </tr>\n",
       "  </tbody>\n",
       "</table>\n",
       "<p>5 rows × 30 columns</p>\n",
       "</div>"
      ],
      "text/plain": [
       "   RAM  Gender_Female  Gender_Male  Age Range_10 - 20  Age Range_21 - 30  \\\n",
       "0   16              0            1                  0                  1   \n",
       "1    8              0            1                  0                  1   \n",
       "2    4              0            1                  0                  1   \n",
       "3   16              0            1                  0                  1   \n",
       "4    8              0            1                  1                  0   \n",
       "\n",
       "   Age Range_31 - 40  Age Range_41 - 50  \\\n",
       "0                  0                  0   \n",
       "1                  0                  0   \n",
       "2                  0                  0   \n",
       "3                  0                  0   \n",
       "4                  0                  0   \n",
       "\n",
       "   Occupation_Associate software engineer  Occupation_Other  \\\n",
       "0                                       1                 0   \n",
       "1                                       1                 0   \n",
       "2                                       0                 0   \n",
       "3                                       1                 0   \n",
       "4                                       0                 0   \n",
       "\n",
       "   Occupation_Senior software engineer  ...  Laptop Brand_Accer  \\\n",
       "0                                    0  ...                   0   \n",
       "1                                    0  ...                   0   \n",
       "2                                    0  ...                   0   \n",
       "3                                    0  ...                   0   \n",
       "4                                    0  ...                   1   \n",
       "\n",
       "   Laptop Brand_Asus  Laptop Brand_Dell  Laptop Brand_HP  Laptop Brand_Other  \\\n",
       "0                  1                  0                0                   0   \n",
       "1                  1                  0                0                   0   \n",
       "2                  0                  1                0                   0   \n",
       "3                  0                  0                0                   1   \n",
       "4                  0                  0                0                   0   \n",
       "\n",
       "   Processor_AMD  Processor_Intel Core i3  Processor_Intel Core i5  \\\n",
       "0              0                        0                        1   \n",
       "1              0                        0                        1   \n",
       "2              0                        0                        0   \n",
       "3              0                        0                        1   \n",
       "4              0                        0                        1   \n",
       "\n",
       "   Processor_Intel Core i7  Processor_Other  \n",
       "0                        0                0  \n",
       "1                        0                0  \n",
       "2                        1                0  \n",
       "3                        0                0  \n",
       "4                        0                0  \n",
       "\n",
       "[5 rows x 30 columns]"
      ]
     },
     "execution_count": 32,
     "metadata": {},
     "output_type": "execute_result"
    }
   ],
   "source": [
    "x.head()"
   ]
  },
  {
   "cell_type": "code",
   "execution_count": 33,
   "id": "4aa64d42",
   "metadata": {},
   "outputs": [
    {
     "name": "stdout",
     "output_type": "stream",
     "text": [
      "Requirement already satisfied: sklearn in c:\\users\\hp\\desktop\\my\\machine-learning\\laptoprecommendation system\\model\\env\\lib\\site-packages (0.0)\n",
      "Requirement already satisfied: scikit-learn in c:\\users\\hp\\desktop\\my\\machine-learning\\laptoprecommendation system\\model\\env\\lib\\site-packages (from sklearn) (1.0.2)\n",
      "Requirement already satisfied: numpy>=1.14.6 in c:\\users\\hp\\desktop\\my\\machine-learning\\laptoprecommendation system\\model\\env\\lib\\site-packages (from scikit-learn->sklearn) (1.22.3)\n",
      "Requirement already satisfied: joblib>=0.11 in c:\\users\\hp\\desktop\\my\\machine-learning\\laptoprecommendation system\\model\\env\\lib\\site-packages (from scikit-learn->sklearn) (1.1.0)\n",
      "Requirement already satisfied: scipy>=1.1.0 in c:\\users\\hp\\desktop\\my\\machine-learning\\laptoprecommendation system\\model\\env\\lib\\site-packages (from scikit-learn->sklearn) (1.8.0)\n",
      "Requirement already satisfied: threadpoolctl>=2.0.0 in c:\\users\\hp\\desktop\\my\\machine-learning\\laptoprecommendation system\\model\\env\\lib\\site-packages (from scikit-learn->sklearn) (3.1.0)\n"
     ]
    }
   ],
   "source": [
    "!pip install sklearn"
   ]
  },
  {
   "cell_type": "code",
   "execution_count": 34,
   "id": "091c6b73",
   "metadata": {},
   "outputs": [
    {
     "data": {
      "text/html": [
       "<div>\n",
       "<style scoped>\n",
       "    .dataframe tbody tr th:only-of-type {\n",
       "        vertical-align: middle;\n",
       "    }\n",
       "\n",
       "    .dataframe tbody tr th {\n",
       "        vertical-align: top;\n",
       "    }\n",
       "\n",
       "    .dataframe thead th {\n",
       "        text-align: right;\n",
       "    }\n",
       "</style>\n",
       "<table border=\"1\" class=\"dataframe\">\n",
       "  <thead>\n",
       "    <tr style=\"text-align: right;\">\n",
       "      <th></th>\n",
       "      <th>RAM</th>\n",
       "      <th>Gender_Female</th>\n",
       "      <th>Gender_Male</th>\n",
       "      <th>Age Range_10 - 20</th>\n",
       "      <th>Age Range_21 - 30</th>\n",
       "      <th>Age Range_31 - 40</th>\n",
       "      <th>Age Range_41 - 50</th>\n",
       "      <th>Occupation_Associate software engineer</th>\n",
       "      <th>Occupation_Other</th>\n",
       "      <th>Occupation_Senior software engineer</th>\n",
       "      <th>...</th>\n",
       "      <th>Laptop Brand_Accer</th>\n",
       "      <th>Laptop Brand_Asus</th>\n",
       "      <th>Laptop Brand_Dell</th>\n",
       "      <th>Laptop Brand_HP</th>\n",
       "      <th>Laptop Brand_Other</th>\n",
       "      <th>Processor_AMD</th>\n",
       "      <th>Processor_Intel Core i3</th>\n",
       "      <th>Processor_Intel Core i5</th>\n",
       "      <th>Processor_Intel Core i7</th>\n",
       "      <th>Processor_Other</th>\n",
       "    </tr>\n",
       "  </thead>\n",
       "  <tbody>\n",
       "    <tr>\n",
       "      <th>0</th>\n",
       "      <td>16</td>\n",
       "      <td>0</td>\n",
       "      <td>1</td>\n",
       "      <td>0</td>\n",
       "      <td>1</td>\n",
       "      <td>0</td>\n",
       "      <td>0</td>\n",
       "      <td>1</td>\n",
       "      <td>0</td>\n",
       "      <td>0</td>\n",
       "      <td>...</td>\n",
       "      <td>0</td>\n",
       "      <td>1</td>\n",
       "      <td>0</td>\n",
       "      <td>0</td>\n",
       "      <td>0</td>\n",
       "      <td>0</td>\n",
       "      <td>0</td>\n",
       "      <td>1</td>\n",
       "      <td>0</td>\n",
       "      <td>0</td>\n",
       "    </tr>\n",
       "    <tr>\n",
       "      <th>1</th>\n",
       "      <td>8</td>\n",
       "      <td>0</td>\n",
       "      <td>1</td>\n",
       "      <td>0</td>\n",
       "      <td>1</td>\n",
       "      <td>0</td>\n",
       "      <td>0</td>\n",
       "      <td>1</td>\n",
       "      <td>0</td>\n",
       "      <td>0</td>\n",
       "      <td>...</td>\n",
       "      <td>0</td>\n",
       "      <td>1</td>\n",
       "      <td>0</td>\n",
       "      <td>0</td>\n",
       "      <td>0</td>\n",
       "      <td>0</td>\n",
       "      <td>0</td>\n",
       "      <td>1</td>\n",
       "      <td>0</td>\n",
       "      <td>0</td>\n",
       "    </tr>\n",
       "  </tbody>\n",
       "</table>\n",
       "<p>2 rows × 30 columns</p>\n",
       "</div>"
      ],
      "text/plain": [
       "   RAM  Gender_Female  Gender_Male  Age Range_10 - 20  Age Range_21 - 30  \\\n",
       "0   16              0            1                  0                  1   \n",
       "1    8              0            1                  0                  1   \n",
       "\n",
       "   Age Range_31 - 40  Age Range_41 - 50  \\\n",
       "0                  0                  0   \n",
       "1                  0                  0   \n",
       "\n",
       "   Occupation_Associate software engineer  Occupation_Other  \\\n",
       "0                                       1                 0   \n",
       "1                                       1                 0   \n",
       "\n",
       "   Occupation_Senior software engineer  ...  Laptop Brand_Accer  \\\n",
       "0                                    0  ...                   0   \n",
       "1                                    0  ...                   0   \n",
       "\n",
       "   Laptop Brand_Asus  Laptop Brand_Dell  Laptop Brand_HP  Laptop Brand_Other  \\\n",
       "0                  1                  0                0                   0   \n",
       "1                  1                  0                0                   0   \n",
       "\n",
       "   Processor_AMD  Processor_Intel Core i3  Processor_Intel Core i5  \\\n",
       "0              0                        0                        1   \n",
       "1              0                        0                        1   \n",
       "\n",
       "   Processor_Intel Core i7  Processor_Other  \n",
       "0                        0                0  \n",
       "1                        0                0  \n",
       "\n",
       "[2 rows x 30 columns]"
      ]
     },
     "execution_count": 34,
     "metadata": {},
     "output_type": "execute_result"
    }
   ],
   "source": [
    "x.head(2)"
   ]
  },
  {
   "cell_type": "code",
   "execution_count": 38,
   "id": "160fe956",
   "metadata": {},
   "outputs": [],
   "source": [
    "# from sklearn.model_selection import train_test_split\n",
    "# x_train, x_test, y_train, y_test = train_test_split(x,y, test_size = 0.3)"
   ]
  },
  {
   "cell_type": "code",
   "execution_count": 39,
   "id": "80364b41",
   "metadata": {},
   "outputs": [],
   "source": [
    "# # DecisionTreeClassifier\n",
    "# from sklearn.tree import DecisionTreeClassifier\n",
    "# model = DecisionTreeClassifier()\n",
    "# model.fit(x_train, y_train)\n",
    "\n",
    "# # DecisionTreeClassifier\n",
    "# from sklearn.ensemble import RandomForestClassifier\n",
    "# model2 = RandomForestClassifier()\n",
    "# model2.fit(x_train, y_train)"
   ]
  },
  {
   "cell_type": "code",
   "execution_count": 40,
   "id": "3321e484",
   "metadata": {},
   "outputs": [],
   "source": [
    "# pred = model.predict(x_test)\n",
    "# pred2 = model2.predict(x_test)"
   ]
  },
  {
   "cell_type": "code",
   "execution_count": 41,
   "id": "29c507de",
   "metadata": {},
   "outputs": [],
   "source": [
    "# from sklearn.metrics import accuracy_score\n",
    "# accuracy_score(y_test, pred)\n",
    "# accuracy_score(y_test, pred2)"
   ]
  },
  {
   "cell_type": "code",
   "execution_count": 42,
   "id": "b1859941",
   "metadata": {},
   "outputs": [],
   "source": [
    "# model.predict([[1, 0, 1, 0, 1, 0, 0, 1, 0, 0, 0, 0, 0, 0, 1, 0, 0, 0, 0, 0, 0, 0, 1, 0, 0]])"
   ]
  },
  {
   "cell_type": "markdown",
   "id": "52a9276a",
   "metadata": {},
   "source": [
    "# Divide dataset into training and testing set"
   ]
  },
  {
   "cell_type": "code",
   "execution_count": 35,
   "id": "d2a0b8bb",
   "metadata": {},
   "outputs": [],
   "source": [
    "from sklearn.model_selection import train_test_split\n",
    "x_train, x_test, y_train, y_test = train_test_split(x, y, test_size = 0.25)"
   ]
  },
  {
   "cell_type": "code",
   "execution_count": 36,
   "id": "d50b3975",
   "metadata": {
    "scrolled": true
   },
   "outputs": [
    {
     "data": {
      "text/plain": [
       "((171, 30), (57, 30))"
      ]
     },
     "execution_count": 36,
     "metadata": {},
     "output_type": "execute_result"
    }
   ],
   "source": [
    "x_train.shape, x_test.shape"
   ]
  },
  {
   "cell_type": "markdown",
   "id": "b6435b29",
   "metadata": {},
   "source": [
    "# Model training"
   ]
  },
  {
   "cell_type": "code",
   "execution_count": 37,
   "id": "1725c593",
   "metadata": {},
   "outputs": [],
   "source": [
    "def model_acc(model):\n",
    "    model.fit(x_train, y_train)\n",
    "    acc = model.score(x_test, y_test)\n",
    "    print(str(model)+ ' --> ' +str(acc))"
   ]
  },
  {
   "cell_type": "code",
   "execution_count": 56,
   "id": "234d7822",
   "metadata": {},
   "outputs": [
    {
     "name": "stdout",
     "output_type": "stream",
     "text": [
      "DecisionTreeClassifier() --> 0.40350877192982454\n",
      "RandomForestClassifier() --> 0.3684210526315789\n",
      "MLPClassifier() --> 0.3508771929824561\n"
     ]
    },
    {
     "name": "stderr",
     "output_type": "stream",
     "text": [
      "C:\\Users\\HP\\Desktop\\MY\\Machine-Learning\\LaptopRecommendation System\\model\\env\\lib\\site-packages\\sklearn\\neural_network\\_multilayer_perceptron.py:692: ConvergenceWarning: Stochastic Optimizer: Maximum iterations (200) reached and the optimization hasn't converged yet.\n",
      "  warnings.warn(\n"
     ]
    }
   ],
   "source": [
    "from sklearn.tree import DecisionTreeClassifier\n",
    "dt = DecisionTreeClassifier()\n",
    "model_acc(dt)\n",
    "\n",
    "from sklearn.ensemble import RandomForestClassifier\n",
    "rf = RandomForestClassifier()\n",
    "model_acc(rf)\n",
    "\n",
    "# from sklearn.naive_bayes import MultinomialNB\n",
    "# nb = MultinomialNB()\n",
    "# model_acc(nb)\n",
    "\n",
    "from sklearn.neural_network import MLPClassifier\n",
    "clf = MLPClassifier()\n",
    "model_acc(clf)\n",
    "\n",
    "# from sklearn.linear_model import RidgeClassifier\n",
    "# rc = RidgeClassifier()\n",
    "# model_acc(rc)\n"
   ]
  },
  {
   "cell_type": "code",
   "execution_count": 52,
   "id": "75e66a35",
   "metadata": {},
   "outputs": [
    {
     "data": {
      "text/plain": [
       "StandardScaler()"
      ]
     },
     "execution_count": 52,
     "metadata": {},
     "output_type": "execute_result"
    }
   ],
   "source": [
    "from sklearn.preprocessing import StandardScaler\n",
    "sc = StandardScaler()\n",
    "sc.fit(x_train, y_train)"
   ]
  },
  {
   "cell_type": "code",
   "execution_count": null,
   "id": "c24aa65f",
   "metadata": {},
   "outputs": [],
   "source": []
  },
  {
   "cell_type": "code",
   "execution_count": 57,
   "id": "9db9e95b",
   "metadata": {},
   "outputs": [],
   "source": [
    "# # result = sc.s(x_test, y_test)\n",
    "# !pip instrall \n",
    "# print(\"Accuracy:\", metrics.accuracy_score(y_test,y))\n",
    "# y_testX=y_test.astype(int)\n",
    "# y_testX"
   ]
  },
  {
   "cell_type": "code",
   "execution_count": 51,
   "id": "ca07b867",
   "metadata": {},
   "outputs": [],
   "source": [
    "# Fitting the ANN to the Training set\n"
   ]
  },
  {
   "cell_type": "code",
   "execution_count": 47,
   "id": "c75cc04c",
   "metadata": {},
   "outputs": [],
   "source": [
    "# from sklearn.multioutput import MultiOutputClassifier\n",
    "# from sklearn.ensemble import RandomForestClassifier\n",
    "# forest = RandomForestClassifier(random_state=1)\n",
    "# multi_target_forest = MultiOutputClassifier(forest, n_jobs=-1)\n",
    "# # multi_target_forest.fit(x_train, y_train).predict([0, 1, 0, 1, 0, 0, 1, 0, 0, 0, 0, 0, 0, 1, 0, 0, 0, 0, 0, 0, 0, 1, 0, 0])"
   ]
  },
  {
   "cell_type": "code",
   "execution_count": 86,
   "id": "34de5654",
   "metadata": {},
   "outputs": [
    {
     "data": {
      "text/plain": [
       "Index(['RAM', 'Gender_Female', 'Gender_Male', 'Age Range_10 - 20',\n",
       "       'Age Range_21 - 30', 'Age Range_31 - 40', 'Age Range_41 - 50',\n",
       "       'Occupation_Associate software engineer', 'Occupation_Other',\n",
       "       'Occupation_Senior software engineer', 'Occupation_Software engineer',\n",
       "       'Occupation_Student', 'Occupation_Undergraduate',\n",
       "       'Monthly Income Range_100k - 150k', 'Monthly Income Range_10k - 50k',\n",
       "       'Monthly Income Range_150k - 200k', 'Monthly Income Range_200k - 250k',\n",
       "       'Monthly Income Range_50k - 100k',\n",
       "       'Monthly Income Range_More than 250k', 'Monthly Income Range_Unpaid',\n",
       "       'Laptop Brand_Accer', 'Laptop Brand_Asus', 'Laptop Brand_Dell',\n",
       "       'Laptop Brand_HP', 'Laptop Brand_Other', 'Processor_AMD',\n",
       "       'Processor_Intel Core i3', 'Processor_Intel Core i5',\n",
       "       'Processor_Intel Core i7', 'Processor_Other'],\n",
       "      dtype='object')"
      ]
     },
     "execution_count": 86,
     "metadata": {},
     "output_type": "execute_result"
    }
   ],
   "source": [
    "x_test.columns"
   ]
  },
  {
   "cell_type": "code",
   "execution_count": null,
   "id": "80b6db49",
   "metadata": {},
   "outputs": [],
   "source": [
    "pred_value = nb.predict([[16, 0, 1, 0, 1, 0, 0, 1, 0, 0, 0, 0, 0, 0, 1, 0, 0, 0, 0, 0, 0, 0, 0, 1, 0, 0, 0, 1, 0, 0]])\n",
    "pred_value"
   ]
  },
  {
   "cell_type": "markdown",
   "id": "922b26e4",
   "metadata": {},
   "source": [
    "# SMOTE Technique"
   ]
  },
  {
   "cell_type": "code",
   "execution_count": 93,
   "id": "da6ed484",
   "metadata": {},
   "outputs": [
    {
     "name": "stdout",
     "output_type": "stream",
     "text": [
      "Requirement already satisfied: imbalanced-learn in c:\\users\\hp\\desktop\\my\\machine-learning\\laptoprecommendation system\\model\\env\\lib\\site-packages (0.9.0)\n",
      "Requirement already satisfied: scipy>=1.1.0 in c:\\users\\hp\\desktop\\my\\machine-learning\\laptoprecommendation system\\model\\env\\lib\\site-packages (from imbalanced-learn) (1.8.0)\n",
      "Requirement already satisfied: threadpoolctl>=2.0.0 in c:\\users\\hp\\desktop\\my\\machine-learning\\laptoprecommendation system\\model\\env\\lib\\site-packages (from imbalanced-learn) (3.1.0)\n",
      "Requirement already satisfied: numpy>=1.14.6 in c:\\users\\hp\\desktop\\my\\machine-learning\\laptoprecommendation system\\model\\env\\lib\\site-packages (from imbalanced-learn) (1.22.3)\n",
      "Requirement already satisfied: scikit-learn>=1.0.1 in c:\\users\\hp\\desktop\\my\\machine-learning\\laptoprecommendation system\\model\\env\\lib\\site-packages (from imbalanced-learn) (1.0.2)\n",
      "Requirement already satisfied: joblib>=0.11 in c:\\users\\hp\\desktop\\my\\machine-learning\\laptoprecommendation system\\model\\env\\lib\\site-packages (from imbalanced-learn) (1.1.0)\n"
     ]
    }
   ],
   "source": [
    "!pip install imbalanced-learn"
   ]
  },
  {
   "cell_type": "code",
   "execution_count": 95,
   "id": "f7e20e5b",
   "metadata": {},
   "outputs": [],
   "source": [
    "# from imblearn.over_sampling import SMOTE\n",
    "# smote = SMOTE()\n",
    "# x_smote, y_smote = smote.fit_resample(x, y)"
   ]
  },
  {
   "cell_type": "code",
   "execution_count": 96,
   "id": "f9bb8cf7",
   "metadata": {},
   "outputs": [],
   "source": [
    "from imblearn.over_sampling import RandomOverSampler\n",
    "oversample = RandomOverSampler()\n",
    "x_over, y_over = oversample.fit_resample(x, y)"
   ]
  },
  {
   "cell_type": "code",
   "execution_count": 107,
   "id": "d892a114",
   "metadata": {},
   "outputs": [
    {
     "data": {
      "text/plain": [
       "Asus Zenbook 14 UX425         32\n",
       "Asus Vivobook Pro 15 OLED     32\n",
       "Dell Vostro 3399              32\n",
       "Dell Inspiron 5509            32\n",
       "Lenovo Legion 5               32\n",
       "Dell Inspiron 5512            32\n",
       "Asus Vivobook Pro 15 OLED     32\n",
       "FL 3400-11369                 32\n",
       "Singer S457-1139G6            32\n",
       "Satellite Pro                 32\n",
       "Lenovo Legion 3               32\n",
       "HP Victus 16- D0445TX         32\n",
       "Chromebook 3                  32\n",
       "Dell Vostro 3401              32\n",
       "ACER A515-1135G9              32\n",
       "ACER A515-1135G8              32\n",
       "Dell Inspiron 5511            32\n",
       "HP 15s-DU3561TU               32\n",
       "HP Victus 16- D0445TX         32\n",
       "MacBook Pro                   32\n",
       "HP 15s-DU1114Tu               32\n",
       "ACER A515-1135G7              32\n",
       "Asus X515JA                   32\n",
       "Dell Vostro 3400              32\n",
       "Aspire 3                      32\n",
       "MSI GF63 Thin 11UC            32\n",
       "Dell Inspiron 5510            32\n",
       "MacBook Air                   32\n",
       "Name: Model, dtype: int64"
      ]
     },
     "execution_count": 107,
     "metadata": {},
     "output_type": "execute_result"
    }
   ],
   "source": [
    "y_over.value_counts()"
   ]
  },
  {
   "cell_type": "code",
   "execution_count": 58,
   "id": "87625d8e",
   "metadata": {},
   "outputs": [],
   "source": [
    "from sklearn.tree import DecisionTreeClassifier\n",
    "dt = DecisionTreeClassifier()"
   ]
  },
  {
   "cell_type": "code",
   "execution_count": 59,
   "id": "a720b3b8",
   "metadata": {},
   "outputs": [],
   "source": [
    "from sklearn.model_selection import train_test_split\n",
    "x_over_train, x_over_test, y_over_train, y_over_test = train_test_split(x, y, test_size = 0.25)"
   ]
  },
  {
   "cell_type": "code",
   "execution_count": 62,
   "id": "16c51576",
   "metadata": {},
   "outputs": [
    {
     "name": "stdout",
     "output_type": "stream",
     "text": [
      "DecisionTreeClassifier() --> 0.3684210526315789\n"
     ]
    }
   ],
   "source": [
    "dt.fit(x_over_train, y_over_train)\n",
    "accb = dt.score(x_over_test, y_over_test)\n",
    "print(str(dt)+ ' --> ' +str(accb))"
   ]
  },
  {
   "cell_type": "code",
   "execution_count": 112,
   "id": "2fd2576e",
   "metadata": {},
   "outputs": [
    {
     "name": "stdout",
     "output_type": "stream",
     "text": [
      "Before SMOTE : Counter({'Dell Vostro 3400': 23, 'HP 15s-DU1114Tu': 22, 'Dell Inspiron 5510': 14, 'HP Victus 16- D0445TX ': 13, 'ACER A515-1135G7': 11, 'HP 15s-DU3561TU': 11, 'Aspire 3': 9, 'Asus Zenbook 14 UX425': 8, 'Asus Vivobook Pro 15 OLED ': 8, 'HP Victus 16- D0445TX': 7, 'Dell Inspiron 5511': 6, 'MacBook Pro': 6, 'Asus X515JA': 5, 'Asus Vivobook Pro 15 OLED': 5, 'Dell Vostro 3401': 5, 'Lenovo Legion 5': 4, 'Lenovo Legion 3': 4, 'MSI GF63 Thin 11UC': 2, 'Satellite Pro': 2, 'ACER A515-1135G8': 1, 'Dell Inspiron 5512': 1, 'Dell Inspiron 5509': 1, 'Dell Vostro 3399': 1, 'Singer S457-1139G6': 1, 'ACER A515-1135G9': 1})\n",
      "After SMOTE : Counter({'Asus Zenbook 14 UX425': 32, 'Asus Vivobook Pro 15 OLED ': 32, 'Dell Inspiron 5510': 32, 'MSI GF63 Thin 11UC': 32, 'Aspire 3': 32, 'Dell Vostro 3400': 32, 'Asus X515JA': 32, 'ACER A515-1135G7': 32, 'HP 15s-DU1114Tu': 32, 'MacBook Pro': 32, 'HP Victus 16- D0445TX ': 32, 'HP 15s-DU3561TU': 32, 'Dell Inspiron 5511': 32, 'ACER A515-1135G8': 32, 'ACER A515-1135G9': 32, 'Dell Vostro 3401': 32, 'Chromebook 3': 32, 'HP Victus 16- D0445TX': 32, 'Lenovo Legion 3': 32, 'Satellite Pro': 32, 'Singer S457-1139G6': 32, 'FL 3400-11369': 32, 'Asus Vivobook Pro 15 OLED': 32, 'Dell Inspiron 5512': 32, 'Lenovo Legion 5': 32, 'Dell Inspiron 5509': 32, 'Dell Vostro 3399': 32, 'MacBook Air': 32})\n"
     ]
    }
   ],
   "source": [
    "from collections import Counter\n",
    "print(\"Before SMOTE :\" , Counter(y_train))\n",
    "print(\"After SMOTE :\" , Counter(y_over))"
   ]
  },
  {
   "cell_type": "code",
   "execution_count": 115,
   "id": "277b8cf8",
   "metadata": {},
   "outputs": [],
   "source": [
    "from sklearn.neighbors import KNeighborsClassifier\n",
    "model = KNeighborsClassifier()"
   ]
  },
  {
   "cell_type": "code",
   "execution_count": 116,
   "id": "44c2a4f6",
   "metadata": {},
   "outputs": [
    {
     "name": "stdout",
     "output_type": "stream",
     "text": [
      "KNeighborsClassifier() --> 0.22807017543859648\n"
     ]
    }
   ],
   "source": [
    "model.fit(x_over_train, y_over_train)\n",
    "accb = model.score(x_over_test, y_over_test)\n",
    "print(str(model)+ ' --> ' +str(accb))"
   ]
  },
  {
   "cell_type": "code",
   "execution_count": null,
   "id": "6c6ac780",
   "metadata": {},
   "outputs": [],
   "source": []
  }
 ],
 "metadata": {
  "kernelspec": {
   "display_name": "Python 3 (ipykernel)",
   "language": "python",
   "name": "python3"
  },
  "language_info": {
   "codemirror_mode": {
    "name": "ipython",
    "version": 3
   },
   "file_extension": ".py",
   "mimetype": "text/x-python",
   "name": "python",
   "nbconvert_exporter": "python",
   "pygments_lexer": "ipython3",
   "version": "3.10.4"
  }
 },
 "nbformat": 4,
 "nbformat_minor": 5
}
