{
 "cells": [
  {
   "cell_type": "code",
   "execution_count": 1,
   "id": "deb5de0b",
   "metadata": {},
   "outputs": [
    {
     "name": "stdout",
     "output_type": "stream",
     "text": [
      "Collecting numpy\n",
      "  Using cached numpy-1.22.3-cp310-cp310-win_amd64.whl (14.7 MB)\n",
      "Installing collected packages: numpy\n",
      "Successfully installed numpy-1.22.3\n",
      "Collecting pandas\n",
      "  Using cached pandas-1.4.1-cp310-cp310-win_amd64.whl (10.6 MB)\n",
      "Requirement already satisfied: python-dateutil>=2.8.1 in c:\\users\\hp\\desktop\\my\\machine-learning\\laptoprecommendation system\\model\\env\\lib\\site-packages (from pandas) (2.8.2)\n",
      "Requirement already satisfied: numpy>=1.21.0 in c:\\users\\hp\\desktop\\my\\machine-learning\\laptoprecommendation system\\model\\env\\lib\\site-packages (from pandas) (1.22.3)\n",
      "Collecting pytz>=2020.1\n",
      "  Using cached pytz-2021.3-py2.py3-none-any.whl (503 kB)\n",
      "Requirement already satisfied: six>=1.5 in c:\\users\\hp\\desktop\\my\\machine-learning\\laptoprecommendation system\\model\\env\\lib\\site-packages (from python-dateutil>=2.8.1->pandas) (1.16.0)\n",
      "Installing collected packages: pytz, pandas\n",
      "Successfully installed pandas-1.4.1 pytz-2021.3\n"
     ]
    }
   ],
   "source": [
    "!pip install numpy\n",
    "!pip install pandas"
   ]
  },
  {
   "cell_type": "raw",
   "id": "68e024f6",
   "metadata": {},
   "source": [
    "import numpy as np\n",
    "import pandas as pd"
   ]
  },
  {
   "cell_type": "code",
   "execution_count": 30,
   "id": "89a4bf9c",
   "metadata": {},
   "outputs": [],
   "source": [
    "url1 = \"https://raw.githubusercontent.com/tharindu97/Machine-Learning/main/users.csv\"\n",
    "url2 = \"https://raw.githubusercontent.com/tharindu97/Machine-Learning/main/laptops.csv\"\n",
    "user = pd.read_csv(url1, encoding='latin-1')\n",
    "laptop = pd.read_csv(url2, encoding='latin-1')"
   ]
  },
  {
   "cell_type": "code",
   "execution_count": 31,
   "id": "cd36ddc1",
   "metadata": {},
   "outputs": [
    {
     "name": "stdout",
     "output_type": "stream",
     "text": [
      "<class 'pandas.core.frame.DataFrame'>\n",
      "RangeIndex: 230 entries, 0 to 229\n",
      "Data columns (total 9 columns):\n",
      " #   Column                Non-Null Count  Dtype \n",
      "---  ------                --------------  ----- \n",
      " 0   Timestamp             230 non-null    object\n",
      " 1   Gender                230 non-null    object\n",
      " 2   Age Range             230 non-null    object\n",
      " 3   Occupation            230 non-null    object\n",
      " 4   Monthly Income Range  230 non-null    object\n",
      " 5   Laptop Brand          229 non-null    object\n",
      " 6   RAM                   229 non-null    object\n",
      " 7   Processor             229 non-null    object\n",
      " 8   Storage               229 non-null    object\n",
      "dtypes: object(9)\n",
      "memory usage: 16.3+ KB\n"
     ]
    }
   ],
   "source": [
    "user.info()"
   ]
  },
  {
   "cell_type": "code",
   "execution_count": 32,
   "id": "f58fcaf3",
   "metadata": {},
   "outputs": [
    {
     "data": {
      "text/html": [
       "<div>\n",
       "<style scoped>\n",
       "    .dataframe tbody tr th:only-of-type {\n",
       "        vertical-align: middle;\n",
       "    }\n",
       "\n",
       "    .dataframe tbody tr th {\n",
       "        vertical-align: top;\n",
       "    }\n",
       "\n",
       "    .dataframe thead th {\n",
       "        text-align: right;\n",
       "    }\n",
       "</style>\n",
       "<table border=\"1\" class=\"dataframe\">\n",
       "  <thead>\n",
       "    <tr style=\"text-align: right;\">\n",
       "      <th></th>\n",
       "      <th>Timestamp</th>\n",
       "      <th>Gender</th>\n",
       "      <th>Age Range</th>\n",
       "      <th>Occupation</th>\n",
       "      <th>Monthly Income Range</th>\n",
       "      <th>Laptop Brand</th>\n",
       "      <th>RAM</th>\n",
       "      <th>Processor</th>\n",
       "      <th>Storage</th>\n",
       "    </tr>\n",
       "  </thead>\n",
       "  <tbody>\n",
       "    <tr>\n",
       "      <th>0</th>\n",
       "      <td>3/9/2022 12:59:00</td>\n",
       "      <td>Male</td>\n",
       "      <td>21 - 30</td>\n",
       "      <td>Associate software engineer</td>\n",
       "      <td>50k - 100k</td>\n",
       "      <td>Asus</td>\n",
       "      <td>16GB</td>\n",
       "      <td>Intel Core i5</td>\n",
       "      <td>1TB</td>\n",
       "    </tr>\n",
       "    <tr>\n",
       "      <th>1</th>\n",
       "      <td>3/9/2022 12:59:31</td>\n",
       "      <td>Male</td>\n",
       "      <td>21 - 30</td>\n",
       "      <td>Associate software engineer</td>\n",
       "      <td>50k - 100k</td>\n",
       "      <td>Asus</td>\n",
       "      <td>8GB</td>\n",
       "      <td>Intel Core i5</td>\n",
       "      <td>1TB</td>\n",
       "    </tr>\n",
       "  </tbody>\n",
       "</table>\n",
       "</div>"
      ],
      "text/plain": [
       "           Timestamp Gender Age Range                   Occupation  \\\n",
       "0  3/9/2022 12:59:00   Male   21 - 30  Associate software engineer   \n",
       "1  3/9/2022 12:59:31   Male   21 - 30  Associate software engineer   \n",
       "\n",
       "  Monthly Income Range Laptop Brand   RAM      Processor Storage  \n",
       "0           50k - 100k         Asus  16GB  Intel Core i5     1TB  \n",
       "1           50k - 100k         Asus   8GB  Intel Core i5     1TB  "
      ]
     },
     "execution_count": 32,
     "metadata": {},
     "output_type": "execute_result"
    }
   ],
   "source": [
    "user.head(2)"
   ]
  },
  {
   "cell_type": "markdown",
   "id": "7a6362a2",
   "metadata": {},
   "source": [
    "# Drop unnecessary columns"
   ]
  },
  {
   "cell_type": "code",
   "execution_count": 33,
   "id": "c14aa435",
   "metadata": {},
   "outputs": [],
   "source": [
    "user = user.drop(columns=['Timestamp'])"
   ]
  },
  {
   "cell_type": "code",
   "execution_count": 34,
   "id": "bcaa171c",
   "metadata": {},
   "outputs": [
    {
     "data": {
      "text/html": [
       "<div>\n",
       "<style scoped>\n",
       "    .dataframe tbody tr th:only-of-type {\n",
       "        vertical-align: middle;\n",
       "    }\n",
       "\n",
       "    .dataframe tbody tr th {\n",
       "        vertical-align: top;\n",
       "    }\n",
       "\n",
       "    .dataframe thead th {\n",
       "        text-align: right;\n",
       "    }\n",
       "</style>\n",
       "<table border=\"1\" class=\"dataframe\">\n",
       "  <thead>\n",
       "    <tr style=\"text-align: right;\">\n",
       "      <th></th>\n",
       "      <th>Gender</th>\n",
       "      <th>Age Range</th>\n",
       "      <th>Occupation</th>\n",
       "      <th>Monthly Income Range</th>\n",
       "      <th>Laptop Brand</th>\n",
       "      <th>RAM</th>\n",
       "      <th>Processor</th>\n",
       "      <th>Storage</th>\n",
       "    </tr>\n",
       "  </thead>\n",
       "  <tbody>\n",
       "    <tr>\n",
       "      <th>0</th>\n",
       "      <td>Male</td>\n",
       "      <td>21 - 30</td>\n",
       "      <td>Associate software engineer</td>\n",
       "      <td>50k - 100k</td>\n",
       "      <td>Asus</td>\n",
       "      <td>16GB</td>\n",
       "      <td>Intel Core i5</td>\n",
       "      <td>1TB</td>\n",
       "    </tr>\n",
       "    <tr>\n",
       "      <th>1</th>\n",
       "      <td>Male</td>\n",
       "      <td>21 - 30</td>\n",
       "      <td>Associate software engineer</td>\n",
       "      <td>50k - 100k</td>\n",
       "      <td>Asus</td>\n",
       "      <td>8GB</td>\n",
       "      <td>Intel Core i5</td>\n",
       "      <td>1TB</td>\n",
       "    </tr>\n",
       "  </tbody>\n",
       "</table>\n",
       "</div>"
      ],
      "text/plain": [
       "  Gender Age Range                   Occupation Monthly Income Range  \\\n",
       "0   Male   21 - 30  Associate software engineer           50k - 100k   \n",
       "1   Male   21 - 30  Associate software engineer           50k - 100k   \n",
       "\n",
       "  Laptop Brand   RAM      Processor Storage  \n",
       "0         Asus  16GB  Intel Core i5     1TB  \n",
       "1         Asus   8GB  Intel Core i5     1TB  "
      ]
     },
     "execution_count": 34,
     "metadata": {},
     "output_type": "execute_result"
    }
   ],
   "source": [
    "user.head(2)"
   ]
  },
  {
   "cell_type": "markdown",
   "id": "81a3bc1b",
   "metadata": {},
   "source": [
    "# Data Analysis"
   ]
  },
  {
   "cell_type": "code",
   "execution_count": 36,
   "id": "f1a12f6f",
   "metadata": {},
   "outputs": [
    {
     "data": {
      "text/plain": [
       "Gender                  0\n",
       "Age Range               0\n",
       "Occupation              0\n",
       "Monthly Income Range    0\n",
       "Laptop Brand            1\n",
       "RAM                     1\n",
       "Processor               1\n",
       "Storage                 1\n",
       "dtype: int64"
      ]
     },
     "execution_count": 36,
     "metadata": {},
     "output_type": "execute_result"
    }
   ],
   "source": [
    "user.isnull().sum()"
   ]
  },
  {
   "cell_type": "code",
   "execution_count": 17,
   "id": "28297c78",
   "metadata": {},
   "outputs": [],
   "source": []
  },
  {
   "cell_type": "code",
   "execution_count": null,
   "id": "d7aaea7a",
   "metadata": {},
   "outputs": [],
   "source": []
  },
  {
   "cell_type": "code",
   "execution_count": 19,
   "id": "cd6bd1ed",
   "metadata": {},
   "outputs": [],
   "source": []
  },
  {
   "cell_type": "code",
   "execution_count": null,
   "id": "64e2241a",
   "metadata": {},
   "outputs": [],
   "source": []
  },
  {
   "cell_type": "code",
   "execution_count": null,
   "id": "0ca89a8c",
   "metadata": {},
   "outputs": [],
   "source": []
  },
  {
   "cell_type": "code",
   "execution_count": null,
   "id": "5e3df130",
   "metadata": {},
   "outputs": [],
   "source": []
  },
  {
   "cell_type": "code",
   "execution_count": null,
   "id": "3f92624f",
   "metadata": {},
   "outputs": [],
   "source": []
  },
  {
   "cell_type": "code",
   "execution_count": null,
   "id": "3bbf8065",
   "metadata": {},
   "outputs": [],
   "source": []
  }
 ],
 "metadata": {
  "kernelspec": {
   "display_name": "Python 3 (ipykernel)",
   "language": "python",
   "name": "python3"
  },
  "language_info": {
   "codemirror_mode": {
    "name": "ipython",
    "version": 3
   },
   "file_extension": ".py",
   "mimetype": "text/x-python",
   "name": "python",
   "nbconvert_exporter": "python",
   "pygments_lexer": "ipython3",
   "version": "3.10.3"
  }
 },
 "nbformat": 4,
 "nbformat_minor": 5
}
