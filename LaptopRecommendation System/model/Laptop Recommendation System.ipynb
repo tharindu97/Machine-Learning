{
 "cells": [
  {
   "cell_type": "code",
   "execution_count": 1,
   "id": "deb5de0b",
   "metadata": {},
   "outputs": [
    {
     "name": "stdout",
     "output_type": "stream",
     "text": [
      "Collecting numpy\n",
      "  Using cached numpy-1.22.3-cp310-cp310-win_amd64.whl (14.7 MB)\n",
      "Installing collected packages: numpy\n",
      "Successfully installed numpy-1.22.3\n",
      "Collecting pandas\n",
      "  Using cached pandas-1.4.1-cp310-cp310-win_amd64.whl (10.6 MB)\n",
      "Requirement already satisfied: python-dateutil>=2.8.1 in c:\\users\\hp\\desktop\\my\\machine-learning\\laptoprecommendation system\\model\\env\\lib\\site-packages (from pandas) (2.8.2)\n",
      "Requirement already satisfied: numpy>=1.21.0 in c:\\users\\hp\\desktop\\my\\machine-learning\\laptoprecommendation system\\model\\env\\lib\\site-packages (from pandas) (1.22.3)\n",
      "Collecting pytz>=2020.1\n",
      "  Using cached pytz-2021.3-py2.py3-none-any.whl (503 kB)\n",
      "Requirement already satisfied: six>=1.5 in c:\\users\\hp\\desktop\\my\\machine-learning\\laptoprecommendation system\\model\\env\\lib\\site-packages (from python-dateutil>=2.8.1->pandas) (1.16.0)\n",
      "Installing collected packages: pytz, pandas\n",
      "Successfully installed pandas-1.4.1 pytz-2021.3\n"
     ]
    }
   ],
   "source": [
    "!pip install numpy\n",
    "!pip install pandas"
   ]
  },
  {
   "cell_type": "raw",
   "id": "68e024f6",
   "metadata": {},
   "source": [
    "import numpy as np\n",
    "import pandas as pd"
   ]
  },
  {
   "cell_type": "code",
   "execution_count": 70,
   "id": "89a4bf9c",
   "metadata": {},
   "outputs": [],
   "source": [
    "url1 = \"https://raw.githubusercontent.com/tharindu97/Machine-Learning/main/users.csv\"\n",
    "url2 = \"https://raw.githubusercontent.com/tharindu97/Machine-Learning/main/laptops.csv\"\n",
    "user = pd.read_csv(url1, encoding='latin-1')\n",
    "laptop = pd.read_csv(url2, encoding='latin-1')"
   ]
  },
  {
   "cell_type": "code",
   "execution_count": 71,
   "id": "cd36ddc1",
   "metadata": {},
   "outputs": [
    {
     "name": "stdout",
     "output_type": "stream",
     "text": [
      "<class 'pandas.core.frame.DataFrame'>\n",
      "RangeIndex: 228 entries, 0 to 227\n",
      "Data columns (total 9 columns):\n",
      " #   Column                Non-Null Count  Dtype \n",
      "---  ------                --------------  ----- \n",
      " 0   Timestamp             228 non-null    object\n",
      " 1   Gender                228 non-null    object\n",
      " 2   Age Range             228 non-null    object\n",
      " 3   Occupation            228 non-null    object\n",
      " 4   Monthly Income Range  228 non-null    object\n",
      " 5   Laptop Brand          228 non-null    object\n",
      " 6   RAM                   228 non-null    object\n",
      " 7   Processor             228 non-null    object\n",
      " 8   Storage               228 non-null    object\n",
      "dtypes: object(9)\n",
      "memory usage: 16.2+ KB\n"
     ]
    }
   ],
   "source": [
    "user.info()"
   ]
  },
  {
   "cell_type": "code",
   "execution_count": 72,
   "id": "f58fcaf3",
   "metadata": {},
   "outputs": [
    {
     "data": {
      "text/html": [
       "<div>\n",
       "<style scoped>\n",
       "    .dataframe tbody tr th:only-of-type {\n",
       "        vertical-align: middle;\n",
       "    }\n",
       "\n",
       "    .dataframe tbody tr th {\n",
       "        vertical-align: top;\n",
       "    }\n",
       "\n",
       "    .dataframe thead th {\n",
       "        text-align: right;\n",
       "    }\n",
       "</style>\n",
       "<table border=\"1\" class=\"dataframe\">\n",
       "  <thead>\n",
       "    <tr style=\"text-align: right;\">\n",
       "      <th></th>\n",
       "      <th>Timestamp</th>\n",
       "      <th>Gender</th>\n",
       "      <th>Age Range</th>\n",
       "      <th>Occupation</th>\n",
       "      <th>Monthly Income Range</th>\n",
       "      <th>Laptop Brand</th>\n",
       "      <th>RAM</th>\n",
       "      <th>Processor</th>\n",
       "      <th>Storage</th>\n",
       "    </tr>\n",
       "  </thead>\n",
       "  <tbody>\n",
       "    <tr>\n",
       "      <th>0</th>\n",
       "      <td>3/9/2022 12:59:00</td>\n",
       "      <td>Male</td>\n",
       "      <td>21 - 30</td>\n",
       "      <td>Associate software engineer</td>\n",
       "      <td>50k - 100k</td>\n",
       "      <td>Asus</td>\n",
       "      <td>16GB</td>\n",
       "      <td>Intel Core i5</td>\n",
       "      <td>1TB</td>\n",
       "    </tr>\n",
       "    <tr>\n",
       "      <th>1</th>\n",
       "      <td>3/9/2022 12:59:31</td>\n",
       "      <td>Male</td>\n",
       "      <td>21 - 30</td>\n",
       "      <td>Associate software engineer</td>\n",
       "      <td>50k - 100k</td>\n",
       "      <td>Asus</td>\n",
       "      <td>8GB</td>\n",
       "      <td>Intel Core i5</td>\n",
       "      <td>1TB</td>\n",
       "    </tr>\n",
       "  </tbody>\n",
       "</table>\n",
       "</div>"
      ],
      "text/plain": [
       "           Timestamp Gender Age Range                   Occupation  \\\n",
       "0  3/9/2022 12:59:00   Male   21 - 30  Associate software engineer   \n",
       "1  3/9/2022 12:59:31   Male   21 - 30  Associate software engineer   \n",
       "\n",
       "  Monthly Income Range Laptop Brand   RAM      Processor Storage  \n",
       "0           50k - 100k         Asus  16GB  Intel Core i5     1TB  \n",
       "1           50k - 100k         Asus   8GB  Intel Core i5     1TB  "
      ]
     },
     "execution_count": 72,
     "metadata": {},
     "output_type": "execute_result"
    }
   ],
   "source": [
    "user.head(2)"
   ]
  },
  {
   "cell_type": "markdown",
   "id": "3b941a79",
   "metadata": {},
   "source": [
    "# Drop unnecessary columns"
   ]
  },
  {
   "cell_type": "code",
   "execution_count": 73,
   "id": "6281fdfb",
   "metadata": {},
   "outputs": [],
   "source": [
    "user = user.drop(columns=['Timestamp'])"
   ]
  },
  {
   "cell_type": "code",
   "execution_count": 76,
   "id": "bcaa171c",
   "metadata": {},
   "outputs": [
    {
     "data": {
      "text/html": [
       "<div>\n",
       "<style scoped>\n",
       "    .dataframe tbody tr th:only-of-type {\n",
       "        vertical-align: middle;\n",
       "    }\n",
       "\n",
       "    .dataframe tbody tr th {\n",
       "        vertical-align: top;\n",
       "    }\n",
       "\n",
       "    .dataframe thead th {\n",
       "        text-align: right;\n",
       "    }\n",
       "</style>\n",
       "<table border=\"1\" class=\"dataframe\">\n",
       "  <thead>\n",
       "    <tr style=\"text-align: right;\">\n",
       "      <th></th>\n",
       "      <th>Gender</th>\n",
       "      <th>Age Range</th>\n",
       "      <th>Occupation</th>\n",
       "      <th>Monthly Income Range</th>\n",
       "      <th>Laptop Brand</th>\n",
       "      <th>RAM</th>\n",
       "      <th>Processor</th>\n",
       "      <th>Storage</th>\n",
       "    </tr>\n",
       "  </thead>\n",
       "  <tbody>\n",
       "    <tr>\n",
       "      <th>0</th>\n",
       "      <td>Male</td>\n",
       "      <td>21 - 30</td>\n",
       "      <td>Associate software engineer</td>\n",
       "      <td>50k - 100k</td>\n",
       "      <td>Asus</td>\n",
       "      <td>16</td>\n",
       "      <td>Intel Core i5</td>\n",
       "      <td>1TB</td>\n",
       "    </tr>\n",
       "    <tr>\n",
       "      <th>1</th>\n",
       "      <td>Male</td>\n",
       "      <td>21 - 30</td>\n",
       "      <td>Associate software engineer</td>\n",
       "      <td>50k - 100k</td>\n",
       "      <td>Asus</td>\n",
       "      <td>8</td>\n",
       "      <td>Intel Core i5</td>\n",
       "      <td>1TB</td>\n",
       "    </tr>\n",
       "  </tbody>\n",
       "</table>\n",
       "</div>"
      ],
      "text/plain": [
       "  Gender Age Range                   Occupation Monthly Income Range  \\\n",
       "0   Male   21 - 30  Associate software engineer           50k - 100k   \n",
       "1   Male   21 - 30  Associate software engineer           50k - 100k   \n",
       "\n",
       "  Laptop Brand  RAM      Processor Storage  \n",
       "0         Asus   16  Intel Core i5     1TB  \n",
       "1         Asus    8  Intel Core i5     1TB  "
      ]
     },
     "execution_count": 76,
     "metadata": {},
     "output_type": "execute_result"
    }
   ],
   "source": [
    "user.head(2)"
   ]
  },
  {
   "cell_type": "markdown",
   "id": "d347f4ca",
   "metadata": {},
   "source": [
    "# Data Analysis"
   ]
  },
  {
   "cell_type": "code",
   "execution_count": 65,
   "id": "f1a12f6f",
   "metadata": {},
   "outputs": [
    {
     "data": {
      "text/plain": [
       "Gender                  0\n",
       "Age Range               0\n",
       "Occupation              0\n",
       "Monthly Income Range    0\n",
       "Laptop Brand            0\n",
       "RAM                     0\n",
       "Processor               0\n",
       "Storage                 0\n",
       "dtype: int64"
      ]
     },
     "execution_count": 65,
     "metadata": {},
     "output_type": "execute_result"
    }
   ],
   "source": [
    "user.isnull().sum()"
   ]
  },
  {
   "cell_type": "code",
   "execution_count": 75,
   "id": "28297c78",
   "metadata": {},
   "outputs": [],
   "source": [
    "user['RAM'] = user['RAM'].str.replace('GB','').astype('int32')"
   ]
  },
  {
   "cell_type": "markdown",
   "id": "b4dcb66f",
   "metadata": {},
   "source": [
    "# Laptop Brand"
   ]
  },
  {
   "cell_type": "code",
   "execution_count": 79,
   "id": "cd6bd1ed",
   "metadata": {},
   "outputs": [
    {
     "data": {
      "text/plain": [
       "Dell                  70\n",
       "HP                    64\n",
       "Asus                  35\n",
       "Accer                 31\n",
       "Lenovo                12\n",
       "Apple                  7\n",
       "Toshiba                3\n",
       "MSI                    2\n",
       "Samsung                1\n",
       "Singer                 1\n",
       "Fujitsu Lifebook A     1\n",
       "Acer                   1\n",
       "Name: Laptop Brand, dtype: int64"
      ]
     },
     "execution_count": 79,
     "metadata": {},
     "output_type": "execute_result"
    }
   ],
   "source": [
    "user['Laptop Brand'].value_counts()"
   ]
  },
  {
   "cell_type": "code",
   "execution_count": 80,
   "id": "64e2241a",
   "metadata": {},
   "outputs": [],
   "source": [
    "def add_company(inpt):\n",
    "    if inpt == 'Lenovo' or inpt == 'Apple' or inpt == 'Toshiba' or inpt == 'MSI'or inpt == 'Samsung'or inpt == 'Singer'or inpt == 'Fujitsu Lifebook A'or inpt == 'Acer':\n",
    "        return 'Other'\n",
    "    else:\n",
    "        return inpt"
   ]
  },
  {
   "cell_type": "code",
   "execution_count": 81,
   "id": "0ca89a8c",
   "metadata": {},
   "outputs": [],
   "source": [
    "user['Laptop Brand'] = user['Laptop Brand'].apply(add_company)"
   ]
  },
  {
   "cell_type": "code",
   "execution_count": 82,
   "id": "5e3df130",
   "metadata": {},
   "outputs": [
    {
     "data": {
      "text/plain": [
       "Dell     70\n",
       "HP       64\n",
       "Asus     35\n",
       "Accer    31\n",
       "Other    28\n",
       "Name: Laptop Brand, dtype: int64"
      ]
     },
     "execution_count": 82,
     "metadata": {},
     "output_type": "execute_result"
    }
   ],
   "source": [
    "user['Laptop Brand'].value_counts()"
   ]
  },
  {
   "cell_type": "markdown",
   "id": "5158b3a5",
   "metadata": {},
   "source": [
    "# Processor"
   ]
  },
  {
   "cell_type": "code",
   "execution_count": 83,
   "id": "3bbf8065",
   "metadata": {},
   "outputs": [
    {
     "data": {
      "text/plain": [
       "Intel Core i5                    91\n",
       "Intel Core i3                    53\n",
       "Intel Core i7                    36\n",
       "AMD Ryzen 5                      18\n",
       "Dual Core                        11\n",
       "AMD Ryzen 7                       7\n",
       "AMD Ryzen 3                       4\n",
       "Celron                            1\n",
       "M1                                1\n",
       "M1 Chipset                        1\n",
       "celeron                           1\n",
       "Intel(R) Celeron(R) CPU 1037U     1\n",
       "M1 Pro                            1\n",
       "M1                                1\n",
       "M2                                1\n",
       "Name: Processor, dtype: int64"
      ]
     },
     "execution_count": 83,
     "metadata": {},
     "output_type": "execute_result"
    }
   ],
   "source": [
    "user['Processor'].value_counts()"
   ]
  },
  {
   "cell_type": "code",
   "execution_count": 84,
   "id": "be749bfb",
   "metadata": {},
   "outputs": [],
   "source": [
    "def set_processor(name):\n",
    "    if name == 'Intel Core i7' or name == 'Intel Core i5' or name == 'Intel Core i3':\n",
    "        return name\n",
    "    else:\n",
    "        if name.split()[0] == 'AMD':\n",
    "            return 'AMD'\n",
    "        else:\n",
    "            return 'Other'"
   ]
  },
  {
   "cell_type": "code",
   "execution_count": 85,
   "id": "1b5fd1f5",
   "metadata": {},
   "outputs": [],
   "source": [
    "user['Processor'] = user['Processor'].apply(set_processor)"
   ]
  },
  {
   "cell_type": "code",
   "execution_count": 86,
   "id": "8b15a722",
   "metadata": {},
   "outputs": [
    {
     "data": {
      "text/plain": [
       "Intel Core i5    91\n",
       "Intel Core i3    53\n",
       "Intel Core i7    36\n",
       "AMD              29\n",
       "Other            19\n",
       "Name: Processor, dtype: int64"
      ]
     },
     "execution_count": 86,
     "metadata": {},
     "output_type": "execute_result"
    }
   ],
   "source": [
    "user['Processor'].value_counts()"
   ]
  },
  {
   "cell_type": "code",
   "execution_count": 87,
   "id": "59b2566c",
   "metadata": {},
   "outputs": [
    {
     "data": {
      "text/html": [
       "<div>\n",
       "<style scoped>\n",
       "    .dataframe tbody tr th:only-of-type {\n",
       "        vertical-align: middle;\n",
       "    }\n",
       "\n",
       "    .dataframe tbody tr th {\n",
       "        vertical-align: top;\n",
       "    }\n",
       "\n",
       "    .dataframe thead th {\n",
       "        text-align: right;\n",
       "    }\n",
       "</style>\n",
       "<table border=\"1\" class=\"dataframe\">\n",
       "  <thead>\n",
       "    <tr style=\"text-align: right;\">\n",
       "      <th></th>\n",
       "      <th>Gender</th>\n",
       "      <th>Age Range</th>\n",
       "      <th>Occupation</th>\n",
       "      <th>Monthly Income Range</th>\n",
       "      <th>Laptop Brand</th>\n",
       "      <th>RAM</th>\n",
       "      <th>Processor</th>\n",
       "      <th>Storage</th>\n",
       "    </tr>\n",
       "  </thead>\n",
       "  <tbody>\n",
       "    <tr>\n",
       "      <th>0</th>\n",
       "      <td>Male</td>\n",
       "      <td>21 - 30</td>\n",
       "      <td>Associate software engineer</td>\n",
       "      <td>50k - 100k</td>\n",
       "      <td>Asus</td>\n",
       "      <td>16</td>\n",
       "      <td>Intel Core i5</td>\n",
       "      <td>1TB</td>\n",
       "    </tr>\n",
       "    <tr>\n",
       "      <th>1</th>\n",
       "      <td>Male</td>\n",
       "      <td>21 - 30</td>\n",
       "      <td>Associate software engineer</td>\n",
       "      <td>50k - 100k</td>\n",
       "      <td>Asus</td>\n",
       "      <td>8</td>\n",
       "      <td>Intel Core i5</td>\n",
       "      <td>1TB</td>\n",
       "    </tr>\n",
       "    <tr>\n",
       "      <th>2</th>\n",
       "      <td>Male</td>\n",
       "      <td>21 - 30</td>\n",
       "      <td>Undergraduate</td>\n",
       "      <td>Unpaid</td>\n",
       "      <td>Dell</td>\n",
       "      <td>4</td>\n",
       "      <td>Intel Core i7</td>\n",
       "      <td>1TB</td>\n",
       "    </tr>\n",
       "    <tr>\n",
       "      <th>3</th>\n",
       "      <td>Male</td>\n",
       "      <td>21 - 30</td>\n",
       "      <td>Associate software engineer</td>\n",
       "      <td>50k - 100k</td>\n",
       "      <td>Other</td>\n",
       "      <td>16</td>\n",
       "      <td>Intel Core i5</td>\n",
       "      <td>1TB</td>\n",
       "    </tr>\n",
       "    <tr>\n",
       "      <th>4</th>\n",
       "      <td>Male</td>\n",
       "      <td>10 - 20</td>\n",
       "      <td>Student</td>\n",
       "      <td>Unpaid</td>\n",
       "      <td>Accer</td>\n",
       "      <td>8</td>\n",
       "      <td>Intel Core i5</td>\n",
       "      <td>512GB</td>\n",
       "    </tr>\n",
       "  </tbody>\n",
       "</table>\n",
       "</div>"
      ],
      "text/plain": [
       "  Gender Age Range                   Occupation Monthly Income Range  \\\n",
       "0   Male   21 - 30  Associate software engineer           50k - 100k   \n",
       "1   Male   21 - 30  Associate software engineer           50k - 100k   \n",
       "2   Male   21 - 30                Undergraduate               Unpaid   \n",
       "3   Male   21 - 30  Associate software engineer           50k - 100k   \n",
       "4   Male   10 - 20                      Student               Unpaid   \n",
       "\n",
       "  Laptop Brand  RAM      Processor Storage  \n",
       "0         Asus   16  Intel Core i5     1TB  \n",
       "1         Asus    8  Intel Core i5     1TB  \n",
       "2         Dell    4  Intel Core i7     1TB  \n",
       "3        Other   16  Intel Core i5     1TB  \n",
       "4        Accer    8  Intel Core i5   512GB  "
      ]
     },
     "execution_count": 87,
     "metadata": {},
     "output_type": "execute_result"
    }
   ],
   "source": [
    "user.head()"
   ]
  },
  {
   "cell_type": "markdown",
   "id": "1b18da05",
   "metadata": {},
   "source": [
    "# Occupation"
   ]
  },
  {
   "cell_type": "code",
   "execution_count": 88,
   "id": "1a992d36",
   "metadata": {},
   "outputs": [
    {
     "data": {
      "text/plain": [
       "Undergraduate                  79\n",
       "Student                        66\n",
       "Software engineer              18\n",
       "Senior software engineer       15\n",
       "Associate software engineer    11\n",
       "Teacher                        11\n",
       "Associate technical lead        7\n",
       "Technical lead                  7\n",
       "QA engineer                     4\n",
       "Doctor                          4\n",
       "UI/UX engineer                  3\n",
       "DevOps Engineer                 1\n",
       "Public Service Officer          1\n",
       "Business Operations Manager     1\n",
       "Name: Occupation, dtype: int64"
      ]
     },
     "execution_count": 88,
     "metadata": {},
     "output_type": "execute_result"
    }
   ],
   "source": [
    "user['Occupation'].value_counts()"
   ]
  },
  {
   "cell_type": "code",
   "execution_count": 93,
   "id": "1a907d7d",
   "metadata": {},
   "outputs": [],
   "source": [
    "def add_occupation(inpt):\n",
    "    if inpt == 'Associate technical lead' or inpt == 'Technical lead' or inpt == 'QA engineer' or inpt == 'UI/UX engineer'or inpt == 'Doctor'or inpt == 'DevOps Engineer'or inpt == 'Public Service Officer'or inpt == 'Business Operations Manager':\n",
    "        return 'Other'\n",
    "    else:\n",
    "        return inpt"
   ]
  },
  {
   "cell_type": "code",
   "execution_count": 94,
   "id": "e3ac8e20",
   "metadata": {},
   "outputs": [],
   "source": [
    "user['Occupation'] = user['Occupation'].apply(add_occupation)"
   ]
  },
  {
   "cell_type": "code",
   "execution_count": 95,
   "id": "301ed9dd",
   "metadata": {},
   "outputs": [
    {
     "data": {
      "text/plain": [
       "Undergraduate                  79\n",
       "Student                        66\n",
       "Other                          26\n",
       "Software engineer              18\n",
       "Senior software engineer       15\n",
       "Associate software engineer    11\n",
       "Teacher                        11\n",
       "DevOps Engineer                 1\n",
       "Public Service Officer          1\n",
       "Name: Occupation, dtype: int64"
      ]
     },
     "execution_count": 95,
     "metadata": {},
     "output_type": "execute_result"
    }
   ],
   "source": [
    "user['Occupation'].value_counts()"
   ]
  },
  {
   "cell_type": "code",
   "execution_count": 96,
   "id": "e4b21a91",
   "metadata": {},
   "outputs": [
    {
     "data": {
      "text/html": [
       "<div>\n",
       "<style scoped>\n",
       "    .dataframe tbody tr th:only-of-type {\n",
       "        vertical-align: middle;\n",
       "    }\n",
       "\n",
       "    .dataframe tbody tr th {\n",
       "        vertical-align: top;\n",
       "    }\n",
       "\n",
       "    .dataframe thead th {\n",
       "        text-align: right;\n",
       "    }\n",
       "</style>\n",
       "<table border=\"1\" class=\"dataframe\">\n",
       "  <thead>\n",
       "    <tr style=\"text-align: right;\">\n",
       "      <th></th>\n",
       "      <th>Gender</th>\n",
       "      <th>Age Range</th>\n",
       "      <th>Occupation</th>\n",
       "      <th>Monthly Income Range</th>\n",
       "      <th>Laptop Brand</th>\n",
       "      <th>RAM</th>\n",
       "      <th>Processor</th>\n",
       "      <th>Storage</th>\n",
       "    </tr>\n",
       "  </thead>\n",
       "  <tbody>\n",
       "    <tr>\n",
       "      <th>0</th>\n",
       "      <td>Male</td>\n",
       "      <td>21 - 30</td>\n",
       "      <td>Associate software engineer</td>\n",
       "      <td>50k - 100k</td>\n",
       "      <td>Asus</td>\n",
       "      <td>16</td>\n",
       "      <td>Intel Core i5</td>\n",
       "      <td>1TB</td>\n",
       "    </tr>\n",
       "    <tr>\n",
       "      <th>1</th>\n",
       "      <td>Male</td>\n",
       "      <td>21 - 30</td>\n",
       "      <td>Associate software engineer</td>\n",
       "      <td>50k - 100k</td>\n",
       "      <td>Asus</td>\n",
       "      <td>8</td>\n",
       "      <td>Intel Core i5</td>\n",
       "      <td>1TB</td>\n",
       "    </tr>\n",
       "    <tr>\n",
       "      <th>2</th>\n",
       "      <td>Male</td>\n",
       "      <td>21 - 30</td>\n",
       "      <td>Undergraduate</td>\n",
       "      <td>Unpaid</td>\n",
       "      <td>Dell</td>\n",
       "      <td>4</td>\n",
       "      <td>Intel Core i7</td>\n",
       "      <td>1TB</td>\n",
       "    </tr>\n",
       "    <tr>\n",
       "      <th>3</th>\n",
       "      <td>Male</td>\n",
       "      <td>21 - 30</td>\n",
       "      <td>Associate software engineer</td>\n",
       "      <td>50k - 100k</td>\n",
       "      <td>Other</td>\n",
       "      <td>16</td>\n",
       "      <td>Intel Core i5</td>\n",
       "      <td>1TB</td>\n",
       "    </tr>\n",
       "    <tr>\n",
       "      <th>4</th>\n",
       "      <td>Male</td>\n",
       "      <td>10 - 20</td>\n",
       "      <td>Student</td>\n",
       "      <td>Unpaid</td>\n",
       "      <td>Accer</td>\n",
       "      <td>8</td>\n",
       "      <td>Intel Core i5</td>\n",
       "      <td>512GB</td>\n",
       "    </tr>\n",
       "  </tbody>\n",
       "</table>\n",
       "</div>"
      ],
      "text/plain": [
       "  Gender Age Range                   Occupation Monthly Income Range  \\\n",
       "0   Male   21 - 30  Associate software engineer           50k - 100k   \n",
       "1   Male   21 - 30  Associate software engineer           50k - 100k   \n",
       "2   Male   21 - 30                Undergraduate               Unpaid   \n",
       "3   Male   21 - 30  Associate software engineer           50k - 100k   \n",
       "4   Male   10 - 20                      Student               Unpaid   \n",
       "\n",
       "  Laptop Brand  RAM      Processor Storage  \n",
       "0         Asus   16  Intel Core i5     1TB  \n",
       "1         Asus    8  Intel Core i5     1TB  \n",
       "2         Dell    4  Intel Core i7     1TB  \n",
       "3        Other   16  Intel Core i5     1TB  \n",
       "4        Accer    8  Intel Core i5   512GB  "
      ]
     },
     "execution_count": 96,
     "metadata": {},
     "output_type": "execute_result"
    }
   ],
   "source": [
    "user.head()"
   ]
  },
  {
   "cell_type": "code",
   "execution_count": 97,
   "id": "b894db60",
   "metadata": {},
   "outputs": [
    {
     "data": {
      "text/plain": [
       "Male      137\n",
       "Female     91\n",
       "Name: Gender, dtype: int64"
      ]
     },
     "execution_count": 97,
     "metadata": {},
     "output_type": "execute_result"
    }
   ],
   "source": [
    "user['Gender'].value_counts()"
   ]
  },
  {
   "cell_type": "code",
   "execution_count": 98,
   "id": "812191aa",
   "metadata": {},
   "outputs": [
    {
     "data": {
      "text/plain": [
       "21 - 30    141\n",
       "10 - 20     59\n",
       "31 - 40     24\n",
       "41 - 50      4\n",
       "Name: Age Range, dtype: int64"
      ]
     },
     "execution_count": 98,
     "metadata": {},
     "output_type": "execute_result"
    }
   ],
   "source": [
    "user['Age Range'].value_counts()"
   ]
  },
  {
   "cell_type": "markdown",
   "id": "1a6699d4",
   "metadata": {},
   "source": [
    "# Drop unnecessary columns"
   ]
  },
  {
   "cell_type": "code",
   "execution_count": 109,
   "id": "a8e78bd5",
   "metadata": {},
   "outputs": [],
   "source": [
    "# user = user.drop('Storage', axis=0)\n",
    "user = pd.get_dummies(user)"
   ]
  },
  {
   "cell_type": "code",
   "execution_count": 101,
   "id": "e3f2eaed",
   "metadata": {},
   "outputs": [
    {
     "data": {
      "text/html": [
       "<div>\n",
       "<style scoped>\n",
       "    .dataframe tbody tr th:only-of-type {\n",
       "        vertical-align: middle;\n",
       "    }\n",
       "\n",
       "    .dataframe tbody tr th {\n",
       "        vertical-align: top;\n",
       "    }\n",
       "\n",
       "    .dataframe thead th {\n",
       "        text-align: right;\n",
       "    }\n",
       "</style>\n",
       "<table border=\"1\" class=\"dataframe\">\n",
       "  <thead>\n",
       "    <tr style=\"text-align: right;\">\n",
       "      <th></th>\n",
       "      <th>RAM</th>\n",
       "      <th>Gender_Female</th>\n",
       "      <th>Gender_Male</th>\n",
       "      <th>Age Range_10 - 20</th>\n",
       "      <th>Age Range_21 - 30</th>\n",
       "      <th>Age Range_31 - 40</th>\n",
       "      <th>Age Range_41 - 50</th>\n",
       "      <th>Occupation_Associate software engineer</th>\n",
       "      <th>Occupation_DevOps Engineer</th>\n",
       "      <th>Occupation_Other</th>\n",
       "      <th>...</th>\n",
       "      <th>Storage_256</th>\n",
       "      <th>Storage_256 GB</th>\n",
       "      <th>Storage_256GB</th>\n",
       "      <th>Storage_280GB</th>\n",
       "      <th>Storage_2TB</th>\n",
       "      <th>Storage_430GB</th>\n",
       "      <th>Storage_465GB</th>\n",
       "      <th>Storage_512GB</th>\n",
       "      <th>Storage_898GB</th>\n",
       "      <th>Storage_No HDD</th>\n",
       "    </tr>\n",
       "  </thead>\n",
       "  <tbody>\n",
       "    <tr>\n",
       "      <th>0</th>\n",
       "      <td>16</td>\n",
       "      <td>0</td>\n",
       "      <td>1</td>\n",
       "      <td>0</td>\n",
       "      <td>1</td>\n",
       "      <td>0</td>\n",
       "      <td>0</td>\n",
       "      <td>1</td>\n",
       "      <td>0</td>\n",
       "      <td>0</td>\n",
       "      <td>...</td>\n",
       "      <td>0</td>\n",
       "      <td>0</td>\n",
       "      <td>0</td>\n",
       "      <td>0</td>\n",
       "      <td>0</td>\n",
       "      <td>0</td>\n",
       "      <td>0</td>\n",
       "      <td>0</td>\n",
       "      <td>0</td>\n",
       "      <td>0</td>\n",
       "    </tr>\n",
       "    <tr>\n",
       "      <th>1</th>\n",
       "      <td>8</td>\n",
       "      <td>0</td>\n",
       "      <td>1</td>\n",
       "      <td>0</td>\n",
       "      <td>1</td>\n",
       "      <td>0</td>\n",
       "      <td>0</td>\n",
       "      <td>1</td>\n",
       "      <td>0</td>\n",
       "      <td>0</td>\n",
       "      <td>...</td>\n",
       "      <td>0</td>\n",
       "      <td>0</td>\n",
       "      <td>0</td>\n",
       "      <td>0</td>\n",
       "      <td>0</td>\n",
       "      <td>0</td>\n",
       "      <td>0</td>\n",
       "      <td>0</td>\n",
       "      <td>0</td>\n",
       "      <td>0</td>\n",
       "    </tr>\n",
       "  </tbody>\n",
       "</table>\n",
       "<p>2 rows × 48 columns</p>\n",
       "</div>"
      ],
      "text/plain": [
       "   RAM  Gender_Female  Gender_Male  Age Range_10 - 20  Age Range_21 - 30  \\\n",
       "0   16              0            1                  0                  1   \n",
       "1    8              0            1                  0                  1   \n",
       "\n",
       "   Age Range_31 - 40  Age Range_41 - 50  \\\n",
       "0                  0                  0   \n",
       "1                  0                  0   \n",
       "\n",
       "   Occupation_Associate software engineer  Occupation_DevOps Engineer   \\\n",
       "0                                       1                            0   \n",
       "1                                       1                            0   \n",
       "\n",
       "   Occupation_Other  ...  Storage_256  Storage_256 GB  Storage_256GB  \\\n",
       "0                 0  ...            0               0              0   \n",
       "1                 0  ...            0               0              0   \n",
       "\n",
       "   Storage_280GB  Storage_2TB  Storage_430GB  Storage_465GB  Storage_512GB  \\\n",
       "0              0            0              0              0              0   \n",
       "1              0            0              0              0              0   \n",
       "\n",
       "   Storage_898GB  Storage_No HDD  \n",
       "0              0               0  \n",
       "1              0               0  \n",
       "\n",
       "[2 rows x 48 columns]"
      ]
     },
     "execution_count": 101,
     "metadata": {},
     "output_type": "execute_result"
    }
   ],
   "source": [
    "user.head(2)"
   ]
  },
  {
   "cell_type": "code",
   "execution_count": 111,
   "id": "dad3ca94",
   "metadata": {},
   "outputs": [
    {
     "ename": "KeyError",
     "evalue": "\"['Processor'] not found in axis\"",
     "output_type": "error",
     "traceback": [
      "\u001b[1;31m---------------------------------------------------------------------------\u001b[0m",
      "\u001b[1;31mKeyError\u001b[0m                                  Traceback (most recent call last)",
      "Input \u001b[1;32mIn [111]\u001b[0m, in \u001b[0;36m<cell line: 1>\u001b[1;34m()\u001b[0m\n\u001b[1;32m----> 1\u001b[0m X \u001b[38;5;241m=\u001b[39m \u001b[43muser\u001b[49m\u001b[38;5;241;43m.\u001b[39;49m\u001b[43mdrop\u001b[49m\u001b[43m(\u001b[49m\u001b[38;5;124;43m'\u001b[39;49m\u001b[38;5;124;43mProcessor\u001b[39;49m\u001b[38;5;124;43m'\u001b[39;49m\u001b[43m,\u001b[49m\u001b[43m \u001b[49m\u001b[43maxis\u001b[49m\u001b[38;5;241;43m=\u001b[39;49m\u001b[38;5;241;43m1\u001b[39;49m\u001b[43m)\u001b[49m\n\u001b[0;32m      2\u001b[0m y \u001b[38;5;241m=\u001b[39m user[\u001b[38;5;124m'\u001b[39m\u001b[38;5;124mProcessor\u001b[39m\u001b[38;5;124m'\u001b[39m]\n",
      "File \u001b[1;32m~\\Desktop\\MY\\Machine-Learning\\LaptopRecommendation System\\model\\env\\lib\\site-packages\\pandas\\util\\_decorators.py:311\u001b[0m, in \u001b[0;36mdeprecate_nonkeyword_arguments.<locals>.decorate.<locals>.wrapper\u001b[1;34m(*args, **kwargs)\u001b[0m\n\u001b[0;32m    305\u001b[0m \u001b[38;5;28;01mif\u001b[39;00m \u001b[38;5;28mlen\u001b[39m(args) \u001b[38;5;241m>\u001b[39m num_allow_args:\n\u001b[0;32m    306\u001b[0m     warnings\u001b[38;5;241m.\u001b[39mwarn(\n\u001b[0;32m    307\u001b[0m         msg\u001b[38;5;241m.\u001b[39mformat(arguments\u001b[38;5;241m=\u001b[39marguments),\n\u001b[0;32m    308\u001b[0m         \u001b[38;5;167;01mFutureWarning\u001b[39;00m,\n\u001b[0;32m    309\u001b[0m         stacklevel\u001b[38;5;241m=\u001b[39mstacklevel,\n\u001b[0;32m    310\u001b[0m     )\n\u001b[1;32m--> 311\u001b[0m \u001b[38;5;28;01mreturn\u001b[39;00m func(\u001b[38;5;241m*\u001b[39margs, \u001b[38;5;241m*\u001b[39m\u001b[38;5;241m*\u001b[39mkwargs)\n",
      "File \u001b[1;32m~\\Desktop\\MY\\Machine-Learning\\LaptopRecommendation System\\model\\env\\lib\\site-packages\\pandas\\core\\frame.py:4948\u001b[0m, in \u001b[0;36mDataFrame.drop\u001b[1;34m(self, labels, axis, index, columns, level, inplace, errors)\u001b[0m\n\u001b[0;32m   4800\u001b[0m \u001b[38;5;129m@deprecate_nonkeyword_arguments\u001b[39m(version\u001b[38;5;241m=\u001b[39m\u001b[38;5;28;01mNone\u001b[39;00m, allowed_args\u001b[38;5;241m=\u001b[39m[\u001b[38;5;124m\"\u001b[39m\u001b[38;5;124mself\u001b[39m\u001b[38;5;124m\"\u001b[39m, \u001b[38;5;124m\"\u001b[39m\u001b[38;5;124mlabels\u001b[39m\u001b[38;5;124m\"\u001b[39m])\n\u001b[0;32m   4801\u001b[0m \u001b[38;5;28;01mdef\u001b[39;00m \u001b[38;5;21mdrop\u001b[39m(\n\u001b[0;32m   4802\u001b[0m     \u001b[38;5;28mself\u001b[39m,\n\u001b[1;32m   (...)\u001b[0m\n\u001b[0;32m   4809\u001b[0m     errors: \u001b[38;5;28mstr\u001b[39m \u001b[38;5;241m=\u001b[39m \u001b[38;5;124m\"\u001b[39m\u001b[38;5;124mraise\u001b[39m\u001b[38;5;124m\"\u001b[39m,\n\u001b[0;32m   4810\u001b[0m ):\n\u001b[0;32m   4811\u001b[0m     \u001b[38;5;124;03m\"\"\"\u001b[39;00m\n\u001b[0;32m   4812\u001b[0m \u001b[38;5;124;03m    Drop specified labels from rows or columns.\u001b[39;00m\n\u001b[0;32m   4813\u001b[0m \n\u001b[1;32m   (...)\u001b[0m\n\u001b[0;32m   4946\u001b[0m \u001b[38;5;124;03m            weight  1.0     0.8\u001b[39;00m\n\u001b[0;32m   4947\u001b[0m \u001b[38;5;124;03m    \"\"\"\u001b[39;00m\n\u001b[1;32m-> 4948\u001b[0m     \u001b[38;5;28;01mreturn\u001b[39;00m \u001b[38;5;28;43msuper\u001b[39;49m\u001b[43m(\u001b[49m\u001b[43m)\u001b[49m\u001b[38;5;241;43m.\u001b[39;49m\u001b[43mdrop\u001b[49m\u001b[43m(\u001b[49m\n\u001b[0;32m   4949\u001b[0m \u001b[43m        \u001b[49m\u001b[43mlabels\u001b[49m\u001b[38;5;241;43m=\u001b[39;49m\u001b[43mlabels\u001b[49m\u001b[43m,\u001b[49m\n\u001b[0;32m   4950\u001b[0m \u001b[43m        \u001b[49m\u001b[43maxis\u001b[49m\u001b[38;5;241;43m=\u001b[39;49m\u001b[43maxis\u001b[49m\u001b[43m,\u001b[49m\n\u001b[0;32m   4951\u001b[0m \u001b[43m        \u001b[49m\u001b[43mindex\u001b[49m\u001b[38;5;241;43m=\u001b[39;49m\u001b[43mindex\u001b[49m\u001b[43m,\u001b[49m\n\u001b[0;32m   4952\u001b[0m \u001b[43m        \u001b[49m\u001b[43mcolumns\u001b[49m\u001b[38;5;241;43m=\u001b[39;49m\u001b[43mcolumns\u001b[49m\u001b[43m,\u001b[49m\n\u001b[0;32m   4953\u001b[0m \u001b[43m        \u001b[49m\u001b[43mlevel\u001b[49m\u001b[38;5;241;43m=\u001b[39;49m\u001b[43mlevel\u001b[49m\u001b[43m,\u001b[49m\n\u001b[0;32m   4954\u001b[0m \u001b[43m        \u001b[49m\u001b[43minplace\u001b[49m\u001b[38;5;241;43m=\u001b[39;49m\u001b[43minplace\u001b[49m\u001b[43m,\u001b[49m\n\u001b[0;32m   4955\u001b[0m \u001b[43m        \u001b[49m\u001b[43merrors\u001b[49m\u001b[38;5;241;43m=\u001b[39;49m\u001b[43merrors\u001b[49m\u001b[43m,\u001b[49m\n\u001b[0;32m   4956\u001b[0m \u001b[43m    \u001b[49m\u001b[43m)\u001b[49m\n",
      "File \u001b[1;32m~\\Desktop\\MY\\Machine-Learning\\LaptopRecommendation System\\model\\env\\lib\\site-packages\\pandas\\core\\generic.py:4279\u001b[0m, in \u001b[0;36mNDFrame.drop\u001b[1;34m(self, labels, axis, index, columns, level, inplace, errors)\u001b[0m\n\u001b[0;32m   4277\u001b[0m \u001b[38;5;28;01mfor\u001b[39;00m axis, labels \u001b[38;5;129;01min\u001b[39;00m axes\u001b[38;5;241m.\u001b[39mitems():\n\u001b[0;32m   4278\u001b[0m     \u001b[38;5;28;01mif\u001b[39;00m labels \u001b[38;5;129;01mis\u001b[39;00m \u001b[38;5;129;01mnot\u001b[39;00m \u001b[38;5;28;01mNone\u001b[39;00m:\n\u001b[1;32m-> 4279\u001b[0m         obj \u001b[38;5;241m=\u001b[39m \u001b[43mobj\u001b[49m\u001b[38;5;241;43m.\u001b[39;49m\u001b[43m_drop_axis\u001b[49m\u001b[43m(\u001b[49m\u001b[43mlabels\u001b[49m\u001b[43m,\u001b[49m\u001b[43m \u001b[49m\u001b[43maxis\u001b[49m\u001b[43m,\u001b[49m\u001b[43m \u001b[49m\u001b[43mlevel\u001b[49m\u001b[38;5;241;43m=\u001b[39;49m\u001b[43mlevel\u001b[49m\u001b[43m,\u001b[49m\u001b[43m \u001b[49m\u001b[43merrors\u001b[49m\u001b[38;5;241;43m=\u001b[39;49m\u001b[43merrors\u001b[49m\u001b[43m)\u001b[49m\n\u001b[0;32m   4281\u001b[0m \u001b[38;5;28;01mif\u001b[39;00m inplace:\n\u001b[0;32m   4282\u001b[0m     \u001b[38;5;28mself\u001b[39m\u001b[38;5;241m.\u001b[39m_update_inplace(obj)\n",
      "File \u001b[1;32m~\\Desktop\\MY\\Machine-Learning\\LaptopRecommendation System\\model\\env\\lib\\site-packages\\pandas\\core\\generic.py:4323\u001b[0m, in \u001b[0;36mNDFrame._drop_axis\u001b[1;34m(self, labels, axis, level, errors, consolidate, only_slice)\u001b[0m\n\u001b[0;32m   4321\u001b[0m         new_axis \u001b[38;5;241m=\u001b[39m axis\u001b[38;5;241m.\u001b[39mdrop(labels, level\u001b[38;5;241m=\u001b[39mlevel, errors\u001b[38;5;241m=\u001b[39merrors)\n\u001b[0;32m   4322\u001b[0m     \u001b[38;5;28;01melse\u001b[39;00m:\n\u001b[1;32m-> 4323\u001b[0m         new_axis \u001b[38;5;241m=\u001b[39m \u001b[43maxis\u001b[49m\u001b[38;5;241;43m.\u001b[39;49m\u001b[43mdrop\u001b[49m\u001b[43m(\u001b[49m\u001b[43mlabels\u001b[49m\u001b[43m,\u001b[49m\u001b[43m \u001b[49m\u001b[43merrors\u001b[49m\u001b[38;5;241;43m=\u001b[39;49m\u001b[43merrors\u001b[49m\u001b[43m)\u001b[49m\n\u001b[0;32m   4324\u001b[0m     indexer \u001b[38;5;241m=\u001b[39m axis\u001b[38;5;241m.\u001b[39mget_indexer(new_axis)\n\u001b[0;32m   4326\u001b[0m \u001b[38;5;66;03m# Case for non-unique axis\u001b[39;00m\n\u001b[0;32m   4327\u001b[0m \u001b[38;5;28;01melse\u001b[39;00m:\n",
      "File \u001b[1;32m~\\Desktop\\MY\\Machine-Learning\\LaptopRecommendation System\\model\\env\\lib\\site-packages\\pandas\\core\\indexes\\base.py:6644\u001b[0m, in \u001b[0;36mIndex.drop\u001b[1;34m(self, labels, errors)\u001b[0m\n\u001b[0;32m   6642\u001b[0m \u001b[38;5;28;01mif\u001b[39;00m mask\u001b[38;5;241m.\u001b[39many():\n\u001b[0;32m   6643\u001b[0m     \u001b[38;5;28;01mif\u001b[39;00m errors \u001b[38;5;241m!=\u001b[39m \u001b[38;5;124m\"\u001b[39m\u001b[38;5;124mignore\u001b[39m\u001b[38;5;124m\"\u001b[39m:\n\u001b[1;32m-> 6644\u001b[0m         \u001b[38;5;28;01mraise\u001b[39;00m \u001b[38;5;167;01mKeyError\u001b[39;00m(\u001b[38;5;124mf\u001b[39m\u001b[38;5;124m\"\u001b[39m\u001b[38;5;132;01m{\u001b[39;00m\u001b[38;5;28mlist\u001b[39m(labels[mask])\u001b[38;5;132;01m}\u001b[39;00m\u001b[38;5;124m not found in axis\u001b[39m\u001b[38;5;124m\"\u001b[39m)\n\u001b[0;32m   6645\u001b[0m     indexer \u001b[38;5;241m=\u001b[39m indexer[\u001b[38;5;241m~\u001b[39mmask]\n\u001b[0;32m   6646\u001b[0m \u001b[38;5;28;01mreturn\u001b[39;00m \u001b[38;5;28mself\u001b[39m\u001b[38;5;241m.\u001b[39mdelete(indexer)\n",
      "\u001b[1;31mKeyError\u001b[0m: \"['Processor'] not found in axis\""
     ]
    }
   ],
   "source": [
    "X = user.drop('Processor', axis=1)\n",
    "y = user['Processor']"
   ]
  },
  {
   "cell_type": "code",
   "execution_count": null,
   "id": "8babf6c8",
   "metadata": {},
   "outputs": [],
   "source": []
  }
 ],
 "metadata": {
  "kernelspec": {
   "display_name": "Python 3 (ipykernel)",
   "language": "python",
   "name": "python3"
  },
  "language_info": {
   "codemirror_mode": {
    "name": "ipython",
    "version": 3
   },
   "file_extension": ".py",
   "mimetype": "text/x-python",
   "name": "python",
   "nbconvert_exporter": "python",
   "pygments_lexer": "ipython3",
   "version": "3.10.3"
  }
 },
 "nbformat": 4,
 "nbformat_minor": 5
}
