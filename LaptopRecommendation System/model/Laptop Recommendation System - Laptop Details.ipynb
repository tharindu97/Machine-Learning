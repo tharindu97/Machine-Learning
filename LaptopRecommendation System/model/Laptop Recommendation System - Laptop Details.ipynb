{
 "cells": [
  {
   "cell_type": "code",
   "execution_count": 1,
   "id": "dda3535c",
   "metadata": {},
   "outputs": [
    {
     "name": "stdout",
     "output_type": "stream",
     "text": [
      "Requirement already satisfied: numpy in c:\\users\\hp\\desktop\\my\\machine-learning\\laptoprecommendation system\\model\\env\\lib\\site-packages (1.22.3)\n",
      "Requirement already satisfied: pandas in c:\\users\\hp\\desktop\\my\\machine-learning\\laptoprecommendation system\\model\\env\\lib\\site-packages (1.4.1)\n",
      "Requirement already satisfied: pytz>=2020.1 in c:\\users\\hp\\desktop\\my\\machine-learning\\laptoprecommendation system\\model\\env\\lib\\site-packages (from pandas) (2021.3)\n",
      "Requirement already satisfied: python-dateutil>=2.8.1 in c:\\users\\hp\\desktop\\my\\machine-learning\\laptoprecommendation system\\model\\env\\lib\\site-packages (from pandas) (2.8.2)\n",
      "Requirement already satisfied: numpy>=1.21.0 in c:\\users\\hp\\desktop\\my\\machine-learning\\laptoprecommendation system\\model\\env\\lib\\site-packages (from pandas) (1.22.3)\n",
      "Requirement already satisfied: six>=1.5 in c:\\users\\hp\\desktop\\my\\machine-learning\\laptoprecommendation system\\model\\env\\lib\\site-packages (from python-dateutil>=2.8.1->pandas) (1.16.0)\n",
      "Requirement already satisfied: sklearn in c:\\users\\hp\\desktop\\my\\machine-learning\\laptoprecommendation system\\model\\env\\lib\\site-packages (0.0)\n",
      "Requirement already satisfied: scikit-learn in c:\\users\\hp\\desktop\\my\\machine-learning\\laptoprecommendation system\\model\\env\\lib\\site-packages (from sklearn) (1.0.2)\n",
      "Requirement already satisfied: numpy>=1.14.6 in c:\\users\\hp\\desktop\\my\\machine-learning\\laptoprecommendation system\\model\\env\\lib\\site-packages (from scikit-learn->sklearn) (1.22.3)\n",
      "Requirement already satisfied: scipy>=1.1.0 in c:\\users\\hp\\desktop\\my\\machine-learning\\laptoprecommendation system\\model\\env\\lib\\site-packages (from scikit-learn->sklearn) (1.8.0)\n",
      "Requirement already satisfied: threadpoolctl>=2.0.0 in c:\\users\\hp\\desktop\\my\\machine-learning\\laptoprecommendation system\\model\\env\\lib\\site-packages (from scikit-learn->sklearn) (3.1.0)\n",
      "Requirement already satisfied: joblib>=0.11 in c:\\users\\hp\\desktop\\my\\machine-learning\\laptoprecommendation system\\model\\env\\lib\\site-packages (from scikit-learn->sklearn) (1.1.0)\n"
     ]
    }
   ],
   "source": [
    "!pip install numpy\n",
    "!pip install pandas\n",
    "!pip install sklearn"
   ]
  },
  {
   "cell_type": "code",
   "execution_count": 2,
   "id": "e127d22f",
   "metadata": {},
   "outputs": [],
   "source": [
    "import numpy as np\n",
    "import pandas as pd"
   ]
  },
  {
   "cell_type": "code",
   "execution_count": 47,
   "id": "62df6a14",
   "metadata": {},
   "outputs": [],
   "source": [
    "url = \"https://raw.githubusercontent.com/tharindu97/Machine-Learning/main/laptops.csv\"\n",
    "# url = \"https://raw.githubusercontent.com/tharindu97/Machine-Learning/main/sample_laptops.csv\"\n",
    "data = pd.read_csv(url, encoding='latin-1')"
   ]
  },
  {
   "cell_type": "code",
   "execution_count": 48,
   "id": "7ea66959",
   "metadata": {},
   "outputs": [
    {
     "data": {
      "text/html": [
       "<div>\n",
       "<style scoped>\n",
       "    .dataframe tbody tr th:only-of-type {\n",
       "        vertical-align: middle;\n",
       "    }\n",
       "\n",
       "    .dataframe tbody tr th {\n",
       "        vertical-align: top;\n",
       "    }\n",
       "\n",
       "    .dataframe thead th {\n",
       "        text-align: right;\n",
       "    }\n",
       "</style>\n",
       "<table border=\"1\" class=\"dataframe\">\n",
       "  <thead>\n",
       "    <tr style=\"text-align: right;\">\n",
       "      <th></th>\n",
       "      <th>Brand</th>\n",
       "      <th>Model</th>\n",
       "      <th>Processor</th>\n",
       "      <th>RAM</th>\n",
       "      <th>Storage Capacity</th>\n",
       "      <th>Display Size</th>\n",
       "      <th>OS</th>\n",
       "      <th>GPU</th>\n",
       "      <th>Weight</th>\n",
       "      <th>Warranty</th>\n",
       "      <th>Price</th>\n",
       "      <th>Unnamed: 11</th>\n",
       "    </tr>\n",
       "  </thead>\n",
       "  <tbody>\n",
       "    <tr>\n",
       "      <th>0</th>\n",
       "      <td>Hp</td>\n",
       "      <td>HP 15s-GR0514AU</td>\n",
       "      <td>ATHLON 3050U</td>\n",
       "      <td>8GB</td>\n",
       "      <td>1TB</td>\n",
       "      <td>15.6\"</td>\n",
       "      <td>Windows 11</td>\n",
       "      <td>Intel</td>\n",
       "      <td>1.7</td>\n",
       "      <td>2</td>\n",
       "      <td>99000.0</td>\n",
       "      <td>NaN</td>\n",
       "    </tr>\n",
       "    <tr>\n",
       "      <th>1</th>\n",
       "      <td>Hp</td>\n",
       "      <td>HP 15s-DU3561TU</td>\n",
       "      <td>Intel Core i5</td>\n",
       "      <td>8GB</td>\n",
       "      <td>1TB</td>\n",
       "      <td>15.6\"</td>\n",
       "      <td>Windows 11</td>\n",
       "      <td>Intel</td>\n",
       "      <td>1.7</td>\n",
       "      <td>2</td>\n",
       "      <td>172000.0</td>\n",
       "      <td>NaN</td>\n",
       "    </tr>\n",
       "  </tbody>\n",
       "</table>\n",
       "</div>"
      ],
      "text/plain": [
       "  Brand            Model      Processor  RAM Storage Capacity Display Size  \\\n",
       "0    Hp  HP 15s-GR0514AU   ATHLON 3050U  8GB              1TB        15.6\"   \n",
       "1    Hp  HP 15s-DU3561TU  Intel Core i5  8GB              1TB        15.6\"   \n",
       "\n",
       "           OS     GPU  Weight  Warranty     Price  Unnamed: 11  \n",
       "0  Windows 11  Intel      1.7         2   99000.0          NaN  \n",
       "1  Windows 11  Intel      1.7         2  172000.0          NaN  "
      ]
     },
     "execution_count": 48,
     "metadata": {},
     "output_type": "execute_result"
    }
   ],
   "source": [
    "data.head(2)"
   ]
  },
  {
   "cell_type": "markdown",
   "id": "9d3e66bc",
   "metadata": {},
   "source": [
    "# Drop unnecessary columns"
   ]
  },
  {
   "cell_type": "code",
   "execution_count": 49,
   "id": "d23e879f",
   "metadata": {},
   "outputs": [],
   "source": [
    "data = data.drop(columns=['Unnamed: 11'])"
   ]
  },
  {
   "cell_type": "code",
   "execution_count": 50,
   "id": "171cc51a",
   "metadata": {},
   "outputs": [
    {
     "data": {
      "text/html": [
       "<div>\n",
       "<style scoped>\n",
       "    .dataframe tbody tr th:only-of-type {\n",
       "        vertical-align: middle;\n",
       "    }\n",
       "\n",
       "    .dataframe tbody tr th {\n",
       "        vertical-align: top;\n",
       "    }\n",
       "\n",
       "    .dataframe thead th {\n",
       "        text-align: right;\n",
       "    }\n",
       "</style>\n",
       "<table border=\"1\" class=\"dataframe\">\n",
       "  <thead>\n",
       "    <tr style=\"text-align: right;\">\n",
       "      <th></th>\n",
       "      <th>Brand</th>\n",
       "      <th>Model</th>\n",
       "      <th>Processor</th>\n",
       "      <th>RAM</th>\n",
       "      <th>Storage Capacity</th>\n",
       "      <th>Display Size</th>\n",
       "      <th>OS</th>\n",
       "      <th>GPU</th>\n",
       "      <th>Weight</th>\n",
       "      <th>Warranty</th>\n",
       "      <th>Price</th>\n",
       "    </tr>\n",
       "  </thead>\n",
       "  <tbody>\n",
       "    <tr>\n",
       "      <th>0</th>\n",
       "      <td>Hp</td>\n",
       "      <td>HP 15s-GR0514AU</td>\n",
       "      <td>ATHLON 3050U</td>\n",
       "      <td>8GB</td>\n",
       "      <td>1TB</td>\n",
       "      <td>15.6\"</td>\n",
       "      <td>Windows 11</td>\n",
       "      <td>Intel</td>\n",
       "      <td>1.7</td>\n",
       "      <td>2</td>\n",
       "      <td>99000.0</td>\n",
       "    </tr>\n",
       "    <tr>\n",
       "      <th>1</th>\n",
       "      <td>Hp</td>\n",
       "      <td>HP 15s-DU3561TU</td>\n",
       "      <td>Intel Core i5</td>\n",
       "      <td>8GB</td>\n",
       "      <td>1TB</td>\n",
       "      <td>15.6\"</td>\n",
       "      <td>Windows 11</td>\n",
       "      <td>Intel</td>\n",
       "      <td>1.7</td>\n",
       "      <td>2</td>\n",
       "      <td>172000.0</td>\n",
       "    </tr>\n",
       "  </tbody>\n",
       "</table>\n",
       "</div>"
      ],
      "text/plain": [
       "  Brand            Model      Processor  RAM Storage Capacity Display Size  \\\n",
       "0    Hp  HP 15s-GR0514AU   ATHLON 3050U  8GB              1TB        15.6\"   \n",
       "1    Hp  HP 15s-DU3561TU  Intel Core i5  8GB              1TB        15.6\"   \n",
       "\n",
       "           OS     GPU  Weight  Warranty     Price  \n",
       "0  Windows 11  Intel      1.7         2   99000.0  \n",
       "1  Windows 11  Intel      1.7         2  172000.0  "
      ]
     },
     "execution_count": 50,
     "metadata": {},
     "output_type": "execute_result"
    }
   ],
   "source": [
    "data.head(2)"
   ]
  },
  {
   "cell_type": "markdown",
   "id": "b24a6bb8",
   "metadata": {},
   "source": [
    "# Data Analysis"
   ]
  },
  {
   "cell_type": "code",
   "execution_count": 51,
   "id": "ee11c7f1",
   "metadata": {},
   "outputs": [
    {
     "data": {
      "text/plain": [
       "Brand               0\n",
       "Model               0\n",
       "Processor           0\n",
       "RAM                 0\n",
       "Storage Capacity    0\n",
       "Display Size        0\n",
       "OS                  0\n",
       "GPU                 0\n",
       "Weight              0\n",
       "Warranty            0\n",
       "Price               0\n",
       "dtype: int64"
      ]
     },
     "execution_count": 51,
     "metadata": {},
     "output_type": "execute_result"
    }
   ],
   "source": [
    "data.isnull().sum()"
   ]
  },
  {
   "cell_type": "code",
   "execution_count": 52,
   "id": "588c32f6",
   "metadata": {},
   "outputs": [
    {
     "name": "stdout",
     "output_type": "stream",
     "text": [
      "<class 'pandas.core.frame.DataFrame'>\n",
      "RangeIndex: 1462 entries, 0 to 1461\n",
      "Data columns (total 11 columns):\n",
      " #   Column            Non-Null Count  Dtype  \n",
      "---  ------            --------------  -----  \n",
      " 0   Brand             1462 non-null   object \n",
      " 1   Model             1462 non-null   object \n",
      " 2   Processor         1462 non-null   object \n",
      " 3   RAM               1462 non-null   object \n",
      " 4   Storage Capacity  1462 non-null   object \n",
      " 5   Display Size      1462 non-null   object \n",
      " 6   OS                1462 non-null   object \n",
      " 7   GPU               1462 non-null   object \n",
      " 8   Weight            1462 non-null   float64\n",
      " 9   Warranty          1462 non-null   int64  \n",
      " 10  Price             1462 non-null   float64\n",
      "dtypes: float64(2), int64(1), object(8)\n",
      "memory usage: 125.8+ KB\n"
     ]
    }
   ],
   "source": [
    "data.info()"
   ]
  },
  {
   "cell_type": "code",
   "execution_count": 53,
   "id": "02c291f3",
   "metadata": {},
   "outputs": [],
   "source": [
    "data['Display Size'] = data['Display Size'].str.replace('\"','').astype('float64')\n",
    "data['RAM'] = data['RAM'].str.replace('GB','').astype('int32')"
   ]
  },
  {
   "cell_type": "code",
   "execution_count": 54,
   "id": "7649ec7f",
   "metadata": {},
   "outputs": [
    {
     "data": {
      "text/html": [
       "<div>\n",
       "<style scoped>\n",
       "    .dataframe tbody tr th:only-of-type {\n",
       "        vertical-align: middle;\n",
       "    }\n",
       "\n",
       "    .dataframe tbody tr th {\n",
       "        vertical-align: top;\n",
       "    }\n",
       "\n",
       "    .dataframe thead th {\n",
       "        text-align: right;\n",
       "    }\n",
       "</style>\n",
       "<table border=\"1\" class=\"dataframe\">\n",
       "  <thead>\n",
       "    <tr style=\"text-align: right;\">\n",
       "      <th></th>\n",
       "      <th>Brand</th>\n",
       "      <th>Model</th>\n",
       "      <th>Processor</th>\n",
       "      <th>RAM</th>\n",
       "      <th>Storage Capacity</th>\n",
       "      <th>Display Size</th>\n",
       "      <th>OS</th>\n",
       "      <th>GPU</th>\n",
       "      <th>Weight</th>\n",
       "      <th>Warranty</th>\n",
       "      <th>Price</th>\n",
       "    </tr>\n",
       "  </thead>\n",
       "  <tbody>\n",
       "    <tr>\n",
       "      <th>0</th>\n",
       "      <td>Hp</td>\n",
       "      <td>HP 15s-GR0514AU</td>\n",
       "      <td>ATHLON 3050U</td>\n",
       "      <td>8</td>\n",
       "      <td>1TB</td>\n",
       "      <td>15.6</td>\n",
       "      <td>Windows 11</td>\n",
       "      <td>Intel</td>\n",
       "      <td>1.7</td>\n",
       "      <td>2</td>\n",
       "      <td>99000.0</td>\n",
       "    </tr>\n",
       "    <tr>\n",
       "      <th>1</th>\n",
       "      <td>Hp</td>\n",
       "      <td>HP 15s-DU3561TU</td>\n",
       "      <td>Intel Core i5</td>\n",
       "      <td>8</td>\n",
       "      <td>1TB</td>\n",
       "      <td>15.6</td>\n",
       "      <td>Windows 11</td>\n",
       "      <td>Intel</td>\n",
       "      <td>1.7</td>\n",
       "      <td>2</td>\n",
       "      <td>172000.0</td>\n",
       "    </tr>\n",
       "  </tbody>\n",
       "</table>\n",
       "</div>"
      ],
      "text/plain": [
       "  Brand            Model      Processor  RAM Storage Capacity  Display Size  \\\n",
       "0    Hp  HP 15s-GR0514AU   ATHLON 3050U    8              1TB          15.6   \n",
       "1    Hp  HP 15s-DU3561TU  Intel Core i5    8              1TB          15.6   \n",
       "\n",
       "           OS     GPU  Weight  Warranty     Price  \n",
       "0  Windows 11  Intel      1.7         2   99000.0  \n",
       "1  Windows 11  Intel      1.7         2  172000.0  "
      ]
     },
     "execution_count": 54,
     "metadata": {},
     "output_type": "execute_result"
    }
   ],
   "source": [
    "data.head(2)"
   ]
  },
  {
   "cell_type": "code",
   "execution_count": 55,
   "id": "63645431",
   "metadata": {},
   "outputs": [
    {
     "data": {
      "text/plain": [
       "Dell         337\n",
       "Lenovo       308\n",
       "HP           274\n",
       "Asus         198\n",
       "Acer         108\n",
       "MSI           73\n",
       "Toshiba       48\n",
       "Hp            40\n",
       "Apple         25\n",
       "Samsung        9\n",
       "Razer          7\n",
       "Mediacom       7\n",
       "Microsoft      6\n",
       "Xiaomi         4\n",
       "Vero           4\n",
       "Chuwi          3\n",
       "Google         3\n",
       "Fujitsu        3\n",
       "LG             3\n",
       "Huawei         2\n",
       "Name: Brand, dtype: int64"
      ]
     },
     "execution_count": 55,
     "metadata": {},
     "output_type": "execute_result"
    }
   ],
   "source": [
    "# Brand\n",
    "data['Brand'].value_counts()"
   ]
  },
  {
   "cell_type": "code",
   "execution_count": 56,
   "id": "473b7801",
   "metadata": {},
   "outputs": [],
   "source": [
    "def set_brand(inpt):\n",
    "    if inpt == 'Dell':\n",
    "        return inpt\n",
    "    elif inpt == 'Asus':\n",
    "        return inpt\n",
    "    elif inpt == 'Hp' or inpt == \"HP\":\n",
    "        return 'Hp'\n",
    "    elif inpt == 'Lenovo':\n",
    "        return inpt\n",
    "    elif inpt == 'Acer':\n",
    "        return inpt\n",
    "    else:\n",
    "        return 'Other'"
   ]
  },
  {
   "cell_type": "code",
   "execution_count": 57,
   "id": "33122fed",
   "metadata": {},
   "outputs": [],
   "source": [
    "data['Brand'] = data['Brand'].apply(set_brand)"
   ]
  },
  {
   "cell_type": "code",
   "execution_count": 58,
   "id": "53d03c83",
   "metadata": {},
   "outputs": [
    {
     "data": {
      "text/plain": [
       "Dell      337\n",
       "Hp        314\n",
       "Lenovo    308\n",
       "Asus      198\n",
       "Other     197\n",
       "Acer      108\n",
       "Name: Brand, dtype: int64"
      ]
     },
     "execution_count": 58,
     "metadata": {},
     "output_type": "execute_result"
    }
   ],
   "source": [
    "data['Brand'].value_counts()"
   ]
  },
  {
   "cell_type": "code",
   "execution_count": 59,
   "id": "61400439",
   "metadata": {},
   "outputs": [
    {
     "data": {
      "text/plain": [
       "Intel Core i5 7200U 2.5GHz       190\n",
       "Intel Core i7 7700HQ 2.8GHz      146\n",
       "Intel Core i7 7500U 2.7GHz       134\n",
       "Intel Core i7 8550U 1.8GHz        73\n",
       "Intel Core i5 8250U 1.6GHz        72\n",
       "                                ... \n",
       "intel Core i5                      1\n",
       "Intel Core M 7Y30 1.0GHz           1\n",
       "Intel Xeon E3-1535M v6 3.1GHz      1\n",
       "Intel Celeron                      1\n",
       "ATHLON 3050U                       1\n",
       "Name: Processor, Length: 138, dtype: int64"
      ]
     },
     "execution_count": 59,
     "metadata": {},
     "output_type": "execute_result"
    }
   ],
   "source": [
    "# Processor\n",
    "data['Processor'].value_counts()"
   ]
  },
  {
   "cell_type": "code",
   "execution_count": 60,
   "id": "12f56585",
   "metadata": {},
   "outputs": [],
   "source": [
    "data['cpu_name'] = data['Processor'].apply(lambda x:\" \".join(x.split()[0:3]))"
   ]
  },
  {
   "cell_type": "code",
   "execution_count": 61,
   "id": "25a0d18f",
   "metadata": {},
   "outputs": [
    {
     "data": {
      "text/plain": [
       "Intel Core i7               563\n",
       "Intel Core i5               457\n",
       "Intel Core i3               151\n",
       "Intel Celeron Dual           80\n",
       "Intel Pentium Quad           27\n",
       "AMD Ryzen 7                  23\n",
       "AMD Ryzen 5                  20\n",
       "Intel Core M                 19\n",
       "AMD A9-Series 9420           12\n",
       "Intel Celeron Quad            8\n",
       "AMD A6-Series 9220            8\n",
       "AMD A12-Series 9720P          7\n",
       "AMD Ryzen 3                   6\n",
       "Intel Atom x5-Z8350           5\n",
       "AMD Ryzen 9                   4\n",
       "AMD A8-Series 7410            4\n",
       "Intel Atom x5-Z8550           4\n",
       "Comet Lake i7                 4\n",
       "AMD Ryzen 1700                3\n",
       "Intel Pentium Dual            3\n",
       "AMD A9-Series 9410            3\n",
       "M1                            3\n",
       "Intel Celeron                 3\n",
       "Tiger Lake i7                 3\n",
       "AMD E-Series E2-9000e         2\n",
       "Intel Xeon E3-1535M           2\n",
       "AMD E-Series 7110             2\n",
       "AMD A10-Series 9620P          2\n",
       "AMD A10-Series 9600P          2\n",
       "AMD A6-Series A6-9220         2\n",
       "AMD A10-Series A10-9620P      2\n",
       "AMD A9-Series A9-9420         2\n",
       "Intel Xeon E3-1505M           2\n",
       "Tiger Lake i5                 2\n",
       "Intel Atom X5-Z8350           2\n",
       "AMD A4-Series 7210            1\n",
       "AMD FX 8800P                  1\n",
       "Intel Atom Z8350              1\n",
       "AMD A6-Series 7310            1\n",
       "AMD E-Series E2-9000          1\n",
       "Samsung Cortex A72&A53        1\n",
       "AMD E-Series 9000             1\n",
       "AMD A12-Series 9700P          1\n",
       "AMD Athlon Silver             1\n",
       "AMD Ryzen 1600                1\n",
       "Intel Atom x5-Z8300           1\n",
       "intel Core i5                 1\n",
       "Pentium Silver                1\n",
       "AMD E-Series 9000e            1\n",
       "AMD E-Series 6110             1\n",
       "AMD FX 9830P                  1\n",
       "Comet Lake i5                 1\n",
       "M1 CHIP 8C                    1\n",
       "AMD E-Series E2-6110          1\n",
       "ATHLON 3050U                  1\n",
       "Name: cpu_name, dtype: int64"
      ]
     },
     "execution_count": 61,
     "metadata": {},
     "output_type": "execute_result"
    }
   ],
   "source": [
    "data['cpu_name'].value_counts()"
   ]
  },
  {
   "cell_type": "code",
   "execution_count": 62,
   "id": "ad09462c",
   "metadata": {},
   "outputs": [],
   "source": [
    "def set_processor(name):\n",
    "    if name == 'Intel Core i7' or name == 'Intel Core i5' or name == 'Intel Core i3':\n",
    "        return name\n",
    "    else:\n",
    "        if name.split()[0] == 'AMD':\n",
    "            return 'AMD'\n",
    "        else:\n",
    "            return 'Other'"
   ]
  },
  {
   "cell_type": "code",
   "execution_count": 63,
   "id": "f30ae942",
   "metadata": {},
   "outputs": [],
   "source": [
    "data['cpu_name'] = data['cpu_name'].apply(set_processor)"
   ]
  },
  {
   "cell_type": "code",
   "execution_count": 64,
   "id": "07723f27",
   "metadata": {},
   "outputs": [
    {
     "data": {
      "text/plain": [
       "Intel Core i7    563\n",
       "Intel Core i5    457\n",
       "Other            175\n",
       "Intel Core i3    151\n",
       "AMD              116\n",
       "Name: cpu_name, dtype: int64"
      ]
     },
     "execution_count": 64,
     "metadata": {},
     "output_type": "execute_result"
    }
   ],
   "source": [
    "data['cpu_name'].value_counts()"
   ]
  },
  {
   "cell_type": "code",
   "execution_count": 65,
   "id": "79a85130",
   "metadata": {},
   "outputs": [
    {
     "data": {
      "text/html": [
       "<div>\n",
       "<style scoped>\n",
       "    .dataframe tbody tr th:only-of-type {\n",
       "        vertical-align: middle;\n",
       "    }\n",
       "\n",
       "    .dataframe tbody tr th {\n",
       "        vertical-align: top;\n",
       "    }\n",
       "\n",
       "    .dataframe thead th {\n",
       "        text-align: right;\n",
       "    }\n",
       "</style>\n",
       "<table border=\"1\" class=\"dataframe\">\n",
       "  <thead>\n",
       "    <tr style=\"text-align: right;\">\n",
       "      <th></th>\n",
       "      <th>Brand</th>\n",
       "      <th>Model</th>\n",
       "      <th>Processor</th>\n",
       "      <th>RAM</th>\n",
       "      <th>Storage Capacity</th>\n",
       "      <th>Display Size</th>\n",
       "      <th>OS</th>\n",
       "      <th>GPU</th>\n",
       "      <th>Weight</th>\n",
       "      <th>Warranty</th>\n",
       "      <th>Price</th>\n",
       "      <th>cpu_name</th>\n",
       "    </tr>\n",
       "  </thead>\n",
       "  <tbody>\n",
       "    <tr>\n",
       "      <th>0</th>\n",
       "      <td>Hp</td>\n",
       "      <td>HP 15s-GR0514AU</td>\n",
       "      <td>ATHLON 3050U</td>\n",
       "      <td>8</td>\n",
       "      <td>1TB</td>\n",
       "      <td>15.6</td>\n",
       "      <td>Windows 11</td>\n",
       "      <td>Intel</td>\n",
       "      <td>1.7</td>\n",
       "      <td>2</td>\n",
       "      <td>99000.0</td>\n",
       "      <td>Other</td>\n",
       "    </tr>\n",
       "    <tr>\n",
       "      <th>1</th>\n",
       "      <td>Hp</td>\n",
       "      <td>HP 15s-DU3561TU</td>\n",
       "      <td>Intel Core i5</td>\n",
       "      <td>8</td>\n",
       "      <td>1TB</td>\n",
       "      <td>15.6</td>\n",
       "      <td>Windows 11</td>\n",
       "      <td>Intel</td>\n",
       "      <td>1.7</td>\n",
       "      <td>2</td>\n",
       "      <td>172000.0</td>\n",
       "      <td>Intel Core i5</td>\n",
       "    </tr>\n",
       "  </tbody>\n",
       "</table>\n",
       "</div>"
      ],
      "text/plain": [
       "  Brand            Model      Processor  RAM Storage Capacity  Display Size  \\\n",
       "0    Hp  HP 15s-GR0514AU   ATHLON 3050U    8              1TB          15.6   \n",
       "1    Hp  HP 15s-DU3561TU  Intel Core i5    8              1TB          15.6   \n",
       "\n",
       "           OS     GPU  Weight  Warranty     Price       cpu_name  \n",
       "0  Windows 11  Intel      1.7         2   99000.0          Other  \n",
       "1  Windows 11  Intel      1.7         2  172000.0  Intel Core i5  "
      ]
     },
     "execution_count": 65,
     "metadata": {},
     "output_type": "execute_result"
    }
   ],
   "source": [
    "data.head(2)"
   ]
  },
  {
   "cell_type": "code",
   "execution_count": 66,
   "id": "26d3747c",
   "metadata": {},
   "outputs": [
    {
     "data": {
      "text/plain": [
       "8     714\n",
       "4     400\n",
       "16    235\n",
       "6      41\n",
       "12     25\n",
       "2      22\n",
       "32     21\n",
       "24      3\n",
       "64      1\n",
       "Name: RAM, dtype: int64"
      ]
     },
     "execution_count": 66,
     "metadata": {},
     "output_type": "execute_result"
    }
   ],
   "source": [
    "# Ram\n",
    "data['RAM'].value_counts()"
   ]
  },
  {
   "cell_type": "code",
   "execution_count": 67,
   "id": "e5986e08",
   "metadata": {},
   "outputs": [
    {
     "data": {
      "text/plain": [
       "256GB SSD                        434\n",
       "1TB HDD                          224\n",
       "512GB SSD                        195\n",
       "500GB HDD                        132\n",
       "128GB SSD +  1TB HDD              94\n",
       "128GB SSD                         82\n",
       "256GB SSD +  1TB HDD              73\n",
       "32GB Flash Storage                38\n",
       "1TB SSD                           33\n",
       "1TB                               20\n",
       "2TB HDD                           16\n",
       "64GB Flash Storage                15\n",
       "512GB SSD +  1TB HDD              14\n",
       "256GB SSD +  2TB HDD              10\n",
       "1TB Hybrid                         9\n",
       "256GB Flash Storage                8\n",
       "16GB Flash Storage                 7\n",
       "32GB SSD                           6\n",
       "1GB SSD                            5\n",
       "128GB Flash Storage                4\n",
       "512GB SSD +  2TB HDD               3\n",
       "16GB SSD                           3\n",
       "1TB                                3\n",
       "256GB SSD +  500GB HDD             2\n",
       "512GB                              2\n",
       "512GB Flash Storage                2\n",
       "128GB SSD +  2TB HDD               2\n",
       "1TB SSD +  1TB HDD                 2\n",
       "1TB + 256GB SSD                    2\n",
       "256GB SSD +  256GB SSD             2\n",
       "512GB SSD                          2\n",
       "32GB HDD                           1\n",
       "128GB HDD                          1\n",
       "240GB SSD                          1\n",
       "8GB SSD                            1\n",
       "508GB Hybrid                       1\n",
       "512GB SSD +  1TB Hybrid            1\n",
       "1TB HDD +  1TB HDD                 1\n",
       "2TB SSD                            1\n",
       "64GB Flash Storage +  1TB HDD      1\n",
       "512GB SSD +  256GB SSD             1\n",
       "512GB SSD +  512GB SSD             1\n",
       "64GB SSD                           1\n",
       " 512GB SSD                         1\n",
       "128Gb SSD                          1\n",
       "1TB SSD + 256GB SSD                1\n",
       "512Gb SSD                          1\n",
       "256GB SSD + 1TB                    1\n",
       "256GB SSD +  1TB Hybrid            1\n",
       "Name: Storage Capacity, dtype: int64"
      ]
     },
     "execution_count": 67,
     "metadata": {},
     "output_type": "execute_result"
    }
   ],
   "source": [
    "#  Storage Capacity\n",
    "data['Storage Capacity'].value_counts()"
   ]
  },
  {
   "cell_type": "code",
   "execution_count": 68,
   "id": "54ec3c16",
   "metadata": {},
   "outputs": [],
   "source": [
    "def set_storage(name):\n",
    "    if name == '512GB SSD' or name == '256GB SSD' or name == '1TB' or name == '1TB SSD':\n",
    "        return name\n",
    "    else:\n",
    "        return 'Other'"
   ]
  },
  {
   "cell_type": "code",
   "execution_count": 69,
   "id": "7bfe45c5",
   "metadata": {},
   "outputs": [],
   "source": [
    "data['Storage Capacity'] = data['Storage Capacity'].apply(set_storage)"
   ]
  },
  {
   "cell_type": "code",
   "execution_count": 70,
   "id": "07b33989",
   "metadata": {},
   "outputs": [
    {
     "data": {
      "text/plain": [
       "Other        780\n",
       "256GB SSD    434\n",
       "512GB SSD    195\n",
       "1TB SSD       33\n",
       "1TB           20\n",
       "Name: Storage Capacity, dtype: int64"
      ]
     },
     "execution_count": 70,
     "metadata": {},
     "output_type": "execute_result"
    }
   ],
   "source": [
    "data['Storage Capacity'].value_counts()"
   ]
  },
  {
   "cell_type": "code",
   "execution_count": 71,
   "id": "1f1a86f3",
   "metadata": {},
   "outputs": [
    {
     "data": {
      "text/html": [
       "<div>\n",
       "<style scoped>\n",
       "    .dataframe tbody tr th:only-of-type {\n",
       "        vertical-align: middle;\n",
       "    }\n",
       "\n",
       "    .dataframe tbody tr th {\n",
       "        vertical-align: top;\n",
       "    }\n",
       "\n",
       "    .dataframe thead th {\n",
       "        text-align: right;\n",
       "    }\n",
       "</style>\n",
       "<table border=\"1\" class=\"dataframe\">\n",
       "  <thead>\n",
       "    <tr style=\"text-align: right;\">\n",
       "      <th></th>\n",
       "      <th>Brand</th>\n",
       "      <th>Model</th>\n",
       "      <th>Processor</th>\n",
       "      <th>RAM</th>\n",
       "      <th>Storage Capacity</th>\n",
       "      <th>Display Size</th>\n",
       "      <th>OS</th>\n",
       "      <th>GPU</th>\n",
       "      <th>Weight</th>\n",
       "      <th>Warranty</th>\n",
       "      <th>Price</th>\n",
       "      <th>cpu_name</th>\n",
       "    </tr>\n",
       "  </thead>\n",
       "  <tbody>\n",
       "    <tr>\n",
       "      <th>0</th>\n",
       "      <td>Hp</td>\n",
       "      <td>HP 15s-GR0514AU</td>\n",
       "      <td>ATHLON 3050U</td>\n",
       "      <td>8</td>\n",
       "      <td>1TB</td>\n",
       "      <td>15.6</td>\n",
       "      <td>Windows 11</td>\n",
       "      <td>Intel</td>\n",
       "      <td>1.7</td>\n",
       "      <td>2</td>\n",
       "      <td>99000.0</td>\n",
       "      <td>Other</td>\n",
       "    </tr>\n",
       "    <tr>\n",
       "      <th>1</th>\n",
       "      <td>Hp</td>\n",
       "      <td>HP 15s-DU3561TU</td>\n",
       "      <td>Intel Core i5</td>\n",
       "      <td>8</td>\n",
       "      <td>1TB</td>\n",
       "      <td>15.6</td>\n",
       "      <td>Windows 11</td>\n",
       "      <td>Intel</td>\n",
       "      <td>1.7</td>\n",
       "      <td>2</td>\n",
       "      <td>172000.0</td>\n",
       "      <td>Intel Core i5</td>\n",
       "    </tr>\n",
       "  </tbody>\n",
       "</table>\n",
       "</div>"
      ],
      "text/plain": [
       "  Brand            Model      Processor  RAM Storage Capacity  Display Size  \\\n",
       "0    Hp  HP 15s-GR0514AU   ATHLON 3050U    8              1TB          15.6   \n",
       "1    Hp  HP 15s-DU3561TU  Intel Core i5    8              1TB          15.6   \n",
       "\n",
       "           OS     GPU  Weight  Warranty     Price       cpu_name  \n",
       "0  Windows 11  Intel      1.7         2   99000.0          Other  \n",
       "1  Windows 11  Intel      1.7         2  172000.0  Intel Core i5  "
      ]
     },
     "execution_count": 71,
     "metadata": {},
     "output_type": "execute_result"
    }
   ],
   "source": [
    "data.head(2)"
   ]
  },
  {
   "cell_type": "code",
   "execution_count": 72,
   "id": "ad9a95db",
   "metadata": {},
   "outputs": [
    {
     "data": {
      "text/plain": [
       "15.6     773\n",
       "14.0     226\n",
       "13.3     171\n",
       "17.3     166\n",
       "12.5      39\n",
       "11.6      34\n",
       "13.9       6\n",
       "13.5       6\n",
       "12.0       6\n",
       "13.0       6\n",
       "12.3       5\n",
       "15.4       4\n",
       "10.1       4\n",
       "16.0       4\n",
       "15.0       4\n",
       "16.1       3\n",
       "156.0      1\n",
       "18.4       1\n",
       "17.0       1\n",
       "14.1       1\n",
       "11.3       1\n",
       "Name: Display Size, dtype: int64"
      ]
     },
     "execution_count": 72,
     "metadata": {},
     "output_type": "execute_result"
    }
   ],
   "source": [
    "# Display Size\n",
    "data['Display Size'].value_counts()"
   ]
  },
  {
   "cell_type": "code",
   "execution_count": 73,
   "id": "b52a1762",
   "metadata": {},
   "outputs": [],
   "source": [
    "def set_display(inpt):\n",
    "    if inpt == 15.6:\n",
    "        return inpt\n",
    "    elif inpt == 14.0:\n",
    "        return inpt\n",
    "    elif inpt == 156.0:\n",
    "        return 15.6\n",
    "    elif inpt == 13.0:\n",
    "        return inpt\n",
    "    elif inpt == 13.3:\n",
    "        return 13.0\n",
    "    else:\n",
    "        return 'Other'"
   ]
  },
  {
   "cell_type": "code",
   "execution_count": 74,
   "id": "395d33ff",
   "metadata": {},
   "outputs": [],
   "source": [
    "data['Display Size'] = data['Display Size'].apply(set_display)"
   ]
  },
  {
   "cell_type": "code",
   "execution_count": 75,
   "id": "1c9e8701",
   "metadata": {},
   "outputs": [
    {
     "data": {
      "text/plain": [
       "15.6     774\n",
       "Other    285\n",
       "14.0     226\n",
       "13.0     177\n",
       "Name: Display Size, dtype: int64"
      ]
     },
     "execution_count": 75,
     "metadata": {},
     "output_type": "execute_result"
    }
   ],
   "source": [
    "data['Display Size'].value_counts()"
   ]
  },
  {
   "cell_type": "code",
   "execution_count": null,
   "id": "74e4b118",
   "metadata": {},
   "outputs": [],
   "source": []
  },
  {
   "cell_type": "code",
   "execution_count": 76,
   "id": "66a29bf8",
   "metadata": {},
   "outputs": [
    {
     "data": {
      "text/plain": [
       "Intel HD Graphics 620      278\n",
       "Intel HD Graphics 520      177\n",
       "Intel UHD Graphics 620      68\n",
       "Nvidia GeForce GTX 1050     66\n",
       "Intel                       58\n",
       "                          ... \n",
       "AMD                          1\n",
       "Nvidia Quadro M620M          1\n",
       "Intel Graphics 620           1\n",
       "AMD Radeon R5 520            1\n",
       "NVIDIAGeForce GTX 960M       1\n",
       "Name: GPU, Length: 137, dtype: int64"
      ]
     },
     "execution_count": 76,
     "metadata": {},
     "output_type": "execute_result"
    }
   ],
   "source": [
    "#  GPU\n",
    "data['GPU'].value_counts()"
   ]
  },
  {
   "cell_type": "code",
   "execution_count": 85,
   "id": "15858dab",
   "metadata": {},
   "outputs": [],
   "source": [
    "data['gpu_name'] = data['GPU'].apply(lambda x:\" \".join(x.split()[0:1]))"
   ]
  },
  {
   "cell_type": "code",
   "execution_count": 86,
   "id": "e87bc37d",
   "metadata": {},
   "outputs": [
    {
     "data": {
      "text/plain": [
       "Intel            777\n",
       "Nvidia           393\n",
       "AMD              215\n",
       "4GB               25\n",
       "NVIDIA            17\n",
       "2GB               16\n",
       "6GB                6\n",
       "8GB                5\n",
       "Apple              3\n",
       "GTX                1\n",
       "16GB               1\n",
       "8C                 1\n",
       "ARM                1\n",
       "NVIDIAGeForce      1\n",
       "Name: gpu_name, dtype: int64"
      ]
     },
     "execution_count": 86,
     "metadata": {},
     "output_type": "execute_result"
    }
   ],
   "source": [
    "data['gpu_name'].value_counts()"
   ]
  },
  {
   "cell_type": "code",
   "execution_count": 87,
   "id": "d2b83ee1",
   "metadata": {},
   "outputs": [],
   "source": [
    "data = data[data['gpu_name'] != 'ARM']"
   ]
  },
  {
   "cell_type": "code",
   "execution_count": 91,
   "id": "92c287b8",
   "metadata": {},
   "outputs": [
    {
     "data": {
      "text/plain": [
       "Intel            777\n",
       "Nvidia           393\n",
       "AMD              215\n",
       "4GB               25\n",
       "NVIDIA            17\n",
       "2GB               16\n",
       "6GB                6\n",
       "8GB                5\n",
       "Apple              3\n",
       "GTX                1\n",
       "16GB               1\n",
       "8C                 1\n",
       "NVIDIAGeForce      1\n",
       "Name: gpu_name, dtype: int64"
      ]
     },
     "execution_count": 91,
     "metadata": {},
     "output_type": "execute_result"
    }
   ],
   "source": [
    "data['gpu_name'].value_counts()"
   ]
  },
  {
   "cell_type": "code",
   "execution_count": 88,
   "id": "5d7d11ed",
   "metadata": {},
   "outputs": [
    {
     "data": {
      "text/html": [
       "<div>\n",
       "<style scoped>\n",
       "    .dataframe tbody tr th:only-of-type {\n",
       "        vertical-align: middle;\n",
       "    }\n",
       "\n",
       "    .dataframe tbody tr th {\n",
       "        vertical-align: top;\n",
       "    }\n",
       "\n",
       "    .dataframe thead th {\n",
       "        text-align: right;\n",
       "    }\n",
       "</style>\n",
       "<table border=\"1\" class=\"dataframe\">\n",
       "  <thead>\n",
       "    <tr style=\"text-align: right;\">\n",
       "      <th></th>\n",
       "      <th>Brand</th>\n",
       "      <th>Model</th>\n",
       "      <th>RAM</th>\n",
       "      <th>Storage Capacity</th>\n",
       "      <th>Display Size</th>\n",
       "      <th>OS</th>\n",
       "      <th>GPU</th>\n",
       "      <th>Weight</th>\n",
       "      <th>Warranty</th>\n",
       "      <th>Price</th>\n",
       "      <th>cpu_name</th>\n",
       "      <th>gpu_name</th>\n",
       "    </tr>\n",
       "  </thead>\n",
       "  <tbody>\n",
       "    <tr>\n",
       "      <th>0</th>\n",
       "      <td>Hp</td>\n",
       "      <td>HP 15s-GR0514AU</td>\n",
       "      <td>8</td>\n",
       "      <td>1TB</td>\n",
       "      <td>15.6</td>\n",
       "      <td>Windows</td>\n",
       "      <td>Intel</td>\n",
       "      <td>1.7</td>\n",
       "      <td>2</td>\n",
       "      <td>99000.0</td>\n",
       "      <td>Other</td>\n",
       "      <td>Intel</td>\n",
       "    </tr>\n",
       "    <tr>\n",
       "      <th>1</th>\n",
       "      <td>Hp</td>\n",
       "      <td>HP 15s-DU3561TU</td>\n",
       "      <td>8</td>\n",
       "      <td>1TB</td>\n",
       "      <td>15.6</td>\n",
       "      <td>Windows</td>\n",
       "      <td>Intel</td>\n",
       "      <td>1.7</td>\n",
       "      <td>2</td>\n",
       "      <td>172000.0</td>\n",
       "      <td>Intel Core i5</td>\n",
       "      <td>Intel</td>\n",
       "    </tr>\n",
       "  </tbody>\n",
       "</table>\n",
       "</div>"
      ],
      "text/plain": [
       "  Brand            Model  RAM Storage Capacity Display Size       OS     GPU  \\\n",
       "0    Hp  HP 15s-GR0514AU    8              1TB         15.6  Windows  Intel    \n",
       "1    Hp  HP 15s-DU3561TU    8              1TB         15.6  Windows  Intel    \n",
       "\n",
       "   Weight  Warranty     Price       cpu_name gpu_name  \n",
       "0     1.7         2   99000.0          Other    Intel  \n",
       "1     1.7         2  172000.0  Intel Core i5    Intel  "
      ]
     },
     "execution_count": 88,
     "metadata": {},
     "output_type": "execute_result"
    }
   ],
   "source": [
    "data.head(2)"
   ]
  },
  {
   "cell_type": "code",
   "execution_count": 77,
   "id": "f761453c",
   "metadata": {},
   "outputs": [
    {
     "data": {
      "text/plain": [
       "Windows        1125\n",
       "Windows 10      108\n",
       "No OS            66\n",
       "Linux            64\n",
       "Windows 11       36\n",
       "Chrome OS        27\n",
       "macOS            13\n",
       "Mac OS           12\n",
       "Windows 10        7\n",
       "Windows 11        2\n",
       "Android           2\n",
       "Name: OS, dtype: int64"
      ]
     },
     "execution_count": 77,
     "metadata": {},
     "output_type": "execute_result"
    }
   ],
   "source": [
    "#  OS\n",
    "data['OS'].value_counts()"
   ]
  },
  {
   "cell_type": "code",
   "execution_count": 78,
   "id": "0d70a828",
   "metadata": {},
   "outputs": [],
   "source": [
    "def set_os(inpt):\n",
    "    if inpt == 'Windows 10' or inpt == \"Windows 11\" or inpt == 'Windows 10 ' or inpt == \"Windows 11 \" or inpt == \"Windows \" or inpt == \"Windows\":\n",
    "        return \"Windows\"\n",
    "    elif inpt == 'Mac OS' or inpt == \"macOS\":\n",
    "        return \"Mac\"\n",
    "    elif inpt == \"Linux\":\n",
    "        return inpt\n",
    "    else:\n",
    "        return \"Other\""
   ]
  },
  {
   "cell_type": "code",
   "execution_count": 79,
   "id": "4c5f3eb8",
   "metadata": {},
   "outputs": [
    {
     "data": {
      "text/plain": [
       "Windows    1278\n",
       "Other        95\n",
       "Linux        64\n",
       "Mac          25\n",
       "Name: OS, dtype: int64"
      ]
     },
     "execution_count": 79,
     "metadata": {},
     "output_type": "execute_result"
    }
   ],
   "source": [
    "data['OS'] = data['OS'].apply(set_os)\n",
    "data['OS'].value_counts()"
   ]
  },
  {
   "cell_type": "code",
   "execution_count": null,
   "id": "8d7774f2",
   "metadata": {},
   "outputs": [],
   "source": [
    "# data['Weight'].value_counts()\n",
    "# data['Warranty'].value_counts()\n",
    "# data['Price'].value_counts()"
   ]
  },
  {
   "cell_type": "code",
   "execution_count": 80,
   "id": "0fed80ba",
   "metadata": {},
   "outputs": [
    {
     "data": {
      "text/html": [
       "<div>\n",
       "<style scoped>\n",
       "    .dataframe tbody tr th:only-of-type {\n",
       "        vertical-align: middle;\n",
       "    }\n",
       "\n",
       "    .dataframe tbody tr th {\n",
       "        vertical-align: top;\n",
       "    }\n",
       "\n",
       "    .dataframe thead th {\n",
       "        text-align: right;\n",
       "    }\n",
       "</style>\n",
       "<table border=\"1\" class=\"dataframe\">\n",
       "  <thead>\n",
       "    <tr style=\"text-align: right;\">\n",
       "      <th></th>\n",
       "      <th>Brand</th>\n",
       "      <th>Model</th>\n",
       "      <th>Processor</th>\n",
       "      <th>RAM</th>\n",
       "      <th>Storage Capacity</th>\n",
       "      <th>Display Size</th>\n",
       "      <th>OS</th>\n",
       "      <th>GPU</th>\n",
       "      <th>Weight</th>\n",
       "      <th>Warranty</th>\n",
       "      <th>Price</th>\n",
       "      <th>cpu_name</th>\n",
       "    </tr>\n",
       "  </thead>\n",
       "  <tbody>\n",
       "    <tr>\n",
       "      <th>0</th>\n",
       "      <td>Hp</td>\n",
       "      <td>HP 15s-GR0514AU</td>\n",
       "      <td>ATHLON 3050U</td>\n",
       "      <td>8</td>\n",
       "      <td>1TB</td>\n",
       "      <td>15.6</td>\n",
       "      <td>Windows</td>\n",
       "      <td>Intel</td>\n",
       "      <td>1.7</td>\n",
       "      <td>2</td>\n",
       "      <td>99000.0</td>\n",
       "      <td>Other</td>\n",
       "    </tr>\n",
       "    <tr>\n",
       "      <th>1</th>\n",
       "      <td>Hp</td>\n",
       "      <td>HP 15s-DU3561TU</td>\n",
       "      <td>Intel Core i5</td>\n",
       "      <td>8</td>\n",
       "      <td>1TB</td>\n",
       "      <td>15.6</td>\n",
       "      <td>Windows</td>\n",
       "      <td>Intel</td>\n",
       "      <td>1.7</td>\n",
       "      <td>2</td>\n",
       "      <td>172000.0</td>\n",
       "      <td>Intel Core i5</td>\n",
       "    </tr>\n",
       "  </tbody>\n",
       "</table>\n",
       "</div>"
      ],
      "text/plain": [
       "  Brand            Model      Processor  RAM Storage Capacity Display Size  \\\n",
       "0    Hp  HP 15s-GR0514AU   ATHLON 3050U    8              1TB         15.6   \n",
       "1    Hp  HP 15s-DU3561TU  Intel Core i5    8              1TB         15.6   \n",
       "\n",
       "        OS     GPU  Weight  Warranty     Price       cpu_name  \n",
       "0  Windows  Intel      1.7         2   99000.0          Other  \n",
       "1  Windows  Intel      1.7         2  172000.0  Intel Core i5  "
      ]
     },
     "execution_count": 80,
     "metadata": {},
     "output_type": "execute_result"
    }
   ],
   "source": [
    "data.head(2)"
   ]
  },
  {
   "cell_type": "code",
   "execution_count": 82,
   "id": "27b93a81",
   "metadata": {},
   "outputs": [],
   "source": [
    "data = data.drop('Processor', axis=1)"
   ]
  },
  {
   "cell_type": "code",
   "execution_count": 83,
   "id": "3d18cc9a",
   "metadata": {},
   "outputs": [
    {
     "data": {
      "text/html": [
       "<div>\n",
       "<style scoped>\n",
       "    .dataframe tbody tr th:only-of-type {\n",
       "        vertical-align: middle;\n",
       "    }\n",
       "\n",
       "    .dataframe tbody tr th {\n",
       "        vertical-align: top;\n",
       "    }\n",
       "\n",
       "    .dataframe thead th {\n",
       "        text-align: right;\n",
       "    }\n",
       "</style>\n",
       "<table border=\"1\" class=\"dataframe\">\n",
       "  <thead>\n",
       "    <tr style=\"text-align: right;\">\n",
       "      <th></th>\n",
       "      <th>Brand</th>\n",
       "      <th>Model</th>\n",
       "      <th>RAM</th>\n",
       "      <th>Storage Capacity</th>\n",
       "      <th>Display Size</th>\n",
       "      <th>OS</th>\n",
       "      <th>GPU</th>\n",
       "      <th>Weight</th>\n",
       "      <th>Warranty</th>\n",
       "      <th>Price</th>\n",
       "      <th>cpu_name</th>\n",
       "    </tr>\n",
       "  </thead>\n",
       "  <tbody>\n",
       "    <tr>\n",
       "      <th>0</th>\n",
       "      <td>Hp</td>\n",
       "      <td>HP 15s-GR0514AU</td>\n",
       "      <td>8</td>\n",
       "      <td>1TB</td>\n",
       "      <td>15.6</td>\n",
       "      <td>Windows</td>\n",
       "      <td>Intel</td>\n",
       "      <td>1.7</td>\n",
       "      <td>2</td>\n",
       "      <td>99000.0</td>\n",
       "      <td>Other</td>\n",
       "    </tr>\n",
       "    <tr>\n",
       "      <th>1</th>\n",
       "      <td>Hp</td>\n",
       "      <td>HP 15s-DU3561TU</td>\n",
       "      <td>8</td>\n",
       "      <td>1TB</td>\n",
       "      <td>15.6</td>\n",
       "      <td>Windows</td>\n",
       "      <td>Intel</td>\n",
       "      <td>1.7</td>\n",
       "      <td>2</td>\n",
       "      <td>172000.0</td>\n",
       "      <td>Intel Core i5</td>\n",
       "    </tr>\n",
       "  </tbody>\n",
       "</table>\n",
       "</div>"
      ],
      "text/plain": [
       "  Brand            Model  RAM Storage Capacity Display Size       OS     GPU  \\\n",
       "0    Hp  HP 15s-GR0514AU    8              1TB         15.6  Windows  Intel    \n",
       "1    Hp  HP 15s-DU3561TU    8              1TB         15.6  Windows  Intel    \n",
       "\n",
       "   Weight  Warranty     Price       cpu_name  \n",
       "0     1.7         2   99000.0          Other  \n",
       "1     1.7         2  172000.0  Intel Core i5  "
      ]
     },
     "execution_count": 83,
     "metadata": {},
     "output_type": "execute_result"
    }
   ],
   "source": [
    "data.head(2)"
   ]
  },
  {
   "cell_type": "code",
   "execution_count": 92,
   "id": "5c21856d",
   "metadata": {},
   "outputs": [
    {
     "data": {
      "text/plain": [
       "Intel            777\n",
       "Nvidia           393\n",
       "AMD              215\n",
       "4GB               25\n",
       "NVIDIA            17\n",
       "2GB               16\n",
       "6GB                6\n",
       "8GB                5\n",
       "Apple              3\n",
       "GTX                1\n",
       "16GB               1\n",
       "8C                 1\n",
       "NVIDIAGeForce      1\n",
       "Name: gpu_name, dtype: int64"
      ]
     },
     "execution_count": 92,
     "metadata": {},
     "output_type": "execute_result"
    }
   ],
   "source": [
    "#  GPU\n",
    "data['gpu_name'].value_counts()"
   ]
  },
  {
   "cell_type": "code",
   "execution_count": 93,
   "id": "27bf2392",
   "metadata": {},
   "outputs": [],
   "source": [
    "def set_gpu(inpt):\n",
    "    if inpt == \"Intel \" or inpt == \"Intel\":\n",
    "        return \"Intel\"\n",
    "    elif inpt == 'AMD' or inpt == \"AMD \":\n",
    "        return \"AMD\"\n",
    "    elif inpt == \"Nvidia\" or inpt == \"NVIDIA\":\n",
    "        return \"NVIDIA\"\n",
    "    else:\n",
    "        return \"Other\""
   ]
  },
  {
   "cell_type": "code",
   "execution_count": 94,
   "id": "6947c2b2",
   "metadata": {},
   "outputs": [
    {
     "data": {
      "text/plain": [
       "Intel     777\n",
       "NVIDIA    410\n",
       "AMD       215\n",
       "Other      59\n",
       "Name: gpu_name, dtype: int64"
      ]
     },
     "execution_count": 94,
     "metadata": {},
     "output_type": "execute_result"
    }
   ],
   "source": [
    "data['gpu_name'] = data['gpu_name'].apply(set_gpu)\n",
    "data['gpu_name'].value_counts()"
   ]
  },
  {
   "cell_type": "code",
   "execution_count": 95,
   "id": "d522b614",
   "metadata": {},
   "outputs": [
    {
     "data": {
      "text/html": [
       "<div>\n",
       "<style scoped>\n",
       "    .dataframe tbody tr th:only-of-type {\n",
       "        vertical-align: middle;\n",
       "    }\n",
       "\n",
       "    .dataframe tbody tr th {\n",
       "        vertical-align: top;\n",
       "    }\n",
       "\n",
       "    .dataframe thead th {\n",
       "        text-align: right;\n",
       "    }\n",
       "</style>\n",
       "<table border=\"1\" class=\"dataframe\">\n",
       "  <thead>\n",
       "    <tr style=\"text-align: right;\">\n",
       "      <th></th>\n",
       "      <th>Brand</th>\n",
       "      <th>Model</th>\n",
       "      <th>RAM</th>\n",
       "      <th>Storage Capacity</th>\n",
       "      <th>Display Size</th>\n",
       "      <th>OS</th>\n",
       "      <th>GPU</th>\n",
       "      <th>Weight</th>\n",
       "      <th>Warranty</th>\n",
       "      <th>Price</th>\n",
       "      <th>cpu_name</th>\n",
       "      <th>gpu_name</th>\n",
       "    </tr>\n",
       "  </thead>\n",
       "  <tbody>\n",
       "    <tr>\n",
       "      <th>0</th>\n",
       "      <td>Hp</td>\n",
       "      <td>HP 15s-GR0514AU</td>\n",
       "      <td>8</td>\n",
       "      <td>1TB</td>\n",
       "      <td>15.6</td>\n",
       "      <td>Windows</td>\n",
       "      <td>Intel</td>\n",
       "      <td>1.7</td>\n",
       "      <td>2</td>\n",
       "      <td>99000.0</td>\n",
       "      <td>Other</td>\n",
       "      <td>Intel</td>\n",
       "    </tr>\n",
       "    <tr>\n",
       "      <th>1</th>\n",
       "      <td>Hp</td>\n",
       "      <td>HP 15s-DU3561TU</td>\n",
       "      <td>8</td>\n",
       "      <td>1TB</td>\n",
       "      <td>15.6</td>\n",
       "      <td>Windows</td>\n",
       "      <td>Intel</td>\n",
       "      <td>1.7</td>\n",
       "      <td>2</td>\n",
       "      <td>172000.0</td>\n",
       "      <td>Intel Core i5</td>\n",
       "      <td>Intel</td>\n",
       "    </tr>\n",
       "  </tbody>\n",
       "</table>\n",
       "</div>"
      ],
      "text/plain": [
       "  Brand            Model  RAM Storage Capacity Display Size       OS     GPU  \\\n",
       "0    Hp  HP 15s-GR0514AU    8              1TB         15.6  Windows  Intel    \n",
       "1    Hp  HP 15s-DU3561TU    8              1TB         15.6  Windows  Intel    \n",
       "\n",
       "   Weight  Warranty     Price       cpu_name gpu_name  \n",
       "0     1.7         2   99000.0          Other    Intel  \n",
       "1     1.7         2  172000.0  Intel Core i5    Intel  "
      ]
     },
     "execution_count": 95,
     "metadata": {},
     "output_type": "execute_result"
    }
   ],
   "source": [
    "data.head(2)"
   ]
  },
  {
   "cell_type": "code",
   "execution_count": 96,
   "id": "81eb5787",
   "metadata": {},
   "outputs": [],
   "source": [
    "data = data.drop('GPU', axis=1)"
   ]
  },
  {
   "cell_type": "code",
   "execution_count": 97,
   "id": "0e1eb252",
   "metadata": {},
   "outputs": [
    {
     "data": {
      "text/html": [
       "<div>\n",
       "<style scoped>\n",
       "    .dataframe tbody tr th:only-of-type {\n",
       "        vertical-align: middle;\n",
       "    }\n",
       "\n",
       "    .dataframe tbody tr th {\n",
       "        vertical-align: top;\n",
       "    }\n",
       "\n",
       "    .dataframe thead th {\n",
       "        text-align: right;\n",
       "    }\n",
       "</style>\n",
       "<table border=\"1\" class=\"dataframe\">\n",
       "  <thead>\n",
       "    <tr style=\"text-align: right;\">\n",
       "      <th></th>\n",
       "      <th>Brand</th>\n",
       "      <th>Model</th>\n",
       "      <th>RAM</th>\n",
       "      <th>Storage Capacity</th>\n",
       "      <th>Display Size</th>\n",
       "      <th>OS</th>\n",
       "      <th>Weight</th>\n",
       "      <th>Warranty</th>\n",
       "      <th>Price</th>\n",
       "      <th>cpu_name</th>\n",
       "      <th>gpu_name</th>\n",
       "    </tr>\n",
       "  </thead>\n",
       "  <tbody>\n",
       "    <tr>\n",
       "      <th>0</th>\n",
       "      <td>Hp</td>\n",
       "      <td>HP 15s-GR0514AU</td>\n",
       "      <td>8</td>\n",
       "      <td>1TB</td>\n",
       "      <td>15.6</td>\n",
       "      <td>Windows</td>\n",
       "      <td>1.7</td>\n",
       "      <td>2</td>\n",
       "      <td>99000.0</td>\n",
       "      <td>Other</td>\n",
       "      <td>Intel</td>\n",
       "    </tr>\n",
       "    <tr>\n",
       "      <th>1</th>\n",
       "      <td>Hp</td>\n",
       "      <td>HP 15s-DU3561TU</td>\n",
       "      <td>8</td>\n",
       "      <td>1TB</td>\n",
       "      <td>15.6</td>\n",
       "      <td>Windows</td>\n",
       "      <td>1.7</td>\n",
       "      <td>2</td>\n",
       "      <td>172000.0</td>\n",
       "      <td>Intel Core i5</td>\n",
       "      <td>Intel</td>\n",
       "    </tr>\n",
       "  </tbody>\n",
       "</table>\n",
       "</div>"
      ],
      "text/plain": [
       "  Brand            Model  RAM Storage Capacity Display Size       OS  Weight  \\\n",
       "0    Hp  HP 15s-GR0514AU    8              1TB         15.6  Windows     1.7   \n",
       "1    Hp  HP 15s-DU3561TU    8              1TB         15.6  Windows     1.7   \n",
       "\n",
       "   Warranty     Price       cpu_name gpu_name  \n",
       "0         2   99000.0          Other    Intel  \n",
       "1         2  172000.0  Intel Core i5    Intel  "
      ]
     },
     "execution_count": 97,
     "metadata": {},
     "output_type": "execute_result"
    }
   ],
   "source": [
    "data.head(2)"
   ]
  },
  {
   "cell_type": "code",
   "execution_count": 98,
   "id": "00cc60ae",
   "metadata": {},
   "outputs": [
    {
     "data": {
      "text/plain": [
       "XPS 13                30\n",
       "Inspiron 3567         29\n",
       "250 G6                21\n",
       "Vostro 3568           19\n",
       "Legion Y520-15IKBN    19\n",
       "                      ..\n",
       "Rog GL753VE-GC070T     1\n",
       "Rog GL753VD-GC042T     1\n",
       "Precision 5520         1\n",
       "Precision 3510         1\n",
       "HP 15s-GR0514AU        1\n",
       "Name: Model, Length: 745, dtype: int64"
      ]
     },
     "execution_count": 98,
     "metadata": {},
     "output_type": "execute_result"
    }
   ],
   "source": [
    "data['Model'].value_counts()"
   ]
  },
  {
   "cell_type": "markdown",
   "id": "a0c481ab",
   "metadata": {},
   "source": [
    "# Model Building and Selection"
   ]
  },
  {
   "cell_type": "code",
   "execution_count": 99,
   "id": "c2e7cb8b",
   "metadata": {},
   "outputs": [],
   "source": [
    "x = data.drop('Model', axis=1)\n",
    "y = data['Model']"
   ]
  },
  {
   "cell_type": "code",
   "execution_count": 100,
   "id": "43ea841c",
   "metadata": {},
   "outputs": [
    {
     "data": {
      "text/html": [
       "<div>\n",
       "<style scoped>\n",
       "    .dataframe tbody tr th:only-of-type {\n",
       "        vertical-align: middle;\n",
       "    }\n",
       "\n",
       "    .dataframe tbody tr th {\n",
       "        vertical-align: top;\n",
       "    }\n",
       "\n",
       "    .dataframe thead th {\n",
       "        text-align: right;\n",
       "    }\n",
       "</style>\n",
       "<table border=\"1\" class=\"dataframe\">\n",
       "  <thead>\n",
       "    <tr style=\"text-align: right;\">\n",
       "      <th></th>\n",
       "      <th>Brand</th>\n",
       "      <th>RAM</th>\n",
       "      <th>Storage Capacity</th>\n",
       "      <th>Display Size</th>\n",
       "      <th>OS</th>\n",
       "      <th>Weight</th>\n",
       "      <th>Warranty</th>\n",
       "      <th>Price</th>\n",
       "      <th>cpu_name</th>\n",
       "      <th>gpu_name</th>\n",
       "    </tr>\n",
       "  </thead>\n",
       "  <tbody>\n",
       "    <tr>\n",
       "      <th>0</th>\n",
       "      <td>Hp</td>\n",
       "      <td>8</td>\n",
       "      <td>1TB</td>\n",
       "      <td>15.6</td>\n",
       "      <td>Windows</td>\n",
       "      <td>1.7</td>\n",
       "      <td>2</td>\n",
       "      <td>99000.0</td>\n",
       "      <td>Other</td>\n",
       "      <td>Intel</td>\n",
       "    </tr>\n",
       "  </tbody>\n",
       "</table>\n",
       "</div>"
      ],
      "text/plain": [
       "  Brand  RAM Storage Capacity Display Size       OS  Weight  Warranty  \\\n",
       "0    Hp    8              1TB         15.6  Windows     1.7         2   \n",
       "\n",
       "     Price cpu_name gpu_name  \n",
       "0  99000.0    Other    Intel  "
      ]
     },
     "execution_count": 100,
     "metadata": {},
     "output_type": "execute_result"
    }
   ],
   "source": [
    "x.head(1)"
   ]
  },
  {
   "cell_type": "code",
   "execution_count": 101,
   "id": "7636136c",
   "metadata": {},
   "outputs": [
    {
     "data": {
      "text/plain": [
       "0    HP 15s-GR0514AU\n",
       "Name: Model, dtype: object"
      ]
     },
     "execution_count": 101,
     "metadata": {},
     "output_type": "execute_result"
    }
   ],
   "source": [
    "y.head(1)"
   ]
  },
  {
   "cell_type": "code",
   "execution_count": 102,
   "id": "396e2d2b",
   "metadata": {},
   "outputs": [],
   "source": [
    "x = pd.get_dummies(x)"
   ]
  },
  {
   "cell_type": "code",
   "execution_count": 103,
   "id": "2a9c5a68",
   "metadata": {},
   "outputs": [],
   "source": [
    "from sklearn.model_selection import train_test_split\n",
    "x_train, x_test, y_train, y_test = train_test_split(x, y, test_size = 0.25)"
   ]
  },
  {
   "cell_type": "code",
   "execution_count": 104,
   "id": "f59ef54e",
   "metadata": {},
   "outputs": [],
   "source": [
    "# Model training\n",
    "def model_acc(model):\n",
    "    model.fit(x_train, y_train)\n",
    "    acc = model.score(x_test, y_test)\n",
    "    print(str(model)+ ' --> ' +str(acc))"
   ]
  },
  {
   "cell_type": "code",
   "execution_count": 105,
   "id": "8d2a18e0",
   "metadata": {},
   "outputs": [
    {
     "name": "stdout",
     "output_type": "stream",
     "text": [
      "DecisionTreeClassifier() --> 0.30327868852459017\n",
      "RandomForestClassifier() --> 0.3251366120218579\n",
      "MultinomialNB() --> 0.1448087431693989\n",
      "MLPClassifier() --> 0.01092896174863388\n"
     ]
    }
   ],
   "source": [
    "from sklearn.tree import DecisionTreeClassifier\n",
    "dt = DecisionTreeClassifier()\n",
    "model_acc(dt)\n",
    "\n",
    "from sklearn.ensemble import RandomForestClassifier\n",
    "rf = RandomForestClassifier()\n",
    "model_acc(rf)\n",
    "\n",
    "from sklearn.naive_bayes import MultinomialNB\n",
    "nb = MultinomialNB()\n",
    "model_acc(nb)\n",
    "\n",
    "from sklearn.neural_network import MLPClassifier\n",
    "clf = MLPClassifier()\n",
    "model_acc(clf)"
   ]
  },
  {
   "cell_type": "code",
   "execution_count": 106,
   "id": "65354590",
   "metadata": {},
   "outputs": [
    {
     "data": {
      "text/plain": [
       "Index(['RAM', 'Weight', 'Warranty', 'Price', 'Brand_Acer', 'Brand_Asus',\n",
       "       'Brand_Dell', 'Brand_Hp', 'Brand_Lenovo', 'Brand_Other',\n",
       "       'Storage Capacity_1TB', 'Storage Capacity_1TB SSD',\n",
       "       'Storage Capacity_256GB SSD', 'Storage Capacity_512GB SSD',\n",
       "       'Storage Capacity_Other', 'Display Size_13.0', 'Display Size_14.0',\n",
       "       'Display Size_15.6', 'Display Size_Other', 'OS_Linux', 'OS_Mac',\n",
       "       'OS_Other', 'OS_Windows', 'cpu_name_AMD', 'cpu_name_Intel Core i3',\n",
       "       'cpu_name_Intel Core i5', 'cpu_name_Intel Core i7', 'cpu_name_Other',\n",
       "       'gpu_name_AMD', 'gpu_name_Intel', 'gpu_name_NVIDIA', 'gpu_name_Other'],\n",
       "      dtype='object')"
      ]
     },
     "execution_count": 106,
     "metadata": {},
     "output_type": "execute_result"
    }
   ],
   "source": [
    "x_test.columns"
   ]
  },
  {
   "cell_type": "code",
   "execution_count": 107,
   "id": "631f01a6",
   "metadata": {},
   "outputs": [
    {
     "name": "stderr",
     "output_type": "stream",
     "text": [
      "C:\\Users\\HP\\Desktop\\MY\\Machine-Learning\\LaptopRecommendation System\\model\\env\\lib\\site-packages\\sklearn\\base.py:450: UserWarning: X does not have valid feature names, but RandomForestClassifier was fitted with feature names\n",
      "  warnings.warn(\n"
     ]
    },
    {
     "data": {
      "text/plain": [
       "array(['ASUS Expertbook B1500'], dtype=object)"
      ]
     },
     "execution_count": 107,
     "metadata": {},
     "output_type": "execute_result"
    }
   ],
   "source": [
    "pred_value = rf.predict([[8, 1.7, 2, 175000, 0, 1, 0, 0, 0, 0, 1, 0, 0, 0, 0, 0, 0, 1, 0, 0, 0, 0, 1, 0, 0, 1, 0, 0, 0, 1, 0, 0]])\n",
    "pred_value"
   ]
  },
  {
   "cell_type": "markdown",
   "id": "7f037720",
   "metadata": {},
   "source": [
    "# SMOTE Technique"
   ]
  },
  {
   "cell_type": "code",
   "execution_count": 110,
   "id": "6ac6bd03",
   "metadata": {},
   "outputs": [
    {
     "name": "stdout",
     "output_type": "stream",
     "text": [
      "Requirement already satisfied: imbalanced-learn in c:\\users\\hp\\desktop\\my\\machine-learning\\laptoprecommendation system\\model\\env\\lib\\site-packages (0.9.0)\n",
      "Requirement already satisfied: numpy>=1.14.6 in c:\\users\\hp\\desktop\\my\\machine-learning\\laptoprecommendation system\\model\\env\\lib\\site-packages (from imbalanced-learn) (1.22.3)\n",
      "Requirement already satisfied: joblib>=0.11 in c:\\users\\hp\\desktop\\my\\machine-learning\\laptoprecommendation system\\model\\env\\lib\\site-packages (from imbalanced-learn) (1.1.0)\n",
      "Requirement already satisfied: scikit-learn>=1.0.1 in c:\\users\\hp\\desktop\\my\\machine-learning\\laptoprecommendation system\\model\\env\\lib\\site-packages (from imbalanced-learn) (1.0.2)\n",
      "Requirement already satisfied: threadpoolctl>=2.0.0 in c:\\users\\hp\\desktop\\my\\machine-learning\\laptoprecommendation system\\model\\env\\lib\\site-packages (from imbalanced-learn) (3.1.0)\n",
      "Requirement already satisfied: scipy>=1.1.0 in c:\\users\\hp\\desktop\\my\\machine-learning\\laptoprecommendation system\\model\\env\\lib\\site-packages (from imbalanced-learn) (1.8.0)\n"
     ]
    }
   ],
   "source": [
    "!pip install imbalanced-learn"
   ]
  },
  {
   "cell_type": "code",
   "execution_count": 111,
   "id": "9354501d",
   "metadata": {},
   "outputs": [],
   "source": [
    "from imblearn.over_sampling import RandomOverSampler\n",
    "oversample = RandomOverSampler()\n",
    "x_over, y_over = oversample.fit_resample(x, y)"
   ]
  },
  {
   "cell_type": "code",
   "execution_count": 112,
   "id": "12ea3a86",
   "metadata": {},
   "outputs": [
    {
     "data": {
      "text/plain": [
       "HP 15s-GR0514AU                        30\n",
       "V110-15ISK (3855U/4GB/500GB/W10)       30\n",
       "Chromebook X360                        30\n",
       "Gram 15Z975                            30\n",
       "Aspire VX5-591G                        30\n",
       "                                       ..\n",
       "Aspire E5-576G                         30\n",
       "Legion Y720-15IKB                      30\n",
       "Precision 7520                         30\n",
       "Aspire 7                               30\n",
       "X553SA-XX031T (N3050/4GB/500GB/W10)    30\n",
       "Name: Model, Length: 745, dtype: int64"
      ]
     },
     "execution_count": 112,
     "metadata": {},
     "output_type": "execute_result"
    }
   ],
   "source": [
    "y_over.value_counts()"
   ]
  },
  {
   "cell_type": "code",
   "execution_count": 113,
   "id": "bf973719",
   "metadata": {},
   "outputs": [],
   "source": [
    "from sklearn.ensemble import RandomForestClassifier\n",
    "rf = RandomForestClassifier()"
   ]
  },
  {
   "cell_type": "code",
   "execution_count": 114,
   "id": "6da240f1",
   "metadata": {},
   "outputs": [],
   "source": [
    "from sklearn.model_selection import train_test_split\n",
    "x_over_train, x_over_test, y_over_train, y_over_test = train_test_split(x, y, test_size = 0.25)"
   ]
  },
  {
   "cell_type": "code",
   "execution_count": 116,
   "id": "b12d8bd3",
   "metadata": {},
   "outputs": [],
   "source": [
    "def model_acc(model):\n",
    "    model.fit(x_train, y_train)\n",
    "    acc = model.score(x_test, y_test)\n",
    "    print(str(model)+ ' --> ' +str(acc))"
   ]
  },
  {
   "cell_type": "code",
   "execution_count": 117,
   "id": "130434cc",
   "metadata": {},
   "outputs": [
    {
     "name": "stdout",
     "output_type": "stream",
     "text": [
      "DecisionTreeClassifier() --> 0.3251366120218579\n",
      "RandomForestClassifier() --> 0.3224043715846995\n",
      "MultinomialNB() --> 0.1448087431693989\n",
      "MLPClassifier() --> 0.00273224043715847\n"
     ]
    }
   ],
   "source": [
    "from sklearn.tree import DecisionTreeClassifier\n",
    "dt = DecisionTreeClassifier()\n",
    "model_acc(dt)\n",
    "\n",
    "from sklearn.ensemble import RandomForestClassifier\n",
    "rf = RandomForestClassifier()\n",
    "model_acc(rf)\n",
    "\n",
    "from sklearn.naive_bayes import MultinomialNB\n",
    "nb = MultinomialNB()\n",
    "model_acc(nb)\n",
    "\n",
    "from sklearn.neural_network import MLPClassifier\n",
    "clf = MLPClassifier()\n",
    "model_acc(clf)"
   ]
  },
  {
   "cell_type": "code",
   "execution_count": null,
   "id": "3078ab9f",
   "metadata": {},
   "outputs": [],
   "source": []
  }
 ],
 "metadata": {
  "kernelspec": {
   "display_name": "Python 3 (ipykernel)",
   "language": "python",
   "name": "python3"
  },
  "language_info": {
   "codemirror_mode": {
    "name": "ipython",
    "version": 3
   },
   "file_extension": ".py",
   "mimetype": "text/x-python",
   "name": "python",
   "nbconvert_exporter": "python",
   "pygments_lexer": "ipython3",
   "version": "3.10.3"
  }
 },
 "nbformat": 4,
 "nbformat_minor": 5
}
